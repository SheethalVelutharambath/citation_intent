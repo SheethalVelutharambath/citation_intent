{
  "metadata": {
    "kernelspec": {
      "language": "python",
      "display_name": "Python 3",
      "name": "python3"
    },
    "language_info": {
      "name": "python",
      "version": "3.7.12",
      "mimetype": "text/x-python",
      "codemirror_mode": {
        "name": "ipython",
        "version": 3
      },
      "pygments_lexer": "ipython3",
      "nbconvert_exporter": "python",
      "file_extension": ".py"
    },
    "colab": {
      "name": "lstm.ipynb",
      "provenance": [],
      "include_colab_link": true
    }
  },
  "nbformat_minor": 0,
  "nbformat": 4,
  "cells": [
    {
      "cell_type": "markdown",
      "metadata": {
        "id": "view-in-github",
        "colab_type": "text"
      },
      "source": [
        "<a href=\"https://colab.research.google.com/github/SheethalVelutharambath/citation_intent/blob/main/lstm.ipynb\" target=\"_parent\"><img src=\"https://colab.research.google.com/assets/colab-badge.svg\" alt=\"Open In Colab\"/></a>"
      ]
    },
    {
      "cell_type": "code",
      "source": [
        "import tensorflow as tf\n",
        "import matplotlib.pyplot as plt\n",
        "import pandas as pd\n",
        "import numpy as np\n",
        "\n",
        "\n",
        "import nltk \n",
        "nltk.download('stopwords')\n",
        "from nltk.corpus import stopwords\n",
        "from nltk.stem import SnowballStemmer\n",
        "\n",
        "\n",
        "\n",
        "from sklearn.model_selection import train_test_split\n",
        "from sklearn.preprocessing import LabelEncoder\n",
        "\n",
        "\n",
        "import re\n",
        "\n",
        "print(\"Tensorflow Version\",tf.__version__)"
      ],
      "metadata": {
        "_uuid": "d629ff2d2480ee46fbb7e2d37f6b5fab8052498a",
        "_cell_guid": "79c7e3d0-c299-4dcb-8224-4455121ee9b0",
        "execution": {
          "iopub.status.busy": "2022-07-29T12:05:11.504455Z",
          "iopub.execute_input": "2022-07-29T12:05:11.504987Z",
          "iopub.status.idle": "2022-07-29T12:05:17.373454Z",
          "shell.execute_reply.started": "2022-07-29T12:05:11.504868Z",
          "shell.execute_reply": "2022-07-29T12:05:17.372401Z"
        },
        "trusted": true,
        "id": "yZd_IK95JPe1"
      },
      "execution_count": null,
      "outputs": []
    },
    {
      "cell_type": "code",
      "source": [
        "train = pd.read_csv(\"../input/cite-dataset/tsv/train.tsv\", sep= '\\t',names=[\"id\", \"explicit\", \"text\", \"label\"])\n",
        "dev = pd.read_csv(\"../input/cite-dataset/tsv/dev.tsv\", sep= '\\t', names=[\"id\", \"explicit\", \"text\", \"label\"])\n",
        "test = pd.read_csv(\"../input/cite-dataset/tsv/test.tsv\", sep= '\\t', names=[\"id\", \"explicit\", \"text\", \"label\"])"
      ],
      "metadata": {
        "execution": {
          "iopub.status.busy": "2022-07-29T12:07:05.895950Z",
          "iopub.execute_input": "2022-07-29T12:07:05.897567Z",
          "iopub.status.idle": "2022-07-29T12:07:06.054809Z",
          "shell.execute_reply.started": "2022-07-29T12:07:05.897522Z",
          "shell.execute_reply": "2022-07-29T12:07:06.053836Z"
        },
        "trusted": true,
        "id": "6NTqcC2tJPe6"
      },
      "execution_count": null,
      "outputs": []
    },
    {
      "cell_type": "code",
      "source": [
        "train.drop(['id', 'explicit'], axis = 1, inplace = True)\n",
        "test.drop(['id', 'explicit'], axis = 1, inplace = True)"
      ],
      "metadata": {
        "execution": {
          "iopub.status.busy": "2022-07-29T12:07:09.124845Z",
          "iopub.execute_input": "2022-07-29T12:07:09.125207Z",
          "iopub.status.idle": "2022-07-29T12:07:09.141606Z",
          "shell.execute_reply.started": "2022-07-29T12:07:09.125175Z",
          "shell.execute_reply": "2022-07-29T12:07:09.140437Z"
        },
        "trusted": true,
        "id": "3B0LvQWQJPe8"
      },
      "execution_count": null,
      "outputs": []
    },
    {
      "cell_type": "code",
      "source": [
        "lab_to_sentiment = {\"background\":0, \"method\":1, \"result\":2}"
      ],
      "metadata": {
        "execution": {
          "iopub.status.busy": "2022-07-29T12:07:09.962488Z",
          "iopub.execute_input": "2022-07-29T12:07:09.962872Z",
          "iopub.status.idle": "2022-07-29T12:07:09.968276Z",
          "shell.execute_reply.started": "2022-07-29T12:07:09.962838Z",
          "shell.execute_reply": "2022-07-29T12:07:09.966790Z"
        },
        "trusted": true,
        "id": "jdokmPfkJPe8"
      },
      "execution_count": null,
      "outputs": []
    },
    {
      "cell_type": "code",
      "source": [
        "def label_decoder(label):\n",
        "    return lab_to_sentiment[label]\n",
        "train[\"label1\"] = train[\"label\"].apply(lambda x: label_decoder(x))\n",
        "train.head()"
      ],
      "metadata": {
        "execution": {
          "iopub.status.busy": "2022-07-29T12:07:19.510409Z",
          "iopub.execute_input": "2022-07-29T12:07:19.510816Z",
          "iopub.status.idle": "2022-07-29T12:07:19.531014Z",
          "shell.execute_reply.started": "2022-07-29T12:07:19.510781Z",
          "shell.execute_reply": "2022-07-29T12:07:19.529792Z"
        },
        "trusted": true,
        "id": "ocUwFwAJJPe8"
      },
      "execution_count": null,
      "outputs": []
    },
    {
      "cell_type": "code",
      "source": [
        "test[\"label1\"] = test[\"label\"].apply(lambda x: label_decoder(x))\n",
        "test.head()"
      ],
      "metadata": {
        "execution": {
          "iopub.status.busy": "2022-07-29T12:07:24.765449Z",
          "iopub.execute_input": "2022-07-29T12:07:24.765835Z",
          "iopub.status.idle": "2022-07-29T12:07:24.780001Z",
          "shell.execute_reply.started": "2022-07-29T12:07:24.765802Z",
          "shell.execute_reply": "2022-07-29T12:07:24.778692Z"
        },
        "trusted": true,
        "id": "dZSS1nmqJPe9"
      },
      "execution_count": null,
      "outputs": []
    },
    {
      "cell_type": "code",
      "source": [
        "stop_words = stopwords.words('english')\n",
        "stemmer = SnowballStemmer('english')\n",
        "\n",
        "text_cleaning_re = \"@\\S+|https?:\\S+|http?:\\S|[^A-Za-z0-9]+\""
      ],
      "metadata": {
        "execution": {
          "iopub.status.busy": "2022-07-29T12:07:28.050133Z",
          "iopub.execute_input": "2022-07-29T12:07:28.050832Z",
          "iopub.status.idle": "2022-07-29T12:07:28.058883Z",
          "shell.execute_reply.started": "2022-07-29T12:07:28.050792Z",
          "shell.execute_reply": "2022-07-29T12:07:28.057784Z"
        },
        "trusted": true,
        "id": "qoKU_-2pJPe-"
      },
      "execution_count": null,
      "outputs": []
    },
    {
      "cell_type": "code",
      "source": [
        "def preprocess(text, stem=False):\n",
        "  text = re.sub(text_cleaning_re, ' ', str(text).lower()).strip()\n",
        "  tokens = []\n",
        "  for token in text.split():\n",
        "    if token not in stop_words:\n",
        "      if stem:\n",
        "        tokens.append(stemmer.stem(token))\n",
        "      else:\n",
        "        tokens.append(token)\n",
        "  return \" \".join(tokens)"
      ],
      "metadata": {
        "execution": {
          "iopub.status.busy": "2022-07-29T12:07:28.867354Z",
          "iopub.execute_input": "2022-07-29T12:07:28.868307Z",
          "iopub.status.idle": "2022-07-29T12:07:28.876162Z",
          "shell.execute_reply.started": "2022-07-29T12:07:28.868269Z",
          "shell.execute_reply": "2022-07-29T12:07:28.875150Z"
        },
        "trusted": true,
        "id": "VtT5voF9JPe-"
      },
      "execution_count": null,
      "outputs": []
    },
    {
      "cell_type": "code",
      "source": [
        "train[\"text1\"] = train[\"text\"].apply(lambda x: preprocess(x))"
      ],
      "metadata": {
        "execution": {
          "iopub.status.busy": "2022-07-29T12:07:34.031970Z",
          "iopub.execute_input": "2022-07-29T12:07:34.032330Z",
          "iopub.status.idle": "2022-07-29T12:07:35.016415Z",
          "shell.execute_reply.started": "2022-07-29T12:07:34.032299Z",
          "shell.execute_reply": "2022-07-29T12:07:35.015449Z"
        },
        "trusted": true,
        "id": "hKq74_P8JPfA"
      },
      "execution_count": null,
      "outputs": []
    },
    {
      "cell_type": "code",
      "source": [
        "test[\"text1\"] = test[\"text\"].apply(lambda x: preprocess(x))"
      ],
      "metadata": {
        "execution": {
          "iopub.status.busy": "2022-07-29T12:07:35.018340Z",
          "iopub.execute_input": "2022-07-29T12:07:35.018714Z",
          "iopub.status.idle": "2022-07-29T12:07:35.246792Z",
          "shell.execute_reply.started": "2022-07-29T12:07:35.018678Z",
          "shell.execute_reply": "2022-07-29T12:07:35.245879Z"
        },
        "trusted": true,
        "id": "nlbRV8otJPfA"
      },
      "execution_count": null,
      "outputs": []
    },
    {
      "cell_type": "code",
      "source": [
        "MAX_SEQUENCE_LENGTH = 100"
      ],
      "metadata": {
        "execution": {
          "iopub.status.busy": "2022-07-29T12:07:35.248617Z",
          "iopub.execute_input": "2022-07-29T12:07:35.248981Z",
          "iopub.status.idle": "2022-07-29T12:07:35.253753Z",
          "shell.execute_reply.started": "2022-07-29T12:07:35.248946Z",
          "shell.execute_reply": "2022-07-29T12:07:35.252653Z"
        },
        "trusted": true,
        "id": "QAMcRtSFJPfB"
      },
      "execution_count": null,
      "outputs": []
    },
    {
      "cell_type": "code",
      "source": [
        "from keras.preprocessing.text import Tokenizer\n",
        "\n",
        "tokenizer = Tokenizer()\n",
        "tokenizer.fit_on_texts(train.text1)\n",
        "\n",
        "word_index = tokenizer.word_index\n",
        "vocab_size = len(tokenizer.word_index) + 1\n",
        "print(\"Vocabulary Size :\", vocab_size)"
      ],
      "metadata": {
        "execution": {
          "iopub.status.busy": "2022-07-29T12:07:36.057368Z",
          "iopub.execute_input": "2022-07-29T12:07:36.057740Z",
          "iopub.status.idle": "2022-07-29T12:07:36.900013Z",
          "shell.execute_reply.started": "2022-07-29T12:07:36.057694Z",
          "shell.execute_reply": "2022-07-29T12:07:36.898800Z"
        },
        "trusted": true,
        "id": "ijhmIDhoJPfB"
      },
      "execution_count": null,
      "outputs": []
    },
    {
      "cell_type": "code",
      "source": [
        "from keras.preprocessing.sequence import pad_sequences\n",
        "\n",
        "x_train = pad_sequences(tokenizer.texts_to_sequences(train.text1),\n",
        "                        maxlen = MAX_SEQUENCE_LENGTH)\n",
        "x_test = pad_sequences(tokenizer.texts_to_sequences(test.text1),\n",
        "                       maxlen = MAX_SEQUENCE_LENGTH)\n",
        "\n",
        "print(\"Training X Shape:\",x_train.shape)\n",
        "print(\"Testing X Shape:\",x_test.shape)"
      ],
      "metadata": {
        "execution": {
          "iopub.status.busy": "2022-07-29T12:07:36.901886Z",
          "iopub.execute_input": "2022-07-29T12:07:36.904968Z",
          "iopub.status.idle": "2022-07-29T12:07:37.213841Z",
          "shell.execute_reply.started": "2022-07-29T12:07:36.904937Z",
          "shell.execute_reply": "2022-07-29T12:07:37.212797Z"
        },
        "trusted": true,
        "id": "dMaNOTRBJPfC"
      },
      "execution_count": null,
      "outputs": []
    },
    {
      "cell_type": "code",
      "source": [
        "y_train = train['label1']\n",
        "y_test = test['label1']"
      ],
      "metadata": {
        "execution": {
          "iopub.status.busy": "2022-07-29T12:07:37.413502Z",
          "iopub.execute_input": "2022-07-29T12:07:37.414211Z",
          "iopub.status.idle": "2022-07-29T12:07:37.419700Z",
          "shell.execute_reply.started": "2022-07-29T12:07:37.414169Z",
          "shell.execute_reply": "2022-07-29T12:07:37.418611Z"
        },
        "trusted": true,
        "id": "sXoKMVe6JPfD"
      },
      "execution_count": null,
      "outputs": []
    },
    {
      "cell_type": "code",
      "source": [
        "y_train\n"
      ],
      "metadata": {
        "execution": {
          "iopub.status.busy": "2022-07-29T12:07:38.049301Z",
          "iopub.execute_input": "2022-07-29T12:07:38.049681Z",
          "iopub.status.idle": "2022-07-29T12:07:38.058946Z",
          "shell.execute_reply.started": "2022-07-29T12:07:38.049649Z",
          "shell.execute_reply": "2022-07-29T12:07:38.057468Z"
        },
        "trusted": true,
        "id": "XEyxOVunJPfD"
      },
      "execution_count": null,
      "outputs": []
    },
    {
      "cell_type": "code",
      "source": [
        "y_train_list = []"
      ],
      "metadata": {
        "execution": {
          "iopub.status.busy": "2022-07-29T12:07:38.849743Z",
          "iopub.execute_input": "2022-07-29T12:07:38.850417Z",
          "iopub.status.idle": "2022-07-29T12:07:38.855260Z",
          "shell.execute_reply.started": "2022-07-29T12:07:38.850380Z",
          "shell.execute_reply": "2022-07-29T12:07:38.854196Z"
        },
        "trusted": true,
        "id": "B717asZgJPfE"
      },
      "execution_count": null,
      "outputs": []
    },
    {
      "cell_type": "code",
      "source": [
        "for i in y_train:\n",
        "    kd = np.zeros(3)\n",
        "    kd[i]=1\n",
        "    y_train_list.append(list(kd))"
      ],
      "metadata": {
        "execution": {
          "iopub.status.busy": "2022-07-29T12:07:39.530409Z",
          "iopub.execute_input": "2022-07-29T12:07:39.530989Z",
          "iopub.status.idle": "2022-07-29T12:07:39.564037Z",
          "shell.execute_reply.started": "2022-07-29T12:07:39.530951Z",
          "shell.execute_reply": "2022-07-29T12:07:39.563035Z"
        },
        "trusted": true,
        "id": "0zg3w9x0JPfE"
      },
      "execution_count": null,
      "outputs": []
    },
    {
      "cell_type": "code",
      "source": [
        "y_test_list = []\n",
        "for i in y_test:\n",
        "    kd = np.zeros(3)\n",
        "    kd[i]=1\n",
        "    y_test_list.append(list(kd))"
      ],
      "metadata": {
        "execution": {
          "iopub.status.busy": "2022-07-29T12:07:40.245119Z",
          "iopub.execute_input": "2022-07-29T12:07:40.245948Z",
          "iopub.status.idle": "2022-07-29T12:07:40.258223Z",
          "shell.execute_reply.started": "2022-07-29T12:07:40.245914Z",
          "shell.execute_reply": "2022-07-29T12:07:40.257166Z"
        },
        "trusted": true,
        "id": "ffEUchs_JPfE"
      },
      "execution_count": null,
      "outputs": []
    },
    {
      "cell_type": "code",
      "source": [
        "y_train_list = np.array(y_train_list)"
      ],
      "metadata": {
        "execution": {
          "iopub.status.busy": "2022-07-29T12:07:40.960884Z",
          "iopub.execute_input": "2022-07-29T12:07:40.961340Z",
          "iopub.status.idle": "2022-07-29T12:07:40.983206Z",
          "shell.execute_reply.started": "2022-07-29T12:07:40.961297Z",
          "shell.execute_reply": "2022-07-29T12:07:40.981650Z"
        },
        "trusted": true,
        "id": "ACb3K0woJPfF"
      },
      "execution_count": null,
      "outputs": []
    },
    {
      "cell_type": "code",
      "source": [
        "y_test_list = np.array(y_test_list)"
      ],
      "metadata": {
        "execution": {
          "iopub.status.busy": "2022-07-29T12:07:41.692471Z",
          "iopub.execute_input": "2022-07-29T12:07:41.692851Z",
          "iopub.status.idle": "2022-07-29T12:07:41.699598Z",
          "shell.execute_reply.started": "2022-07-29T12:07:41.692819Z",
          "shell.execute_reply": "2022-07-29T12:07:41.698615Z"
        },
        "trusted": true,
        "id": "uzXFy3VDJPfF"
      },
      "execution_count": null,
      "outputs": []
    },
    {
      "cell_type": "code",
      "source": [
        "#encoder = LabelEncoder()\n",
        "#encoder.fit(y_train_list)\n",
        "\n",
        "#y_train = encoder.transform(y_train_list)\n",
        "#y_test = encoder.transform(y_train_list)\n",
        "\n",
        "# y_train = y_train.reshape(-1,1)\n",
        "# y_test = y_test.reshape(-1,1)\n",
        "\n",
        "#print(\"y_train shape:\", y_train.shape)\n",
        "#print(\"y_test shape:\", y_test.shape)"
      ],
      "metadata": {
        "execution": {
          "iopub.status.busy": "2022-07-29T12:07:42.377820Z",
          "iopub.execute_input": "2022-07-29T12:07:42.378794Z",
          "iopub.status.idle": "2022-07-29T12:07:42.383837Z",
          "shell.execute_reply.started": "2022-07-29T12:07:42.378715Z",
          "shell.execute_reply": "2022-07-29T12:07:42.382679Z"
        },
        "trusted": true,
        "id": "Xb_zei43JPfF"
      },
      "execution_count": null,
      "outputs": []
    },
    {
      "cell_type": "code",
      "source": [
        "!wget http://nlp.stanford.edu/data/glove.6B.zip\n",
        "!unzip glove.6B.zip"
      ],
      "metadata": {
        "execution": {
          "iopub.status.busy": "2022-07-29T12:07:43.202610Z",
          "iopub.execute_input": "2022-07-29T12:07:43.203288Z",
          "iopub.status.idle": "2022-07-29T12:10:47.622038Z",
          "shell.execute_reply.started": "2022-07-29T12:07:43.203250Z",
          "shell.execute_reply": "2022-07-29T12:10:47.620695Z"
        },
        "trusted": true,
        "id": "P4UvZ3K8JPfG"
      },
      "execution_count": null,
      "outputs": []
    },
    {
      "cell_type": "code",
      "source": [
        "GLOVE_EMB = '/kaggle/working/glove.6B.300d.txt'\n",
        "EMBEDDING_DIM = 300\n",
        "LR = 1e-3\n",
        "BATCH_SIZE = 1024\n",
        "EPOCHS = 10\n",
        "MODEL_PATH = '.../output/kaggle/working/best_model.hdf5'"
      ],
      "metadata": {
        "execution": {
          "iopub.status.busy": "2022-07-29T12:12:42.083481Z",
          "iopub.execute_input": "2022-07-29T12:12:42.084716Z",
          "iopub.status.idle": "2022-07-29T12:12:42.091500Z",
          "shell.execute_reply.started": "2022-07-29T12:12:42.084667Z",
          "shell.execute_reply": "2022-07-29T12:12:42.090237Z"
        },
        "trusted": true,
        "id": "hcCNh0InJPfG"
      },
      "execution_count": null,
      "outputs": []
    },
    {
      "cell_type": "code",
      "source": [
        "embeddings_index = {}\n",
        "\n",
        "f = open(GLOVE_EMB)\n",
        "for line in f:\n",
        "  values = line.split()\n",
        "  word = value = values[0]\n",
        "  coefs = np.asarray(values[1:], dtype='float32')\n",
        "  embeddings_index[word] = coefs\n",
        "f.close()\n",
        "\n",
        "print('Found %s word vectors.' %len(embeddings_index))"
      ],
      "metadata": {
        "execution": {
          "iopub.status.busy": "2022-07-29T12:12:48.507296Z",
          "iopub.execute_input": "2022-07-29T12:12:48.507660Z",
          "iopub.status.idle": "2022-07-29T12:13:20.697603Z",
          "shell.execute_reply.started": "2022-07-29T12:12:48.507629Z",
          "shell.execute_reply": "2022-07-29T12:13:20.696542Z"
        },
        "trusted": true,
        "id": "RhNZLlBIJPfG"
      },
      "execution_count": null,
      "outputs": []
    },
    {
      "cell_type": "code",
      "source": [
        "embedding_matrix = np.zeros((vocab_size, EMBEDDING_DIM))\n",
        "for word, i in word_index.items():\n",
        "  embedding_vector = embeddings_index.get(word)\n",
        "  if embedding_vector is not None:\n",
        "    embedding_matrix[i] = embedding_vector"
      ],
      "metadata": {
        "execution": {
          "iopub.status.busy": "2022-07-29T12:14:06.038725Z",
          "iopub.execute_input": "2022-07-29T12:14:06.039222Z",
          "iopub.status.idle": "2022-07-29T12:14:06.165857Z",
          "shell.execute_reply.started": "2022-07-29T12:14:06.039179Z",
          "shell.execute_reply": "2022-07-29T12:14:06.164802Z"
        },
        "trusted": true,
        "id": "3hSMLPktJPfH"
      },
      "execution_count": null,
      "outputs": []
    },
    {
      "cell_type": "code",
      "source": [
        "embedding_layer = tf.keras.layers.Embedding(vocab_size,\n",
        "                                          EMBEDDING_DIM,\n",
        "                                          weights=[embedding_matrix],\n",
        "                                          input_length=MAX_SEQUENCE_LENGTH,\n",
        "                                          trainable=False)"
      ],
      "metadata": {
        "execution": {
          "iopub.status.busy": "2022-07-29T12:14:14.907764Z",
          "iopub.execute_input": "2022-07-29T12:14:14.908636Z",
          "iopub.status.idle": "2022-07-29T12:14:15.353262Z",
          "shell.execute_reply.started": "2022-07-29T12:14:14.908600Z",
          "shell.execute_reply": "2022-07-29T12:14:15.352312Z"
        },
        "trusted": true,
        "id": "fyV_FpUUJPfH"
      },
      "execution_count": null,
      "outputs": []
    },
    {
      "cell_type": "code",
      "source": [
        "from tensorflow.keras.layers import Conv1D, Bidirectional, LSTM, Dense, Input, Dropout\n",
        "from tensorflow.keras.layers import SpatialDropout1D\n",
        "from tensorflow.keras.callbacks import ModelCheckpoint"
      ],
      "metadata": {
        "execution": {
          "iopub.status.busy": "2022-07-29T12:14:15.926142Z",
          "iopub.execute_input": "2022-07-29T12:14:15.926545Z",
          "iopub.status.idle": "2022-07-29T12:14:15.939912Z",
          "shell.execute_reply.started": "2022-07-29T12:14:15.926512Z",
          "shell.execute_reply": "2022-07-29T12:14:15.938797Z"
        },
        "trusted": true,
        "id": "Vnq1fE3dJPfH"
      },
      "execution_count": null,
      "outputs": []
    },
    {
      "cell_type": "code",
      "source": [
        "sequence_input = Input(shape=(MAX_SEQUENCE_LENGTH,), dtype='int32')\n",
        "embedding_sequences = embedding_layer(sequence_input)\n",
        "x = SpatialDropout1D(0.2)(embedding_sequences)\n",
        "x = Bidirectional(LSTM(100, dropout=0.2, recurrent_dropout=0.2))(x)\n",
        "outputs = Dense(3, activation='softmax')(x)\n",
        "model = tf.keras.Model(sequence_input, outputs)"
      ],
      "metadata": {
        "execution": {
          "iopub.status.busy": "2022-07-29T12:14:19.706161Z",
          "iopub.execute_input": "2022-07-29T12:14:19.706538Z",
          "iopub.status.idle": "2022-07-29T12:14:22.495377Z",
          "shell.execute_reply.started": "2022-07-29T12:14:19.706504Z",
          "shell.execute_reply": "2022-07-29T12:14:22.494405Z"
        },
        "trusted": true,
        "id": "Fc-fGpZ0JPfH"
      },
      "execution_count": null,
      "outputs": []
    },
    {
      "cell_type": "code",
      "source": [
        "from tensorflow.keras.optimizers import Adam\n",
        "from tensorflow.keras.callbacks import ReduceLROnPlateau\n",
        "\n",
        "model.compile(optimizer=Adam(learning_rate=LR), loss='categorical_crossentropy',\n",
        "              metrics=['accuracy'])\n",
        "ReduceLROnPlateau = ReduceLROnPlateau(factor=0.1,\n",
        "                                     min_lr = 0.01,\n",
        "                                     monitor = 'val_loss',\n",
        "                                     verbose = 1)"
      ],
      "metadata": {
        "execution": {
          "iopub.status.busy": "2022-07-29T12:14:30.068206Z",
          "iopub.execute_input": "2022-07-29T12:14:30.068589Z",
          "iopub.status.idle": "2022-07-29T12:14:30.086428Z",
          "shell.execute_reply.started": "2022-07-29T12:14:30.068558Z",
          "shell.execute_reply": "2022-07-29T12:14:30.085280Z"
        },
        "trusted": true,
        "id": "MJET4bpyJPfI"
      },
      "execution_count": null,
      "outputs": []
    },
    {
      "cell_type": "code",
      "source": [
        "print(\"Training on GPU...\") if tf.test.is_gpu_available() else print(\"Training on CPU...\")"
      ],
      "metadata": {
        "execution": {
          "iopub.status.busy": "2022-07-29T12:14:36.491951Z",
          "iopub.execute_input": "2022-07-29T12:14:36.493000Z",
          "iopub.status.idle": "2022-07-29T12:14:36.504677Z",
          "shell.execute_reply.started": "2022-07-29T12:14:36.492959Z",
          "shell.execute_reply": "2022-07-29T12:14:36.502350Z"
        },
        "trusted": true,
        "id": "srAwKmQ1JPfI"
      },
      "execution_count": null,
      "outputs": []
    },
    {
      "cell_type": "code",
      "source": [
        "y_train_list.shape"
      ],
      "metadata": {
        "execution": {
          "iopub.status.busy": "2022-07-29T12:14:40.502316Z",
          "iopub.execute_input": "2022-07-29T12:14:40.502694Z",
          "iopub.status.idle": "2022-07-29T12:14:40.510286Z",
          "shell.execute_reply.started": "2022-07-29T12:14:40.502662Z",
          "shell.execute_reply": "2022-07-29T12:14:40.509124Z"
        },
        "trusted": true,
        "id": "gQJyZZXzJPfI"
      },
      "execution_count": null,
      "outputs": []
    },
    {
      "cell_type": "code",
      "source": [
        "history = model.fit(x_train, y_train_list, batch_size=BATCH_SIZE, epochs=15,\n",
        "                    validation_data=(x_test, y_test_list), callbacks=[ReduceLROnPlateau])"
      ],
      "metadata": {
        "execution": {
          "iopub.status.busy": "2022-07-29T11:47:42.695862Z",
          "iopub.execute_input": "2022-07-29T11:47:42.696533Z",
          "iopub.status.idle": "2022-07-29T11:50:04.650109Z",
          "shell.execute_reply.started": "2022-07-29T11:47:42.696496Z",
          "shell.execute_reply": "2022-07-29T11:50:04.649057Z"
        },
        "trusted": true,
        "id": "8yoeRjohJPfI"
      },
      "execution_count": null,
      "outputs": []
    },
    {
      "cell_type": "code",
      "source": [
        "from tensorflow.keras.callbacks import EarlyStopping"
      ],
      "metadata": {
        "execution": {
          "iopub.status.busy": "2022-07-29T12:14:51.958643Z",
          "iopub.execute_input": "2022-07-29T12:14:51.959385Z",
          "iopub.status.idle": "2022-07-29T12:14:51.964771Z",
          "shell.execute_reply.started": "2022-07-29T12:14:51.959345Z",
          "shell.execute_reply": "2022-07-29T12:14:51.963798Z"
        },
        "trusted": true,
        "id": "0bCViL9rJPfJ"
      },
      "execution_count": null,
      "outputs": []
    },
    {
      "cell_type": "code",
      "source": [
        "earlystopping = EarlyStopping(monitor='val_loss',\n",
        "                              mode='min', \n",
        "                              verbose=1, \n",
        "                              patience=10\n",
        "                             )\n",
        "History = model.fit(x_train,y_train_list, batch_size=BATCH_SIZE,\n",
        "                              epochs = 50, validation_data = (x_test,y_test_list),\n",
        "                              verbose = 2, callbacks=[earlystopping])"
      ],
      "metadata": {
        "execution": {
          "iopub.status.busy": "2022-07-29T12:14:54.591912Z",
          "iopub.execute_input": "2022-07-29T12:14:54.592285Z",
          "iopub.status.idle": "2022-07-29T12:18:34.194742Z",
          "shell.execute_reply.started": "2022-07-29T12:14:54.592255Z",
          "shell.execute_reply": "2022-07-29T12:18:34.193743Z"
        },
        "trusted": true,
        "id": "RNogGbkxJPfJ"
      },
      "execution_count": null,
      "outputs": []
    },
    {
      "cell_type": "code",
      "source": [
        "test_acc = model.evaluate(x_test, y_test_list, verbose=0)"
      ],
      "metadata": {
        "execution": {
          "iopub.status.busy": "2022-07-29T12:41:23.699293Z",
          "iopub.execute_input": "2022-07-29T12:41:23.699624Z",
          "iopub.status.idle": "2022-07-29T12:41:26.517468Z",
          "shell.execute_reply.started": "2022-07-29T12:41:23.699596Z",
          "shell.execute_reply": "2022-07-29T12:41:26.516435Z"
        },
        "trusted": true,
        "id": "agT6mOXpJPfJ"
      },
      "execution_count": null,
      "outputs": []
    },
    {
      "cell_type": "code",
      "source": [
        "test_acc"
      ],
      "metadata": {
        "execution": {
          "iopub.status.busy": "2022-07-29T12:41:36.099886Z",
          "iopub.execute_input": "2022-07-29T12:41:36.100703Z",
          "iopub.status.idle": "2022-07-29T12:41:36.109224Z",
          "shell.execute_reply.started": "2022-07-29T12:41:36.100659Z",
          "shell.execute_reply": "2022-07-29T12:41:36.107892Z"
        },
        "trusted": true,
        "id": "9qCyxdheJPfJ"
      },
      "execution_count": null,
      "outputs": []
    },
    {
      "cell_type": "code",
      "source": [
        ""
      ],
      "metadata": {
        "id": "pQH12pGmJPfK"
      },
      "execution_count": null,
      "outputs": []
    }
  ]
}