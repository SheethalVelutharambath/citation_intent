{
  "cells": [
    {
      "cell_type": "code",
      "execution_count": null,
      "metadata": {
        "id": "Ot2UsXuLJIDc"
      },
      "outputs": [],
      "source": [
        "import numpy as np\n",
        "import pandas as pd\n",
        "import gensim\n",
        "import nltk\n",
        "import re\n",
        "from sklearn.model_selection import train_test_split\n",
        "from sklearn.svm import SVC\n",
        "from sklearn.metrics import classification_report\n",
        "from sklearn.metrics import f1_score\n",
        "from sklearn.metrics import precision_score\n",
        "from sklearn.metrics import recall_score\n",
        "from sklearn.metrics import accuracy_score"
      ]
    },
    {
      "cell_type": "code",
      "execution_count": null,
      "metadata": {
        "colab": {
          "base_uri": "https://localhost:8080/"
        },
        "id": "CNOL2sCVMBg5",
        "outputId": "ddcc537f-688c-4c10-bded-b133853d0641"
      },
      "outputs": [
        {
          "output_type": "stream",
          "name": "stdout",
          "text": [
            "Mounted at /content/drive\n"
          ]
        }
      ],
      "source": [
        "\n",
        "from google.colab import drive\n",
        "drive.mount(\"/content/drive\", force_remount=True)"
      ]
    },
    {
      "cell_type": "code",
      "execution_count": null,
      "metadata": {
        "id": "V4apI2ifMWL_"
      },
      "outputs": [],
      "source": [
        "train = pd.read_csv(\"/content/drive/MyDrive/daaaataaa_citae/tsv/train.tsv\", sep= '\\t',names=[\"id\", \"explicit\", \"text\", \"label\"])\n",
        "dev = pd.read_csv(\"/content/drive/MyDrive/daaaataaa_citae/tsv/dev.tsv\", sep= '\\t',names=[\"id\", \"explicit\", \"text\", \"label\"])\n",
        "test = pd.read_csv(\"/content/drive/MyDrive/daaaataaa_citae/tsv/test.tsv\", sep= '\\t', names=[\"id\", \"explicit\", \"text\", \"label\"])"
      ]
    },
    {
      "cell_type": "code",
      "source": [
        "train.drop(train.columns[[0, 1]], axis = 1, inplace = True)"
      ],
      "metadata": {
        "id": "4T-yohg_fdBa"
      },
      "execution_count": null,
      "outputs": []
    },
    {
      "cell_type": "code",
      "source": [
        "test.drop(test.columns[[0, 1]], axis = 1, inplace = True)"
      ],
      "metadata": {
        "id": "KwZH-72Qx3bh"
      },
      "execution_count": null,
      "outputs": []
    },
    {
      "cell_type": "code",
      "execution_count": null,
      "metadata": {
        "colab": {
          "base_uri": "https://localhost:8080/",
          "height": 206
        },
        "id": "33X2NnCOM0yB",
        "outputId": "6e92ba51-a2ae-4cf2-8985-63f128af54df"
      },
      "outputs": [
        {
          "output_type": "execute_result",
          "data": {
            "text/plain": [
              "                                                text       label\n",
              "0  Chapel, as well as X10 [2], UPC [3] , CoArray ...  background\n",
              "1  In addition, the result of the present study s...      result\n",
              "2  Several instruments that more specifically add...  background\n",
              "3  Organotypic hippocampal slice cultures\\nInterf...      method\n",
              "4  Activated PBMC are the basis of the standard P...  background"
            ],
            "text/html": [
              "\n",
              "  <div id=\"df-3be8c9e2-24ee-45ef-a600-a7f09aba0af8\">\n",
              "    <div class=\"colab-df-container\">\n",
              "      <div>\n",
              "<style scoped>\n",
              "    .dataframe tbody tr th:only-of-type {\n",
              "        vertical-align: middle;\n",
              "    }\n",
              "\n",
              "    .dataframe tbody tr th {\n",
              "        vertical-align: top;\n",
              "    }\n",
              "\n",
              "    .dataframe thead th {\n",
              "        text-align: right;\n",
              "    }\n",
              "</style>\n",
              "<table border=\"1\" class=\"dataframe\">\n",
              "  <thead>\n",
              "    <tr style=\"text-align: right;\">\n",
              "      <th></th>\n",
              "      <th>text</th>\n",
              "      <th>label</th>\n",
              "    </tr>\n",
              "  </thead>\n",
              "  <tbody>\n",
              "    <tr>\n",
              "      <th>0</th>\n",
              "      <td>Chapel, as well as X10 [2], UPC [3] , CoArray ...</td>\n",
              "      <td>background</td>\n",
              "    </tr>\n",
              "    <tr>\n",
              "      <th>1</th>\n",
              "      <td>In addition, the result of the present study s...</td>\n",
              "      <td>result</td>\n",
              "    </tr>\n",
              "    <tr>\n",
              "      <th>2</th>\n",
              "      <td>Several instruments that more specifically add...</td>\n",
              "      <td>background</td>\n",
              "    </tr>\n",
              "    <tr>\n",
              "      <th>3</th>\n",
              "      <td>Organotypic hippocampal slice cultures\\nInterf...</td>\n",
              "      <td>method</td>\n",
              "    </tr>\n",
              "    <tr>\n",
              "      <th>4</th>\n",
              "      <td>Activated PBMC are the basis of the standard P...</td>\n",
              "      <td>background</td>\n",
              "    </tr>\n",
              "  </tbody>\n",
              "</table>\n",
              "</div>\n",
              "      <button class=\"colab-df-convert\" onclick=\"convertToInteractive('df-3be8c9e2-24ee-45ef-a600-a7f09aba0af8')\"\n",
              "              title=\"Convert this dataframe to an interactive table.\"\n",
              "              style=\"display:none;\">\n",
              "        \n",
              "  <svg xmlns=\"http://www.w3.org/2000/svg\" height=\"24px\"viewBox=\"0 0 24 24\"\n",
              "       width=\"24px\">\n",
              "    <path d=\"M0 0h24v24H0V0z\" fill=\"none\"/>\n",
              "    <path d=\"M18.56 5.44l.94 2.06.94-2.06 2.06-.94-2.06-.94-.94-2.06-.94 2.06-2.06.94zm-11 1L8.5 8.5l.94-2.06 2.06-.94-2.06-.94L8.5 2.5l-.94 2.06-2.06.94zm10 10l.94 2.06.94-2.06 2.06-.94-2.06-.94-.94-2.06-.94 2.06-2.06.94z\"/><path d=\"M17.41 7.96l-1.37-1.37c-.4-.4-.92-.59-1.43-.59-.52 0-1.04.2-1.43.59L10.3 9.45l-7.72 7.72c-.78.78-.78 2.05 0 2.83L4 21.41c.39.39.9.59 1.41.59.51 0 1.02-.2 1.41-.59l7.78-7.78 2.81-2.81c.8-.78.8-2.07 0-2.86zM5.41 20L4 18.59l7.72-7.72 1.47 1.35L5.41 20z\"/>\n",
              "  </svg>\n",
              "      </button>\n",
              "      \n",
              "  <style>\n",
              "    .colab-df-container {\n",
              "      display:flex;\n",
              "      flex-wrap:wrap;\n",
              "      gap: 12px;\n",
              "    }\n",
              "\n",
              "    .colab-df-convert {\n",
              "      background-color: #E8F0FE;\n",
              "      border: none;\n",
              "      border-radius: 50%;\n",
              "      cursor: pointer;\n",
              "      display: none;\n",
              "      fill: #1967D2;\n",
              "      height: 32px;\n",
              "      padding: 0 0 0 0;\n",
              "      width: 32px;\n",
              "    }\n",
              "\n",
              "    .colab-df-convert:hover {\n",
              "      background-color: #E2EBFA;\n",
              "      box-shadow: 0px 1px 2px rgba(60, 64, 67, 0.3), 0px 1px 3px 1px rgba(60, 64, 67, 0.15);\n",
              "      fill: #174EA6;\n",
              "    }\n",
              "\n",
              "    [theme=dark] .colab-df-convert {\n",
              "      background-color: #3B4455;\n",
              "      fill: #D2E3FC;\n",
              "    }\n",
              "\n",
              "    [theme=dark] .colab-df-convert:hover {\n",
              "      background-color: #434B5C;\n",
              "      box-shadow: 0px 1px 3px 1px rgba(0, 0, 0, 0.15);\n",
              "      filter: drop-shadow(0px 1px 2px rgba(0, 0, 0, 0.3));\n",
              "      fill: #FFFFFF;\n",
              "    }\n",
              "  </style>\n",
              "\n",
              "      <script>\n",
              "        const buttonEl =\n",
              "          document.querySelector('#df-3be8c9e2-24ee-45ef-a600-a7f09aba0af8 button.colab-df-convert');\n",
              "        buttonEl.style.display =\n",
              "          google.colab.kernel.accessAllowed ? 'block' : 'none';\n",
              "\n",
              "        async function convertToInteractive(key) {\n",
              "          const element = document.querySelector('#df-3be8c9e2-24ee-45ef-a600-a7f09aba0af8');\n",
              "          const dataTable =\n",
              "            await google.colab.kernel.invokeFunction('convertToInteractive',\n",
              "                                                     [key], {});\n",
              "          if (!dataTable) return;\n",
              "\n",
              "          const docLinkHtml = 'Like what you see? Visit the ' +\n",
              "            '<a target=\"_blank\" href=https://colab.research.google.com/notebooks/data_table.ipynb>data table notebook</a>'\n",
              "            + ' to learn more about interactive tables.';\n",
              "          element.innerHTML = '';\n",
              "          dataTable['output_type'] = 'display_data';\n",
              "          await google.colab.output.renderOutput(dataTable, element);\n",
              "          const docLink = document.createElement('div');\n",
              "          docLink.innerHTML = docLinkHtml;\n",
              "          element.appendChild(docLink);\n",
              "        }\n",
              "      </script>\n",
              "    </div>\n",
              "  </div>\n",
              "  "
            ]
          },
          "metadata": {},
          "execution_count": 6
        }
      ],
      "source": [
        "test.head()"
      ]
    },
    {
      "cell_type": "code",
      "execution_count": null,
      "metadata": {
        "colab": {
          "base_uri": "https://localhost:8080/"
        },
        "id": "IaHov3_xPGQE",
        "outputId": "0bfdb9ed-fe20-486e-bd8a-70f3d3009d02"
      },
      "outputs": [
        {
          "output_type": "stream",
          "name": "stderr",
          "text": [
            "[nltk_data] Downloading package punkt to /root/nltk_data...\n",
            "[nltk_data]   Unzipping tokenizers/punkt.zip.\n"
          ]
        },
        {
          "output_type": "execute_result",
          "data": {
            "text/plain": [
              "True"
            ]
          },
          "metadata": {},
          "execution_count": 7
        }
      ],
      "source": [
        "import nltk\n",
        "nltk.download('punkt')"
      ]
    },
    {
      "cell_type": "code",
      "source": [
        "import string\n",
        "string.punctuation"
      ],
      "metadata": {
        "colab": {
          "base_uri": "https://localhost:8080/",
          "height": 35
        },
        "id": "2winj0lLd_8c",
        "outputId": "87d63e14-bf9c-4449-f952-ef1b8b83471e"
      },
      "execution_count": null,
      "outputs": [
        {
          "output_type": "execute_result",
          "data": {
            "text/plain": [
              "'!\"#$%&\\'()*+,-./:;<=>?@[\\\\]^_`{|}~'"
            ],
            "application/vnd.google.colaboratory.intrinsic+json": {
              "type": "string"
            }
          },
          "metadata": {},
          "execution_count": 8
        }
      ]
    },
    {
      "cell_type": "code",
      "source": [
        "def remove_punctuation(text):\n",
        "    punctuationfree=\"\".join([i for i in text if i not in string.punctuation])\n",
        "    return punctuationfree\n",
        "#storing the puntuation free text\n",
        "train['text_train']= train['text'].apply(lambda x:remove_punctuation(x))\n",
        "train['labels_train'] = train['label'].replace(['background','method','result'],[0,1,2])\n",
        "train.head()"
      ],
      "metadata": {
        "colab": {
          "base_uri": "https://localhost:8080/",
          "height": 206
        },
        "id": "aH5bQAXEd-k-",
        "outputId": "08188f00-72b9-4895-aa00-0961f12ee804"
      },
      "execution_count": null,
      "outputs": [
        {
          "output_type": "execute_result",
          "data": {
            "text/plain": [
              "                                                text       label  \\\n",
              "0  However, how frataxin interacts with the Fe-S ...  background   \n",
              "1  In the study by Hickey et al. (2012), spikes w...  background   \n",
              "2  The drug also reduces catecholamine secretion,...  background   \n",
              "3  By clustering with lowly aggressive close kin ...  background   \n",
              "4  Ophthalmic symptoms are rare manifestations of...  background   \n",
              "\n",
              "                                          text_train  labels_train  \n",
              "0  However how frataxin interacts with the FeS cl...             0  \n",
              "1  In the study by Hickey et al 2012 spikes were ...             0  \n",
              "2  The drug also reduces catecholamine secretion ...             0  \n",
              "3  By clustering with lowly aggressive close kin ...             0  \n",
              "4  Ophthalmic symptoms are rare manifestations of...             0  "
            ],
            "text/html": [
              "\n",
              "  <div id=\"df-6ab4e4eb-9443-4949-ab9c-985218405e87\">\n",
              "    <div class=\"colab-df-container\">\n",
              "      <div>\n",
              "<style scoped>\n",
              "    .dataframe tbody tr th:only-of-type {\n",
              "        vertical-align: middle;\n",
              "    }\n",
              "\n",
              "    .dataframe tbody tr th {\n",
              "        vertical-align: top;\n",
              "    }\n",
              "\n",
              "    .dataframe thead th {\n",
              "        text-align: right;\n",
              "    }\n",
              "</style>\n",
              "<table border=\"1\" class=\"dataframe\">\n",
              "  <thead>\n",
              "    <tr style=\"text-align: right;\">\n",
              "      <th></th>\n",
              "      <th>text</th>\n",
              "      <th>label</th>\n",
              "      <th>text_train</th>\n",
              "      <th>labels_train</th>\n",
              "    </tr>\n",
              "  </thead>\n",
              "  <tbody>\n",
              "    <tr>\n",
              "      <th>0</th>\n",
              "      <td>However, how frataxin interacts with the Fe-S ...</td>\n",
              "      <td>background</td>\n",
              "      <td>However how frataxin interacts with the FeS cl...</td>\n",
              "      <td>0</td>\n",
              "    </tr>\n",
              "    <tr>\n",
              "      <th>1</th>\n",
              "      <td>In the study by Hickey et al. (2012), spikes w...</td>\n",
              "      <td>background</td>\n",
              "      <td>In the study by Hickey et al 2012 spikes were ...</td>\n",
              "      <td>0</td>\n",
              "    </tr>\n",
              "    <tr>\n",
              "      <th>2</th>\n",
              "      <td>The drug also reduces catecholamine secretion,...</td>\n",
              "      <td>background</td>\n",
              "      <td>The drug also reduces catecholamine secretion ...</td>\n",
              "      <td>0</td>\n",
              "    </tr>\n",
              "    <tr>\n",
              "      <th>3</th>\n",
              "      <td>By clustering with lowly aggressive close kin ...</td>\n",
              "      <td>background</td>\n",
              "      <td>By clustering with lowly aggressive close kin ...</td>\n",
              "      <td>0</td>\n",
              "    </tr>\n",
              "    <tr>\n",
              "      <th>4</th>\n",
              "      <td>Ophthalmic symptoms are rare manifestations of...</td>\n",
              "      <td>background</td>\n",
              "      <td>Ophthalmic symptoms are rare manifestations of...</td>\n",
              "      <td>0</td>\n",
              "    </tr>\n",
              "  </tbody>\n",
              "</table>\n",
              "</div>\n",
              "      <button class=\"colab-df-convert\" onclick=\"convertToInteractive('df-6ab4e4eb-9443-4949-ab9c-985218405e87')\"\n",
              "              title=\"Convert this dataframe to an interactive table.\"\n",
              "              style=\"display:none;\">\n",
              "        \n",
              "  <svg xmlns=\"http://www.w3.org/2000/svg\" height=\"24px\"viewBox=\"0 0 24 24\"\n",
              "       width=\"24px\">\n",
              "    <path d=\"M0 0h24v24H0V0z\" fill=\"none\"/>\n",
              "    <path d=\"M18.56 5.44l.94 2.06.94-2.06 2.06-.94-2.06-.94-.94-2.06-.94 2.06-2.06.94zm-11 1L8.5 8.5l.94-2.06 2.06-.94-2.06-.94L8.5 2.5l-.94 2.06-2.06.94zm10 10l.94 2.06.94-2.06 2.06-.94-2.06-.94-.94-2.06-.94 2.06-2.06.94z\"/><path d=\"M17.41 7.96l-1.37-1.37c-.4-.4-.92-.59-1.43-.59-.52 0-1.04.2-1.43.59L10.3 9.45l-7.72 7.72c-.78.78-.78 2.05 0 2.83L4 21.41c.39.39.9.59 1.41.59.51 0 1.02-.2 1.41-.59l7.78-7.78 2.81-2.81c.8-.78.8-2.07 0-2.86zM5.41 20L4 18.59l7.72-7.72 1.47 1.35L5.41 20z\"/>\n",
              "  </svg>\n",
              "      </button>\n",
              "      \n",
              "  <style>\n",
              "    .colab-df-container {\n",
              "      display:flex;\n",
              "      flex-wrap:wrap;\n",
              "      gap: 12px;\n",
              "    }\n",
              "\n",
              "    .colab-df-convert {\n",
              "      background-color: #E8F0FE;\n",
              "      border: none;\n",
              "      border-radius: 50%;\n",
              "      cursor: pointer;\n",
              "      display: none;\n",
              "      fill: #1967D2;\n",
              "      height: 32px;\n",
              "      padding: 0 0 0 0;\n",
              "      width: 32px;\n",
              "    }\n",
              "\n",
              "    .colab-df-convert:hover {\n",
              "      background-color: #E2EBFA;\n",
              "      box-shadow: 0px 1px 2px rgba(60, 64, 67, 0.3), 0px 1px 3px 1px rgba(60, 64, 67, 0.15);\n",
              "      fill: #174EA6;\n",
              "    }\n",
              "\n",
              "    [theme=dark] .colab-df-convert {\n",
              "      background-color: #3B4455;\n",
              "      fill: #D2E3FC;\n",
              "    }\n",
              "\n",
              "    [theme=dark] .colab-df-convert:hover {\n",
              "      background-color: #434B5C;\n",
              "      box-shadow: 0px 1px 3px 1px rgba(0, 0, 0, 0.15);\n",
              "      filter: drop-shadow(0px 1px 2px rgba(0, 0, 0, 0.3));\n",
              "      fill: #FFFFFF;\n",
              "    }\n",
              "  </style>\n",
              "\n",
              "      <script>\n",
              "        const buttonEl =\n",
              "          document.querySelector('#df-6ab4e4eb-9443-4949-ab9c-985218405e87 button.colab-df-convert');\n",
              "        buttonEl.style.display =\n",
              "          google.colab.kernel.accessAllowed ? 'block' : 'none';\n",
              "\n",
              "        async function convertToInteractive(key) {\n",
              "          const element = document.querySelector('#df-6ab4e4eb-9443-4949-ab9c-985218405e87');\n",
              "          const dataTable =\n",
              "            await google.colab.kernel.invokeFunction('convertToInteractive',\n",
              "                                                     [key], {});\n",
              "          if (!dataTable) return;\n",
              "\n",
              "          const docLinkHtml = 'Like what you see? Visit the ' +\n",
              "            '<a target=\"_blank\" href=https://colab.research.google.com/notebooks/data_table.ipynb>data table notebook</a>'\n",
              "            + ' to learn more about interactive tables.';\n",
              "          element.innerHTML = '';\n",
              "          dataTable['output_type'] = 'display_data';\n",
              "          await google.colab.output.renderOutput(dataTable, element);\n",
              "          const docLink = document.createElement('div');\n",
              "          docLink.innerHTML = docLinkHtml;\n",
              "          element.appendChild(docLink);\n",
              "        }\n",
              "      </script>\n",
              "    </div>\n",
              "  </div>\n",
              "  "
            ]
          },
          "metadata": {},
          "execution_count": 9
        }
      ]
    },
    {
      "cell_type": "code",
      "source": [
        "#storing the puntuation free text\n",
        "test['text_test']= test['text'].apply(lambda x:remove_punctuation(x))\n",
        "test['labels_test'] = test['label'].replace(['background','method','result'],[0,1,2])\n",
        "test.head()"
      ],
      "metadata": {
        "colab": {
          "base_uri": "https://localhost:8080/",
          "height": 206
        },
        "id": "jCTVDpiRyJ5M",
        "outputId": "13896a32-650d-4b25-fc6f-6ac912f73c38"
      },
      "execution_count": null,
      "outputs": [
        {
          "output_type": "execute_result",
          "data": {
            "text/plain": [
              "                                                text       label  \\\n",
              "0  Chapel, as well as X10 [2], UPC [3] , CoArray ...  background   \n",
              "1  In addition, the result of the present study s...      result   \n",
              "2  Several instruments that more specifically add...  background   \n",
              "3  Organotypic hippocampal slice cultures\\nInterf...      method   \n",
              "4  Activated PBMC are the basis of the standard P...  background   \n",
              "\n",
              "                                           text_test  labels_test  \n",
              "0  Chapel as well as X10 2 UPC 3  CoArray Fortran...            0  \n",
              "1  In addition the result of the present study su...            2  \n",
              "2  Several instruments that more specifically add...            0  \n",
              "3  Organotypic hippocampal slice culturesnInterfa...            1  \n",
              "4  Activated PBMC are the basis of the standard P...            0  "
            ],
            "text/html": [
              "\n",
              "  <div id=\"df-b63a9bfc-049e-4d2f-99c0-25b1e1fea64d\">\n",
              "    <div class=\"colab-df-container\">\n",
              "      <div>\n",
              "<style scoped>\n",
              "    .dataframe tbody tr th:only-of-type {\n",
              "        vertical-align: middle;\n",
              "    }\n",
              "\n",
              "    .dataframe tbody tr th {\n",
              "        vertical-align: top;\n",
              "    }\n",
              "\n",
              "    .dataframe thead th {\n",
              "        text-align: right;\n",
              "    }\n",
              "</style>\n",
              "<table border=\"1\" class=\"dataframe\">\n",
              "  <thead>\n",
              "    <tr style=\"text-align: right;\">\n",
              "      <th></th>\n",
              "      <th>text</th>\n",
              "      <th>label</th>\n",
              "      <th>text_test</th>\n",
              "      <th>labels_test</th>\n",
              "    </tr>\n",
              "  </thead>\n",
              "  <tbody>\n",
              "    <tr>\n",
              "      <th>0</th>\n",
              "      <td>Chapel, as well as X10 [2], UPC [3] , CoArray ...</td>\n",
              "      <td>background</td>\n",
              "      <td>Chapel as well as X10 2 UPC 3  CoArray Fortran...</td>\n",
              "      <td>0</td>\n",
              "    </tr>\n",
              "    <tr>\n",
              "      <th>1</th>\n",
              "      <td>In addition, the result of the present study s...</td>\n",
              "      <td>result</td>\n",
              "      <td>In addition the result of the present study su...</td>\n",
              "      <td>2</td>\n",
              "    </tr>\n",
              "    <tr>\n",
              "      <th>2</th>\n",
              "      <td>Several instruments that more specifically add...</td>\n",
              "      <td>background</td>\n",
              "      <td>Several instruments that more specifically add...</td>\n",
              "      <td>0</td>\n",
              "    </tr>\n",
              "    <tr>\n",
              "      <th>3</th>\n",
              "      <td>Organotypic hippocampal slice cultures\\nInterf...</td>\n",
              "      <td>method</td>\n",
              "      <td>Organotypic hippocampal slice culturesnInterfa...</td>\n",
              "      <td>1</td>\n",
              "    </tr>\n",
              "    <tr>\n",
              "      <th>4</th>\n",
              "      <td>Activated PBMC are the basis of the standard P...</td>\n",
              "      <td>background</td>\n",
              "      <td>Activated PBMC are the basis of the standard P...</td>\n",
              "      <td>0</td>\n",
              "    </tr>\n",
              "  </tbody>\n",
              "</table>\n",
              "</div>\n",
              "      <button class=\"colab-df-convert\" onclick=\"convertToInteractive('df-b63a9bfc-049e-4d2f-99c0-25b1e1fea64d')\"\n",
              "              title=\"Convert this dataframe to an interactive table.\"\n",
              "              style=\"display:none;\">\n",
              "        \n",
              "  <svg xmlns=\"http://www.w3.org/2000/svg\" height=\"24px\"viewBox=\"0 0 24 24\"\n",
              "       width=\"24px\">\n",
              "    <path d=\"M0 0h24v24H0V0z\" fill=\"none\"/>\n",
              "    <path d=\"M18.56 5.44l.94 2.06.94-2.06 2.06-.94-2.06-.94-.94-2.06-.94 2.06-2.06.94zm-11 1L8.5 8.5l.94-2.06 2.06-.94-2.06-.94L8.5 2.5l-.94 2.06-2.06.94zm10 10l.94 2.06.94-2.06 2.06-.94-2.06-.94-.94-2.06-.94 2.06-2.06.94z\"/><path d=\"M17.41 7.96l-1.37-1.37c-.4-.4-.92-.59-1.43-.59-.52 0-1.04.2-1.43.59L10.3 9.45l-7.72 7.72c-.78.78-.78 2.05 0 2.83L4 21.41c.39.39.9.59 1.41.59.51 0 1.02-.2 1.41-.59l7.78-7.78 2.81-2.81c.8-.78.8-2.07 0-2.86zM5.41 20L4 18.59l7.72-7.72 1.47 1.35L5.41 20z\"/>\n",
              "  </svg>\n",
              "      </button>\n",
              "      \n",
              "  <style>\n",
              "    .colab-df-container {\n",
              "      display:flex;\n",
              "      flex-wrap:wrap;\n",
              "      gap: 12px;\n",
              "    }\n",
              "\n",
              "    .colab-df-convert {\n",
              "      background-color: #E8F0FE;\n",
              "      border: none;\n",
              "      border-radius: 50%;\n",
              "      cursor: pointer;\n",
              "      display: none;\n",
              "      fill: #1967D2;\n",
              "      height: 32px;\n",
              "      padding: 0 0 0 0;\n",
              "      width: 32px;\n",
              "    }\n",
              "\n",
              "    .colab-df-convert:hover {\n",
              "      background-color: #E2EBFA;\n",
              "      box-shadow: 0px 1px 2px rgba(60, 64, 67, 0.3), 0px 1px 3px 1px rgba(60, 64, 67, 0.15);\n",
              "      fill: #174EA6;\n",
              "    }\n",
              "\n",
              "    [theme=dark] .colab-df-convert {\n",
              "      background-color: #3B4455;\n",
              "      fill: #D2E3FC;\n",
              "    }\n",
              "\n",
              "    [theme=dark] .colab-df-convert:hover {\n",
              "      background-color: #434B5C;\n",
              "      box-shadow: 0px 1px 3px 1px rgba(0, 0, 0, 0.15);\n",
              "      filter: drop-shadow(0px 1px 2px rgba(0, 0, 0, 0.3));\n",
              "      fill: #FFFFFF;\n",
              "    }\n",
              "  </style>\n",
              "\n",
              "      <script>\n",
              "        const buttonEl =\n",
              "          document.querySelector('#df-b63a9bfc-049e-4d2f-99c0-25b1e1fea64d button.colab-df-convert');\n",
              "        buttonEl.style.display =\n",
              "          google.colab.kernel.accessAllowed ? 'block' : 'none';\n",
              "\n",
              "        async function convertToInteractive(key) {\n",
              "          const element = document.querySelector('#df-b63a9bfc-049e-4d2f-99c0-25b1e1fea64d');\n",
              "          const dataTable =\n",
              "            await google.colab.kernel.invokeFunction('convertToInteractive',\n",
              "                                                     [key], {});\n",
              "          if (!dataTable) return;\n",
              "\n",
              "          const docLinkHtml = 'Like what you see? Visit the ' +\n",
              "            '<a target=\"_blank\" href=https://colab.research.google.com/notebooks/data_table.ipynb>data table notebook</a>'\n",
              "            + ' to learn more about interactive tables.';\n",
              "          element.innerHTML = '';\n",
              "          dataTable['output_type'] = 'display_data';\n",
              "          await google.colab.output.renderOutput(dataTable, element);\n",
              "          const docLink = document.createElement('div');\n",
              "          docLink.innerHTML = docLinkHtml;\n",
              "          element.appendChild(docLink);\n",
              "        }\n",
              "      </script>\n",
              "    </div>\n",
              "  </div>\n",
              "  "
            ]
          },
          "metadata": {},
          "execution_count": 10
        }
      ]
    },
    {
      "cell_type": "code",
      "source": [
        "#converting to lower case\n",
        "train['text_train']= train['text_train'].apply(lambda x: x.lower())"
      ],
      "metadata": {
        "id": "1_3OFiaVfpCC"
      },
      "execution_count": null,
      "outputs": []
    },
    {
      "cell_type": "code",
      "source": [
        "test['text_test']= test['text_test'].apply(lambda x: x.lower())"
      ],
      "metadata": {
        "id": "UJRUaX2uysDJ"
      },
      "execution_count": null,
      "outputs": []
    },
    {
      "cell_type": "code",
      "source": [
        "test.head()"
      ],
      "metadata": {
        "colab": {
          "base_uri": "https://localhost:8080/",
          "height": 206
        },
        "id": "6cFB9T7NhdNN",
        "outputId": "b74c506f-b7b1-4b24-b076-02aa70789f0c"
      },
      "execution_count": null,
      "outputs": [
        {
          "output_type": "execute_result",
          "data": {
            "text/plain": [
              "                                                text       label  \\\n",
              "0  Chapel, as well as X10 [2], UPC [3] , CoArray ...  background   \n",
              "1  In addition, the result of the present study s...      result   \n",
              "2  Several instruments that more specifically add...  background   \n",
              "3  Organotypic hippocampal slice cultures\\nInterf...      method   \n",
              "4  Activated PBMC are the basis of the standard P...  background   \n",
              "\n",
              "                                           text_test  labels_test  \n",
              "0  chapel as well as x10 2 upc 3  coarray fortran...            0  \n",
              "1  in addition the result of the present study su...            2  \n",
              "2  several instruments that more specifically add...            0  \n",
              "3  organotypic hippocampal slice culturesninterfa...            1  \n",
              "4  activated pbmc are the basis of the standard p...            0  "
            ],
            "text/html": [
              "\n",
              "  <div id=\"df-03ffd727-7396-4e24-b439-bd260b161dac\">\n",
              "    <div class=\"colab-df-container\">\n",
              "      <div>\n",
              "<style scoped>\n",
              "    .dataframe tbody tr th:only-of-type {\n",
              "        vertical-align: middle;\n",
              "    }\n",
              "\n",
              "    .dataframe tbody tr th {\n",
              "        vertical-align: top;\n",
              "    }\n",
              "\n",
              "    .dataframe thead th {\n",
              "        text-align: right;\n",
              "    }\n",
              "</style>\n",
              "<table border=\"1\" class=\"dataframe\">\n",
              "  <thead>\n",
              "    <tr style=\"text-align: right;\">\n",
              "      <th></th>\n",
              "      <th>text</th>\n",
              "      <th>label</th>\n",
              "      <th>text_test</th>\n",
              "      <th>labels_test</th>\n",
              "    </tr>\n",
              "  </thead>\n",
              "  <tbody>\n",
              "    <tr>\n",
              "      <th>0</th>\n",
              "      <td>Chapel, as well as X10 [2], UPC [3] , CoArray ...</td>\n",
              "      <td>background</td>\n",
              "      <td>chapel as well as x10 2 upc 3  coarray fortran...</td>\n",
              "      <td>0</td>\n",
              "    </tr>\n",
              "    <tr>\n",
              "      <th>1</th>\n",
              "      <td>In addition, the result of the present study s...</td>\n",
              "      <td>result</td>\n",
              "      <td>in addition the result of the present study su...</td>\n",
              "      <td>2</td>\n",
              "    </tr>\n",
              "    <tr>\n",
              "      <th>2</th>\n",
              "      <td>Several instruments that more specifically add...</td>\n",
              "      <td>background</td>\n",
              "      <td>several instruments that more specifically add...</td>\n",
              "      <td>0</td>\n",
              "    </tr>\n",
              "    <tr>\n",
              "      <th>3</th>\n",
              "      <td>Organotypic hippocampal slice cultures\\nInterf...</td>\n",
              "      <td>method</td>\n",
              "      <td>organotypic hippocampal slice culturesninterfa...</td>\n",
              "      <td>1</td>\n",
              "    </tr>\n",
              "    <tr>\n",
              "      <th>4</th>\n",
              "      <td>Activated PBMC are the basis of the standard P...</td>\n",
              "      <td>background</td>\n",
              "      <td>activated pbmc are the basis of the standard p...</td>\n",
              "      <td>0</td>\n",
              "    </tr>\n",
              "  </tbody>\n",
              "</table>\n",
              "</div>\n",
              "      <button class=\"colab-df-convert\" onclick=\"convertToInteractive('df-03ffd727-7396-4e24-b439-bd260b161dac')\"\n",
              "              title=\"Convert this dataframe to an interactive table.\"\n",
              "              style=\"display:none;\">\n",
              "        \n",
              "  <svg xmlns=\"http://www.w3.org/2000/svg\" height=\"24px\"viewBox=\"0 0 24 24\"\n",
              "       width=\"24px\">\n",
              "    <path d=\"M0 0h24v24H0V0z\" fill=\"none\"/>\n",
              "    <path d=\"M18.56 5.44l.94 2.06.94-2.06 2.06-.94-2.06-.94-.94-2.06-.94 2.06-2.06.94zm-11 1L8.5 8.5l.94-2.06 2.06-.94-2.06-.94L8.5 2.5l-.94 2.06-2.06.94zm10 10l.94 2.06.94-2.06 2.06-.94-2.06-.94-.94-2.06-.94 2.06-2.06.94z\"/><path d=\"M17.41 7.96l-1.37-1.37c-.4-.4-.92-.59-1.43-.59-.52 0-1.04.2-1.43.59L10.3 9.45l-7.72 7.72c-.78.78-.78 2.05 0 2.83L4 21.41c.39.39.9.59 1.41.59.51 0 1.02-.2 1.41-.59l7.78-7.78 2.81-2.81c.8-.78.8-2.07 0-2.86zM5.41 20L4 18.59l7.72-7.72 1.47 1.35L5.41 20z\"/>\n",
              "  </svg>\n",
              "      </button>\n",
              "      \n",
              "  <style>\n",
              "    .colab-df-container {\n",
              "      display:flex;\n",
              "      flex-wrap:wrap;\n",
              "      gap: 12px;\n",
              "    }\n",
              "\n",
              "    .colab-df-convert {\n",
              "      background-color: #E8F0FE;\n",
              "      border: none;\n",
              "      border-radius: 50%;\n",
              "      cursor: pointer;\n",
              "      display: none;\n",
              "      fill: #1967D2;\n",
              "      height: 32px;\n",
              "      padding: 0 0 0 0;\n",
              "      width: 32px;\n",
              "    }\n",
              "\n",
              "    .colab-df-convert:hover {\n",
              "      background-color: #E2EBFA;\n",
              "      box-shadow: 0px 1px 2px rgba(60, 64, 67, 0.3), 0px 1px 3px 1px rgba(60, 64, 67, 0.15);\n",
              "      fill: #174EA6;\n",
              "    }\n",
              "\n",
              "    [theme=dark] .colab-df-convert {\n",
              "      background-color: #3B4455;\n",
              "      fill: #D2E3FC;\n",
              "    }\n",
              "\n",
              "    [theme=dark] .colab-df-convert:hover {\n",
              "      background-color: #434B5C;\n",
              "      box-shadow: 0px 1px 3px 1px rgba(0, 0, 0, 0.15);\n",
              "      filter: drop-shadow(0px 1px 2px rgba(0, 0, 0, 0.3));\n",
              "      fill: #FFFFFF;\n",
              "    }\n",
              "  </style>\n",
              "\n",
              "      <script>\n",
              "        const buttonEl =\n",
              "          document.querySelector('#df-03ffd727-7396-4e24-b439-bd260b161dac button.colab-df-convert');\n",
              "        buttonEl.style.display =\n",
              "          google.colab.kernel.accessAllowed ? 'block' : 'none';\n",
              "\n",
              "        async function convertToInteractive(key) {\n",
              "          const element = document.querySelector('#df-03ffd727-7396-4e24-b439-bd260b161dac');\n",
              "          const dataTable =\n",
              "            await google.colab.kernel.invokeFunction('convertToInteractive',\n",
              "                                                     [key], {});\n",
              "          if (!dataTable) return;\n",
              "\n",
              "          const docLinkHtml = 'Like what you see? Visit the ' +\n",
              "            '<a target=\"_blank\" href=https://colab.research.google.com/notebooks/data_table.ipynb>data table notebook</a>'\n",
              "            + ' to learn more about interactive tables.';\n",
              "          element.innerHTML = '';\n",
              "          dataTable['output_type'] = 'display_data';\n",
              "          await google.colab.output.renderOutput(dataTable, element);\n",
              "          const docLink = document.createElement('div');\n",
              "          docLink.innerHTML = docLinkHtml;\n",
              "          element.appendChild(docLink);\n",
              "        }\n",
              "      </script>\n",
              "    </div>\n",
              "  </div>\n",
              "  "
            ]
          },
          "metadata": {},
          "execution_count": 13
        }
      ]
    },
    {
      "cell_type": "code",
      "source": [
        "nltk.download('stopwords')\n",
        "stopwords = nltk.corpus.stopwords.words('english')"
      ],
      "metadata": {
        "colab": {
          "base_uri": "https://localhost:8080/"
        },
        "id": "Ooic0G45gHpC",
        "outputId": "643afbd2-309a-45a5-8c3b-94fba01315bb"
      },
      "execution_count": null,
      "outputs": [
        {
          "output_type": "stream",
          "name": "stderr",
          "text": [
            "[nltk_data] Downloading package stopwords to /root/nltk_data...\n",
            "[nltk_data]   Unzipping corpora/stopwords.zip.\n"
          ]
        }
      ]
    },
    {
      "cell_type": "code",
      "source": [
        "def tokenize(word):\n",
        "   word = nltk.word_tokenize(word)\n",
        "   return word"
      ],
      "metadata": {
        "id": "4LBWhupTiFkj"
      },
      "execution_count": null,
      "outputs": []
    },
    {
      "cell_type": "code",
      "source": [
        "train['tokenized']= train['text_train'].apply(lambda x: tokenize(x))\n",
        "test['tokenized']= test['text_test'].apply(lambda x: tokenize(x))"
      ],
      "metadata": {
        "id": "jy3T0XjIg7hA"
      },
      "execution_count": null,
      "outputs": []
    },
    {
      "cell_type": "code",
      "source": [
        "def remove_stopwords(texts):\n",
        "    output= [i for i in texts if i not in stopwords]\n",
        "    return output"
      ],
      "metadata": {
        "id": "5kWgrDxFgg3m"
      },
      "execution_count": null,
      "outputs": []
    },
    {
      "cell_type": "code",
      "source": [
        "#removing stop words\n",
        "train['tokenized']= train['tokenized'].apply(lambda x:remove_stopwords(x))\n",
        "test['tokenized']= test['tokenized'].apply(lambda x:remove_stopwords(x))"
      ],
      "metadata": {
        "id": "Qpkm21SNhODK"
      },
      "execution_count": null,
      "outputs": []
    },
    {
      "cell_type": "code",
      "source": [
        "from nltk.stem import WordNetLemmatizer\n",
        "#defining the object for Lemmatization\n",
        "wordnet_lemmatizer = WordNetLemmatizer()"
      ],
      "metadata": {
        "id": "Zf-W-TzfjiyH"
      },
      "execution_count": null,
      "outputs": []
    },
    {
      "cell_type": "code",
      "source": [
        "nltk.download('wordnet')\n",
        "nltk.download('omw-1.4')\n",
        "def lemmatizer(text):\n",
        "  lemm_text = [wordnet_lemmatizer.lemmatize(word) for word in text]\n",
        "  return lemm_text\n",
        "train['stemmed']=train['tokenized'].apply(lambda x:lemmatizer(x))"
      ],
      "metadata": {
        "colab": {
          "base_uri": "https://localhost:8080/"
        },
        "id": "OUzOBtsWjkZ1",
        "outputId": "bbe445cd-26ed-434b-b3e1-5222fcd5fdd5"
      },
      "execution_count": null,
      "outputs": [
        {
          "output_type": "stream",
          "name": "stderr",
          "text": [
            "[nltk_data] Downloading package wordnet to /root/nltk_data...\n",
            "[nltk_data] Downloading package omw-1.4 to /root/nltk_data...\n"
          ]
        }
      ]
    },
    {
      "cell_type": "code",
      "source": [
        "test['stemmed']=test['tokenized'].apply(lambda x:lemmatizer(x))"
      ],
      "metadata": {
        "id": "XOwvGc0iz79p"
      },
      "execution_count": null,
      "outputs": []
    },
    {
      "cell_type": "code",
      "source": [
        "test.head()"
      ],
      "metadata": {
        "colab": {
          "base_uri": "https://localhost:8080/",
          "height": 337
        },
        "id": "2Pf-GpGZkLKZ",
        "outputId": "d2d69497-ea44-4b58-9684-460046030ed3"
      },
      "execution_count": null,
      "outputs": [
        {
          "output_type": "execute_result",
          "data": {
            "text/plain": [
              "                                                text       label  \\\n",
              "0  Chapel, as well as X10 [2], UPC [3] , CoArray ...  background   \n",
              "1  In addition, the result of the present study s...      result   \n",
              "2  Several instruments that more specifically add...  background   \n",
              "3  Organotypic hippocampal slice cultures\\nInterf...      method   \n",
              "4  Activated PBMC are the basis of the standard P...  background   \n",
              "\n",
              "                                           text_test  labels_test  \\\n",
              "0  chapel as well as x10 2 upc 3  coarray fortran...            0   \n",
              "1  in addition the result of the present study su...            2   \n",
              "2  several instruments that more specifically add...            0   \n",
              "3  organotypic hippocampal slice culturesninterfa...            1   \n",
              "4  activated pbmc are the basis of the standard p...            0   \n",
              "\n",
              "                                           tokenized  \\\n",
              "0  [chapel, well, x10, 2, upc, 3, coarray, fortra...   \n",
              "1  [addition, result, present, study, supports, p...   \n",
              "2  [several, instruments, specifically, address, ...   \n",
              "3  [organotypic, hippocampal, slice, culturesnint...   \n",
              "4  [activated, pbmc, basis, standard, pbmc, blast...   \n",
              "\n",
              "                                             stemmed  \n",
              "0  [chapel, well, x10, 2, upc, 3, coarray, fortra...  \n",
              "1  [addition, result, present, study, support, pr...  \n",
              "2  [several, instrument, specifically, address, p...  \n",
              "3  [organotypic, hippocampal, slice, culturesnint...  \n",
              "4  [activated, pbmc, basis, standard, pbmc, blast...  "
            ],
            "text/html": [
              "\n",
              "  <div id=\"df-70612e3a-484f-4235-a71c-329fbf1d0560\">\n",
              "    <div class=\"colab-df-container\">\n",
              "      <div>\n",
              "<style scoped>\n",
              "    .dataframe tbody tr th:only-of-type {\n",
              "        vertical-align: middle;\n",
              "    }\n",
              "\n",
              "    .dataframe tbody tr th {\n",
              "        vertical-align: top;\n",
              "    }\n",
              "\n",
              "    .dataframe thead th {\n",
              "        text-align: right;\n",
              "    }\n",
              "</style>\n",
              "<table border=\"1\" class=\"dataframe\">\n",
              "  <thead>\n",
              "    <tr style=\"text-align: right;\">\n",
              "      <th></th>\n",
              "      <th>text</th>\n",
              "      <th>label</th>\n",
              "      <th>text_test</th>\n",
              "      <th>labels_test</th>\n",
              "      <th>tokenized</th>\n",
              "      <th>stemmed</th>\n",
              "    </tr>\n",
              "  </thead>\n",
              "  <tbody>\n",
              "    <tr>\n",
              "      <th>0</th>\n",
              "      <td>Chapel, as well as X10 [2], UPC [3] , CoArray ...</td>\n",
              "      <td>background</td>\n",
              "      <td>chapel as well as x10 2 upc 3  coarray fortran...</td>\n",
              "      <td>0</td>\n",
              "      <td>[chapel, well, x10, 2, upc, 3, coarray, fortra...</td>\n",
              "      <td>[chapel, well, x10, 2, upc, 3, coarray, fortra...</td>\n",
              "    </tr>\n",
              "    <tr>\n",
              "      <th>1</th>\n",
              "      <td>In addition, the result of the present study s...</td>\n",
              "      <td>result</td>\n",
              "      <td>in addition the result of the present study su...</td>\n",
              "      <td>2</td>\n",
              "      <td>[addition, result, present, study, supports, p...</td>\n",
              "      <td>[addition, result, present, study, support, pr...</td>\n",
              "    </tr>\n",
              "    <tr>\n",
              "      <th>2</th>\n",
              "      <td>Several instruments that more specifically add...</td>\n",
              "      <td>background</td>\n",
              "      <td>several instruments that more specifically add...</td>\n",
              "      <td>0</td>\n",
              "      <td>[several, instruments, specifically, address, ...</td>\n",
              "      <td>[several, instrument, specifically, address, p...</td>\n",
              "    </tr>\n",
              "    <tr>\n",
              "      <th>3</th>\n",
              "      <td>Organotypic hippocampal slice cultures\\nInterf...</td>\n",
              "      <td>method</td>\n",
              "      <td>organotypic hippocampal slice culturesninterfa...</td>\n",
              "      <td>1</td>\n",
              "      <td>[organotypic, hippocampal, slice, culturesnint...</td>\n",
              "      <td>[organotypic, hippocampal, slice, culturesnint...</td>\n",
              "    </tr>\n",
              "    <tr>\n",
              "      <th>4</th>\n",
              "      <td>Activated PBMC are the basis of the standard P...</td>\n",
              "      <td>background</td>\n",
              "      <td>activated pbmc are the basis of the standard p...</td>\n",
              "      <td>0</td>\n",
              "      <td>[activated, pbmc, basis, standard, pbmc, blast...</td>\n",
              "      <td>[activated, pbmc, basis, standard, pbmc, blast...</td>\n",
              "    </tr>\n",
              "  </tbody>\n",
              "</table>\n",
              "</div>\n",
              "      <button class=\"colab-df-convert\" onclick=\"convertToInteractive('df-70612e3a-484f-4235-a71c-329fbf1d0560')\"\n",
              "              title=\"Convert this dataframe to an interactive table.\"\n",
              "              style=\"display:none;\">\n",
              "        \n",
              "  <svg xmlns=\"http://www.w3.org/2000/svg\" height=\"24px\"viewBox=\"0 0 24 24\"\n",
              "       width=\"24px\">\n",
              "    <path d=\"M0 0h24v24H0V0z\" fill=\"none\"/>\n",
              "    <path d=\"M18.56 5.44l.94 2.06.94-2.06 2.06-.94-2.06-.94-.94-2.06-.94 2.06-2.06.94zm-11 1L8.5 8.5l.94-2.06 2.06-.94-2.06-.94L8.5 2.5l-.94 2.06-2.06.94zm10 10l.94 2.06.94-2.06 2.06-.94-2.06-.94-.94-2.06-.94 2.06-2.06.94z\"/><path d=\"M17.41 7.96l-1.37-1.37c-.4-.4-.92-.59-1.43-.59-.52 0-1.04.2-1.43.59L10.3 9.45l-7.72 7.72c-.78.78-.78 2.05 0 2.83L4 21.41c.39.39.9.59 1.41.59.51 0 1.02-.2 1.41-.59l7.78-7.78 2.81-2.81c.8-.78.8-2.07 0-2.86zM5.41 20L4 18.59l7.72-7.72 1.47 1.35L5.41 20z\"/>\n",
              "  </svg>\n",
              "      </button>\n",
              "      \n",
              "  <style>\n",
              "    .colab-df-container {\n",
              "      display:flex;\n",
              "      flex-wrap:wrap;\n",
              "      gap: 12px;\n",
              "    }\n",
              "\n",
              "    .colab-df-convert {\n",
              "      background-color: #E8F0FE;\n",
              "      border: none;\n",
              "      border-radius: 50%;\n",
              "      cursor: pointer;\n",
              "      display: none;\n",
              "      fill: #1967D2;\n",
              "      height: 32px;\n",
              "      padding: 0 0 0 0;\n",
              "      width: 32px;\n",
              "    }\n",
              "\n",
              "    .colab-df-convert:hover {\n",
              "      background-color: #E2EBFA;\n",
              "      box-shadow: 0px 1px 2px rgba(60, 64, 67, 0.3), 0px 1px 3px 1px rgba(60, 64, 67, 0.15);\n",
              "      fill: #174EA6;\n",
              "    }\n",
              "\n",
              "    [theme=dark] .colab-df-convert {\n",
              "      background-color: #3B4455;\n",
              "      fill: #D2E3FC;\n",
              "    }\n",
              "\n",
              "    [theme=dark] .colab-df-convert:hover {\n",
              "      background-color: #434B5C;\n",
              "      box-shadow: 0px 1px 3px 1px rgba(0, 0, 0, 0.15);\n",
              "      filter: drop-shadow(0px 1px 2px rgba(0, 0, 0, 0.3));\n",
              "      fill: #FFFFFF;\n",
              "    }\n",
              "  </style>\n",
              "\n",
              "      <script>\n",
              "        const buttonEl =\n",
              "          document.querySelector('#df-70612e3a-484f-4235-a71c-329fbf1d0560 button.colab-df-convert');\n",
              "        buttonEl.style.display =\n",
              "          google.colab.kernel.accessAllowed ? 'block' : 'none';\n",
              "\n",
              "        async function convertToInteractive(key) {\n",
              "          const element = document.querySelector('#df-70612e3a-484f-4235-a71c-329fbf1d0560');\n",
              "          const dataTable =\n",
              "            await google.colab.kernel.invokeFunction('convertToInteractive',\n",
              "                                                     [key], {});\n",
              "          if (!dataTable) return;\n",
              "\n",
              "          const docLinkHtml = 'Like what you see? Visit the ' +\n",
              "            '<a target=\"_blank\" href=https://colab.research.google.com/notebooks/data_table.ipynb>data table notebook</a>'\n",
              "            + ' to learn more about interactive tables.';\n",
              "          element.innerHTML = '';\n",
              "          dataTable['output_type'] = 'display_data';\n",
              "          await google.colab.output.renderOutput(dataTable, element);\n",
              "          const docLink = document.createElement('div');\n",
              "          docLink.innerHTML = docLinkHtml;\n",
              "          element.appendChild(docLink);\n",
              "        }\n",
              "      </script>\n",
              "    </div>\n",
              "  </div>\n",
              "  "
            ]
          },
          "metadata": {},
          "execution_count": 22
        }
      ]
    },
    {
      "cell_type": "code",
      "execution_count": null,
      "metadata": {
        "id": "5qb0yCpuRv_D"
      },
      "outputs": [],
      "source": [
        "x_test = test.text.tolist()"
      ]
    },
    {
      "cell_type": "code",
      "execution_count": null,
      "metadata": {
        "colab": {
          "base_uri": "https://localhost:8080/",
          "height": 53
        },
        "id": "VfU_zOd1KV-T",
        "outputId": "b4af25a8-0162-4980-ab7d-2e03e0166ba9"
      },
      "outputs": [
        {
          "output_type": "execute_result",
          "data": {
            "text/plain": [
              "'However, how frataxin interacts with the Fe-S cluster biosynthesis components remains unclear as direct one-to-one interactions with each component were reported (IscS [12,22], IscU/Isu1 [6,11,16] or ISD11/Isd11 [14,15]).'"
            ],
            "application/vnd.google.colaboratory.intrinsic+json": {
              "type": "string"
            }
          },
          "metadata": {},
          "execution_count": 24
        }
      ],
      "source": [
        "x_text=train.text\n",
        "x_text[0]"
      ]
    },
    {
      "cell_type": "code",
      "execution_count": null,
      "metadata": {
        "colab": {
          "base_uri": "https://localhost:8080/"
        },
        "id": "7mqYy6dcdy3Z",
        "outputId": "cba267fe-aa28-4d7c-a5a9-98e1dc326c2a"
      },
      "outputs": [
        {
          "output_type": "stream",
          "name": "stderr",
          "text": [
            "[nltk_data] Downloading package averaged_perceptron_tagger to\n",
            "[nltk_data]     /root/nltk_data...\n",
            "[nltk_data]   Unzipping taggers/averaged_perceptron_tagger.zip.\n"
          ]
        },
        {
          "output_type": "execute_result",
          "data": {
            "text/plain": [
              "True"
            ]
          },
          "metadata": {},
          "execution_count": 25
        }
      ],
      "source": [
        "import nltk\n",
        "nltk.download('averaged_perceptron_tagger')"
      ]
    },
    {
      "cell_type": "code",
      "source": [
        "x_tokenized = train.stemmed.tolist()\n",
        "test_tokenized =test.stemmed.tolist()"
      ],
      "metadata": {
        "id": "gNySkKOXkv2X"
      },
      "execution_count": null,
      "outputs": []
    },
    {
      "cell_type": "code",
      "execution_count": null,
      "metadata": {
        "id": "1xiSdG2mdAyF"
      },
      "outputs": [],
      "source": [
        "#generating pos tags using nltk\n",
        "pos_tags = [nltk.pos_tag(token) for token in x_tokenized]"
      ]
    },
    {
      "cell_type": "code",
      "source": [
        "pos_tags_test = [nltk.pos_tag(token) for token in test_tokenized]"
      ],
      "metadata": {
        "id": "lYFJb2db0EZ4"
      },
      "execution_count": null,
      "outputs": []
    },
    {
      "cell_type": "code",
      "execution_count": null,
      "metadata": {
        "id": "tNYt7CE_fRUE"
      },
      "outputs": [],
      "source": [
        "#storing train POS tags to the list  \n",
        "tags = []\n",
        "for i in pos_tags:\n",
        "  tags.append([j[1] for j in i])\n"
      ]
    },
    {
      "cell_type": "code",
      "source": [
        "#storing test POS tags to the list  \n",
        "tags_test = []\n",
        "for i in pos_tags_test:\n",
        "  tags_test.append([j[1] for j in i])"
      ],
      "metadata": {
        "id": "RMlds0x80RfM"
      },
      "execution_count": null,
      "outputs": []
    },
    {
      "cell_type": "code",
      "source": [
        "from gensim.models import Word2Vec"
      ],
      "metadata": {
        "id": "tlo2zvi2l8TT"
      },
      "execution_count": null,
      "outputs": []
    },
    {
      "cell_type": "code",
      "source": [
        "import gensim"
      ],
      "metadata": {
        "id": "9M-qVHmOv8-E"
      },
      "execution_count": null,
      "outputs": []
    },
    {
      "cell_type": "code",
      "source": [
        "w2v_model = Word2Vec(min_count=1,     #word2vec embedding for POS tags\n",
        "                 window=2,\n",
        "                 size=30,\n",
        "                 sample=1e-5, \n",
        "                 alpha=0.01, \n",
        "                 min_alpha=0.0007, \n",
        "                 negative=0,\n",
        "                 workers=2)"
      ],
      "metadata": {
        "id": "xqptXZI8lu31"
      },
      "execution_count": null,
      "outputs": []
    },
    {
      "cell_type": "code",
      "source": [
        "w2v_model.build_vocab(tags, progress_per=1)\n",
        "w2v_model.train(tags, total_examples=w2v_model.corpus_count, epochs=3, report_delay=1)\n",
        "\n",
        "# getting the vectors for the Pos_tags from w2v_model\n",
        "my_dict = dict({})\n",
        "for index, key in enumerate(w2v_model.wv.vocab):\n",
        "    my_dict[key] = w2v_model.wv[key]"
      ],
      "metadata": {
        "id": "pwG2A46fmH8d"
      },
      "execution_count": null,
      "outputs": []
    },
    {
      "cell_type": "code",
      "source": [
        "X_train =tags\n",
        "y_train = np.array(train['labels_train'].tolist())"
      ],
      "metadata": {
        "id": "ISy8SD_kyKhq"
      },
      "execution_count": null,
      "outputs": []
    },
    {
      "cell_type": "code",
      "source": [
        "X_test =tags_test\n",
        "y_test = np.array(test['labels_test'].tolist())"
      ],
      "metadata": {
        "id": "u2fk4nPT0ZBp"
      },
      "execution_count": null,
      "outputs": []
    },
    {
      "cell_type": "code",
      "source": [
        "#building vectors for words in text from word2vec model\n",
        "def buildWordVector(text, size):\n",
        "    vec = np.zeros(size).reshape((1, size))\n",
        "    count = 0.\n",
        "    for word in text:\n",
        "        try:\n",
        "            vec += w2v_model[word].reshape((1, size))\n",
        "            count += 1.\n",
        "        except KeyError:\n",
        "            continue\n",
        "    if count != 0:\n",
        "        vec /= count\n",
        "    return vec"
      ],
      "metadata": {
        "id": "jLjPvorIwuZb"
      },
      "execution_count": null,
      "outputs": []
    },
    {
      "cell_type": "code",
      "source": [
        "n_dim = 30"
      ],
      "metadata": {
        "id": "DU4Z9OPAxRIW"
      },
      "execution_count": null,
      "outputs": []
    },
    {
      "cell_type": "code",
      "source": [
        "#preparing training data\n",
        "from sklearn.preprocessing import scale\n",
        "train_vecs = np.concatenate([buildWordVector(z, n_dim) for z in X_train])\n",
        "train_vecs = scale(train_vecs)"
      ],
      "metadata": {
        "colab": {
          "base_uri": "https://localhost:8080/"
        },
        "id": "3SC_xJK3w03K",
        "outputId": "8e01bd82-5f0f-431d-abbc-927979441ad9"
      },
      "execution_count": null,
      "outputs": [
        {
          "output_type": "stream",
          "name": "stderr",
          "text": [
            "/usr/local/lib/python3.7/dist-packages/ipykernel_launcher.py:7: DeprecationWarning: Call to deprecated `__getitem__` (Method will be removed in 4.0.0, use self.wv.__getitem__() instead).\n",
            "  import sys\n"
          ]
        }
      ]
    },
    {
      "cell_type": "code",
      "source": [
        "#preparing testing data\n",
        "from sklearn.preprocessing import scale\n",
        "test_vecs = np.concatenate([buildWordVector(z, n_dim) for z in X_test])\n",
        "test_vecs = scale(test_vecs)"
      ],
      "metadata": {
        "colab": {
          "base_uri": "https://localhost:8080/"
        },
        "id": "mOS37yzv2l2m",
        "outputId": "44041c8d-40cc-4e28-ba0b-ee22d90b268a"
      },
      "execution_count": null,
      "outputs": [
        {
          "output_type": "stream",
          "name": "stderr",
          "text": [
            "/usr/local/lib/python3.7/dist-packages/ipykernel_launcher.py:7: DeprecationWarning: Call to deprecated `__getitem__` (Method will be removed in 4.0.0, use self.wv.__getitem__() instead).\n",
            "  import sys\n"
          ]
        }
      ]
    },
    {
      "cell_type": "code",
      "source": [
        "print(y_train.shape)\n",
        "print(train_vecs.shape)\n"
      ],
      "metadata": {
        "colab": {
          "base_uri": "https://localhost:8080/"
        },
        "id": "Lnd7sBK8CiL4",
        "outputId": "26b40156-85bf-4db4-f44f-b36869f63408"
      },
      "execution_count": null,
      "outputs": [
        {
          "output_type": "stream",
          "name": "stdout",
          "text": [
            "(8243,)\n",
            "(8243, 30)\n"
          ]
        }
      ]
    },
    {
      "cell_type": "code",
      "source": [
        "#SGD Classifier\n",
        "from sklearn.linear_model import SGDClassifier\n",
        "lr = SGDClassifier(loss='log', penalty='l1')\n",
        "lr.fit(train_vecs, y_train)\n",
        "y_pred_sgd = lr.predict(test_vecs)\n",
        "print(classification_report(y_test,y_pred_sgd))\n",
        "\n",
        "print('accuracy_sgd:', accuracy_score(y_test,y_pred_sgd))\n",
        "print('recall_sgd:' ,recall_score(y_test,y_pred_sgd, average='macro'))\n",
        "print('precision_sgd:',precision_score(y_test,y_pred_sgd, average='macro'))\n",
        "print('f1_score_sgd:',f1_score(y_test,y_pred_sgd, average='macro'))"
      ],
      "metadata": {
        "colab": {
          "base_uri": "https://localhost:8080/"
        },
        "id": "R2zWMQMoxamG",
        "outputId": "e71b56df-2d28-4b70-b8df-603a98967e13"
      },
      "execution_count": null,
      "outputs": [
        {
          "output_type": "stream",
          "name": "stdout",
          "text": [
            "              precision    recall  f1-score   support\n",
            "\n",
            "           0       0.58      0.89      0.70       997\n",
            "           1       0.55      0.31      0.39       605\n",
            "           2       0.33      0.00      0.01       259\n",
            "\n",
            "    accuracy                           0.57      1861\n",
            "   macro avg       0.49      0.40      0.37      1861\n",
            "weighted avg       0.54      0.57      0.50      1861\n",
            "\n",
            "accuracy_sgd: 0.5749596990865127\n",
            "recall_sgd: 0.3987687025892552\n",
            "precision_sgd: 0.4886684981744811\n",
            "f1_score_sgd: 0.36761263688338564\n"
          ]
        }
      ]
    },
    {
      "cell_type": "code",
      "source": [
        "from sklearn.datasets import load_digits\n",
        "from sklearn.linear_model import Perceptron\n",
        "clf = Perceptron(tol=1e-3, random_state=0)\n",
        "clf.fit(train_vecs, y_train)\n",
        "y_pred_percep = clf.predict(test_vecs)\n",
        "print(classification_report(y_test,y_pred_percep))\n",
        "\n",
        "print('accuracy_perceptron:', accuracy_score(y_test,y_pred_percep))\n",
        "print('recall_perceptron:' ,recall_score(y_test,y_pred_percep, average='macro'))\n",
        "print('precision_perceptron:',precision_score(y_test,y_pred_percep, average='macro'))\n",
        "print('f1_score_perceptron:',f1_score(y_test,y_pred_percep, average='macro'))\n",
        "\n"
      ],
      "metadata": {
        "colab": {
          "base_uri": "https://localhost:8080/"
        },
        "id": "93nL6B7KyoEp",
        "outputId": "108d20df-fef9-44b0-989c-0476fa03883a"
      },
      "execution_count": null,
      "outputs": [
        {
          "output_type": "stream",
          "name": "stdout",
          "text": [
            "              precision    recall  f1-score   support\n",
            "\n",
            "           0       0.58      0.70      0.63       997\n",
            "           1       0.43      0.38      0.41       605\n",
            "           2       0.15      0.08      0.10       259\n",
            "\n",
            "    accuracy                           0.51      1861\n",
            "   macro avg       0.39      0.39      0.38      1861\n",
            "weighted avg       0.47      0.51      0.49      1861\n",
            "\n",
            "accuracy_perceptron: 0.5088662009672219\n",
            "recall_perceptron: 0.385927475140569\n",
            "precision_perceptron: 0.3887551506734381\n",
            "f1_score_perceptron: 0.38123159590707667\n"
          ]
        }
      ]
    },
    {
      "cell_type": "code",
      "source": [
        "from sklearn.neighbors import KNeighborsClassifier\n",
        "cl = KNeighborsClassifier(n_neighbors=5)\n",
        "cl.fit(train_vecs, y_train)\n",
        "y_pred_kn = cl.predict(test_vecs)\n",
        "print(classification_report(y_test,y_pred_kn))\n",
        "\n",
        "\n",
        "print('accuracy_knn:', accuracy_score(y_test,y_pred_kn))\n",
        "print('recall_knn:' ,recall_score(y_test,y_pred_kn, average='macro'))\n",
        "print('precision_knn:',precision_score(y_test,y_pred_kn, average='macro'))\n",
        "print('f1_score_knn:',f1_score(y_test,y_pred_kn, average='macro'))\n"
      ],
      "metadata": {
        "colab": {
          "base_uri": "https://localhost:8080/"
        },
        "id": "ucukEXQW1itB",
        "outputId": "a81dcf8e-72b1-4200-b920-43d8dd74e9ca"
      },
      "execution_count": null,
      "outputs": [
        {
          "output_type": "stream",
          "name": "stdout",
          "text": [
            "              precision    recall  f1-score   support\n",
            "\n",
            "           0       0.56      0.78      0.65       997\n",
            "           1       0.43      0.29      0.34       605\n",
            "           2       0.14      0.03      0.05       259\n",
            "\n",
            "    accuracy                           0.52      1861\n",
            "   macro avg       0.38      0.37      0.35      1861\n",
            "weighted avg       0.46      0.52      0.47      1861\n",
            "\n",
            "accuracy_knn: 0.5174637291778613\n",
            "recall_knn: 0.36728046227453537\n",
            "precision_knn: 0.37607880129731575\n",
            "f1_score_knn: 0.34903574442734103\n"
          ]
        }
      ]
    },
    {
      "cell_type": "code",
      "source": [
        "mod = SVC(kernel = 'linear', C=1)\n",
        "mod.fit(train_vecs, y_train)\n",
        "y_preds = clf.predict(test_vecs)\n",
        "\n",
        "print('accuracy_SVM :',accuracy_score(y_test, y_preds))\n",
        "print('recall_SVM:',recall_score(y_test, y_preds, average='macro'))\n",
        "print('precision_SVM:',precision_score(y_test, y_preds, average='macro'))\n",
        "print('f1score_SVM:',f1_score(y_test, y_preds, average='macro'))"
      ],
      "metadata": {
        "id": "sNejQKj6oPs0",
        "outputId": "9dbbf481-10f7-48f3-e3cb-8c22fe84fc0c",
        "colab": {
          "base_uri": "https://localhost:8080/"
        }
      },
      "execution_count": null,
      "outputs": [
        {
          "output_type": "stream",
          "name": "stdout",
          "text": [
            "accuracy_SVM : 0.48199892530897365\n",
            "recall_SVM: 0.3607646599348979\n",
            "precision_SVM: 0.35751449355636794\n",
            "f1score_SVM: 0.3545590297898058\n"
          ]
        }
      ]
    },
    {
      "cell_type": "code",
      "source": [
        ""
      ],
      "metadata": {
        "id": "zMGpKMaqpBny"
      },
      "execution_count": null,
      "outputs": []
    }
  ],
  "metadata": {
    "colab": {
      "collapsed_sections": [],
      "name": "POS_Prediction.ipynb",
      "provenance": []
    },
    "kernelspec": {
      "display_name": "Python 3",
      "name": "python3"
    },
    "language_info": {
      "name": "python"
    }
  },
  "nbformat": 4,
  "nbformat_minor": 0
}