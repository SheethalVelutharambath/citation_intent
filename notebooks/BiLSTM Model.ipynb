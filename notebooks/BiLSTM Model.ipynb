{
 "cells": [
  {
   "cell_type": "markdown",
   "metadata": {
    "papermill": {
     "duration": 0.039603,
     "end_time": "2022-07-31T18:50:32.714600",
     "exception": false,
     "start_time": "2022-07-31T18:50:32.674997",
     "status": "completed"
    },
    "tags": []
   },
   "source": [
    "# Import Libraries"
   ]
  },
  {
   "cell_type": "code",
   "execution_count": 1,
   "metadata": {
    "execution": {
     "iopub.execute_input": "2022-07-31T18:50:07.121156Z",
     "iopub.status.busy": "2022-07-31T18:50:07.120870Z",
     "iopub.status.idle": "2022-07-31T18:50:07.230922Z",
     "shell.execute_reply": "2022-07-31T18:50:07.229934Z",
     "shell.execute_reply.started": "2022-07-31T18:50:07.121116Z"
    },
    "papermill": {
     "duration": 7.635241,
     "end_time": "2022-07-31T18:50:40.388281",
     "exception": false,
     "start_time": "2022-07-31T18:50:32.753040",
     "status": "completed"
    },
    "tags": []
   },
   "outputs": [
    {
     "name": "stdout",
     "output_type": "stream",
     "text": [
      "[nltk_data] Downloading package stopwords to /usr/share/nltk_data...\n",
      "[nltk_data]   Unzipping corpora/stopwords.zip.\n"
     ]
    },
    {
     "name": "stderr",
     "output_type": "stream",
     "text": [
      "Using TensorFlow backend.\n"
     ]
    }
   ],
   "source": [
    "import tensorflow as tf\n",
    "import matplotlib.pyplot as plt\n",
    "import pandas as pd\n",
    "import numpy as np\n",
    "from tqdm import tqdm\n",
    "import nltk\n",
    "nltk.download('stopwords')\n",
    "from nltk.corpus import stopwords\n",
    "from nltk.stem import SnowballStemmer\n",
    "\n",
    "from sklearn.model_selection import train_test_split\n",
    "from sklearn.preprocessing import LabelEncoder\n",
    "\n",
    "import re\n",
    "import spacy\n",
    "from tensorflow.keras.layers import Conv1D, Bidirectional, LSTM, Dense, Input, Dropout\n",
    "from tensorflow.keras.layers import SpatialDropout1D\n",
    "from tensorflow.keras.callbacks import ModelCheckpoint\n",
    "from sklearn.metrics import accuracy_score\n",
    "from sklearn.metrics import precision_score\n",
    "from sklearn.metrics import recall_score\n",
    "from sklearn.metrics import f1_score\n",
    "from keras.preprocessing.sequence import pad_sequences\n",
    "from tensorflow.keras.optimizers import Adam"
   ]
  },
  {
   "cell_type": "markdown",
   "metadata": {
    "papermill": {
     "duration": 0.036892,
     "end_time": "2022-07-31T18:50:40.463361",
     "exception": false,
     "start_time": "2022-07-31T18:50:40.426469",
     "status": "completed"
    },
    "tags": []
   },
   "source": [
    "# Download Spacy English Model"
   ]
  },
  {
   "cell_type": "code",
   "execution_count": 2,
   "metadata": {
    "execution": {
     "iopub.execute_input": "2022-07-30T17:54:48.665956Z",
     "iopub.status.busy": "2022-07-30T17:54:48.665524Z",
     "iopub.status.idle": "2022-07-30T17:54:51.374289Z",
     "shell.execute_reply": "2022-07-30T17:54:51.373237Z",
     "shell.execute_reply.started": "2022-07-30T17:54:48.665899Z"
    },
    "papermill": {
     "duration": 0.694845,
     "end_time": "2022-07-31T18:50:41.195901",
     "exception": false,
     "start_time": "2022-07-31T18:50:40.501056",
     "status": "completed"
    },
    "tags": []
   },
   "outputs": [],
   "source": [
    "nlp = spacy.load('en', disable = [\"parser\", \"ner\", \"textcat\", \"tagger\"])"
   ]
  },
  {
   "cell_type": "markdown",
   "metadata": {
    "papermill": {
     "duration": 0.036735,
     "end_time": "2022-07-31T18:50:41.273865",
     "exception": false,
     "start_time": "2022-07-31T18:50:41.237130",
     "status": "completed"
    },
    "tags": []
   },
   "source": [
    "# Read Data"
   ]
  },
  {
   "cell_type": "code",
   "execution_count": 3,
   "metadata": {
    "execution": {
     "iopub.execute_input": "2022-07-30T17:54:57.769970Z",
     "iopub.status.busy": "2022-07-30T17:54:57.769571Z",
     "iopub.status.idle": "2022-07-30T17:54:57.915460Z",
     "shell.execute_reply": "2022-07-30T17:54:57.914327Z",
     "shell.execute_reply.started": "2022-07-30T17:54:57.769910Z"
    },
    "papermill": {
     "duration": 0.210754,
     "end_time": "2022-07-31T18:50:41.521803",
     "exception": false,
     "start_time": "2022-07-31T18:50:41.311049",
     "status": "completed"
    },
    "tags": []
   },
   "outputs": [],
   "source": [
    "train = pd.read_csv(\"../input/cite-dataset/tsv/train.tsv\", sep= '\\t',names=[\"id\", \"explicit\", \"text\", \"label\"])\n",
    "dev = pd.read_csv(\"../input/cite-dataset/tsv/dev.tsv\", sep= '\\t', names=[\"id\", \"explicit\", \"text\", \"label\"])\n",
    "test = pd.read_csv(\"../input/cite-dataset/tsv/test.tsv\", sep= '\\t', names=[\"id\", \"explicit\", \"text\", \"label\"])"
   ]
  },
  {
   "cell_type": "markdown",
   "metadata": {
    "papermill": {
     "duration": 0.0372,
     "end_time": "2022-07-31T18:50:41.596974",
     "exception": false,
     "start_time": "2022-07-31T18:50:41.559774",
     "status": "completed"
    },
    "tags": []
   },
   "source": [
    "# Drop Columns Not Used"
   ]
  },
  {
   "cell_type": "code",
   "execution_count": 4,
   "metadata": {
    "execution": {
     "iopub.execute_input": "2022-07-30T17:55:00.304227Z",
     "iopub.status.busy": "2022-07-30T17:55:00.303758Z",
     "iopub.status.idle": "2022-07-30T17:55:00.319425Z",
     "shell.execute_reply": "2022-07-30T17:55:00.318198Z",
     "shell.execute_reply.started": "2022-07-30T17:55:00.304162Z"
    },
    "papermill": {
     "duration": 0.055242,
     "end_time": "2022-07-31T18:50:41.689743",
     "exception": false,
     "start_time": "2022-07-31T18:50:41.634501",
     "status": "completed"
    },
    "tags": []
   },
   "outputs": [],
   "source": [
    "train.drop(['id', 'explicit'], axis = 1, inplace = True)\n",
    "test.drop(['id', 'explicit'], axis = 1, inplace = True)"
   ]
  },
  {
   "cell_type": "markdown",
   "metadata": {
    "papermill": {
     "duration": 0.036926,
     "end_time": "2022-07-31T18:50:41.764199",
     "exception": false,
     "start_time": "2022-07-31T18:50:41.727273",
     "status": "completed"
    },
    "tags": []
   },
   "source": [
    "# Convert String Label to Numeric Label"
   ]
  },
  {
   "cell_type": "code",
   "execution_count": 5,
   "metadata": {
    "execution": {
     "iopub.execute_input": "2022-07-30T17:55:00.758201Z",
     "iopub.status.busy": "2022-07-30T17:55:00.757774Z",
     "iopub.status.idle": "2022-07-30T17:55:00.766145Z",
     "shell.execute_reply": "2022-07-30T17:55:00.764301Z",
     "shell.execute_reply.started": "2022-07-30T17:55:00.758140Z"
    },
    "papermill": {
     "duration": 0.04781,
     "end_time": "2022-07-31T18:50:41.850011",
     "exception": false,
     "start_time": "2022-07-31T18:50:41.802201",
     "status": "completed"
    },
    "tags": []
   },
   "outputs": [],
   "source": [
    "label_to_num = {\"background\":0, \"method\":1, \"result\":2}\n",
    "def label_decoder(label):\n",
    "    return label_to_num[label]"
   ]
  },
  {
   "cell_type": "code",
   "execution_count": 6,
   "metadata": {
    "execution": {
     "iopub.execute_input": "2022-07-30T17:55:01.288127Z",
     "iopub.status.busy": "2022-07-30T17:55:01.287665Z",
     "iopub.status.idle": "2022-07-30T17:55:01.319774Z",
     "shell.execute_reply": "2022-07-30T17:55:01.318510Z",
     "shell.execute_reply.started": "2022-07-30T17:55:01.288049Z"
    },
    "papermill": {
     "duration": 0.066819,
     "end_time": "2022-07-31T18:50:41.955218",
     "exception": false,
     "start_time": "2022-07-31T18:50:41.888399",
     "status": "completed"
    },
    "tags": []
   },
   "outputs": [
    {
     "data": {
      "text/html": [
       "<div>\n",
       "<style scoped>\n",
       "    .dataframe tbody tr th:only-of-type {\n",
       "        vertical-align: middle;\n",
       "    }\n",
       "\n",
       "    .dataframe tbody tr th {\n",
       "        vertical-align: top;\n",
       "    }\n",
       "\n",
       "    .dataframe thead th {\n",
       "        text-align: right;\n",
       "    }\n",
       "</style>\n",
       "<table border=\"1\" class=\"dataframe\">\n",
       "  <thead>\n",
       "    <tr style=\"text-align: right;\">\n",
       "      <th></th>\n",
       "      <th>text</th>\n",
       "      <th>label</th>\n",
       "      <th>label1</th>\n",
       "    </tr>\n",
       "  </thead>\n",
       "  <tbody>\n",
       "    <tr>\n",
       "      <th>0</th>\n",
       "      <td>However, how frataxin interacts with the Fe-S ...</td>\n",
       "      <td>background</td>\n",
       "      <td>0</td>\n",
       "    </tr>\n",
       "    <tr>\n",
       "      <th>1</th>\n",
       "      <td>In the study by Hickey et al. (2012), spikes w...</td>\n",
       "      <td>background</td>\n",
       "      <td>0</td>\n",
       "    </tr>\n",
       "    <tr>\n",
       "      <th>2</th>\n",
       "      <td>The drug also reduces catecholamine secretion,...</td>\n",
       "      <td>background</td>\n",
       "      <td>0</td>\n",
       "    </tr>\n",
       "    <tr>\n",
       "      <th>3</th>\n",
       "      <td>By clustering with lowly aggressive close kin ...</td>\n",
       "      <td>background</td>\n",
       "      <td>0</td>\n",
       "    </tr>\n",
       "    <tr>\n",
       "      <th>4</th>\n",
       "      <td>Ophthalmic symptoms are rare manifestations of...</td>\n",
       "      <td>background</td>\n",
       "      <td>0</td>\n",
       "    </tr>\n",
       "  </tbody>\n",
       "</table>\n",
       "</div>"
      ],
      "text/plain": [
       "                                                text       label  label1\n",
       "0  However, how frataxin interacts with the Fe-S ...  background       0\n",
       "1  In the study by Hickey et al. (2012), spikes w...  background       0\n",
       "2  The drug also reduces catecholamine secretion,...  background       0\n",
       "3  By clustering with lowly aggressive close kin ...  background       0\n",
       "4  Ophthalmic symptoms are rare manifestations of...  background       0"
      ]
     },
     "execution_count": 6,
     "metadata": {},
     "output_type": "execute_result"
    }
   ],
   "source": [
    "train[\"label1\"] = train[\"label\"].apply(lambda x: label_decoder(x))\n",
    "train.head()"
   ]
  },
  {
   "cell_type": "code",
   "execution_count": 7,
   "metadata": {
    "execution": {
     "iopub.execute_input": "2022-07-30T17:55:02.008398Z",
     "iopub.status.busy": "2022-07-30T17:55:02.007962Z",
     "iopub.status.idle": "2022-07-30T17:55:02.025402Z",
     "shell.execute_reply": "2022-07-30T17:55:02.023405Z",
     "shell.execute_reply.started": "2022-07-30T17:55:02.008338Z"
    },
    "papermill": {
     "duration": 0.061215,
     "end_time": "2022-07-31T18:50:42.056444",
     "exception": false,
     "start_time": "2022-07-31T18:50:41.995229",
     "status": "completed"
    },
    "tags": []
   },
   "outputs": [
    {
     "data": {
      "text/html": [
       "<div>\n",
       "<style scoped>\n",
       "    .dataframe tbody tr th:only-of-type {\n",
       "        vertical-align: middle;\n",
       "    }\n",
       "\n",
       "    .dataframe tbody tr th {\n",
       "        vertical-align: top;\n",
       "    }\n",
       "\n",
       "    .dataframe thead th {\n",
       "        text-align: right;\n",
       "    }\n",
       "</style>\n",
       "<table border=\"1\" class=\"dataframe\">\n",
       "  <thead>\n",
       "    <tr style=\"text-align: right;\">\n",
       "      <th></th>\n",
       "      <th>text</th>\n",
       "      <th>label</th>\n",
       "      <th>label1</th>\n",
       "    </tr>\n",
       "  </thead>\n",
       "  <tbody>\n",
       "    <tr>\n",
       "      <th>0</th>\n",
       "      <td>Chapel, as well as X10 [2], UPC [3] , CoArray ...</td>\n",
       "      <td>background</td>\n",
       "      <td>0</td>\n",
       "    </tr>\n",
       "    <tr>\n",
       "      <th>1</th>\n",
       "      <td>In addition, the result of the present study s...</td>\n",
       "      <td>result</td>\n",
       "      <td>2</td>\n",
       "    </tr>\n",
       "    <tr>\n",
       "      <th>2</th>\n",
       "      <td>Several instruments that more specifically add...</td>\n",
       "      <td>background</td>\n",
       "      <td>0</td>\n",
       "    </tr>\n",
       "    <tr>\n",
       "      <th>3</th>\n",
       "      <td>Organotypic hippocampal slice cultures\\nInterf...</td>\n",
       "      <td>method</td>\n",
       "      <td>1</td>\n",
       "    </tr>\n",
       "    <tr>\n",
       "      <th>4</th>\n",
       "      <td>Activated PBMC are the basis of the standard P...</td>\n",
       "      <td>background</td>\n",
       "      <td>0</td>\n",
       "    </tr>\n",
       "  </tbody>\n",
       "</table>\n",
       "</div>"
      ],
      "text/plain": [
       "                                                text       label  label1\n",
       "0  Chapel, as well as X10 [2], UPC [3] , CoArray ...  background       0\n",
       "1  In addition, the result of the present study s...      result       2\n",
       "2  Several instruments that more specifically add...  background       0\n",
       "3  Organotypic hippocampal slice cultures\\nInterf...      method       1\n",
       "4  Activated PBMC are the basis of the standard P...  background       0"
      ]
     },
     "execution_count": 7,
     "metadata": {},
     "output_type": "execute_result"
    }
   ],
   "source": [
    "test[\"label1\"] = test[\"label\"].apply(lambda x: label_decoder(x))\n",
    "test.head()"
   ]
  },
  {
   "cell_type": "markdown",
   "metadata": {
    "papermill": {
     "duration": 0.037613,
     "end_time": "2022-07-31T18:50:42.136295",
     "exception": false,
     "start_time": "2022-07-31T18:50:42.098682",
     "status": "completed"
    },
    "tags": []
   },
   "source": [
    "# Preprocess Data"
   ]
  },
  {
   "cell_type": "code",
   "execution_count": 8,
   "metadata": {
    "execution": {
     "iopub.execute_input": "2022-07-30T17:55:02.352969Z",
     "iopub.status.busy": "2022-07-30T17:55:02.352495Z",
     "iopub.status.idle": "2022-07-30T17:55:02.361549Z",
     "shell.execute_reply": "2022-07-30T17:55:02.360484Z",
     "shell.execute_reply.started": "2022-07-30T17:55:02.352905Z"
    },
    "papermill": {
     "duration": 0.048514,
     "end_time": "2022-07-31T18:50:42.223046",
     "exception": false,
     "start_time": "2022-07-31T18:50:42.174532",
     "status": "completed"
    },
    "tags": []
   },
   "outputs": [],
   "source": [
    "stop_words = stopwords.words('english')\n",
    "stemmer = SnowballStemmer('english')\n",
    "\n",
    "text_cleaning_re = \"@\\S+|https?:\\S+|http?:\\S|[^A-Za-z0-9]+\""
   ]
  },
  {
   "cell_type": "code",
   "execution_count": 9,
   "metadata": {
    "execution": {
     "iopub.execute_input": "2022-07-30T17:55:02.694142Z",
     "iopub.status.busy": "2022-07-30T17:55:02.693577Z",
     "iopub.status.idle": "2022-07-30T17:55:02.703069Z",
     "shell.execute_reply": "2022-07-30T17:55:02.701538Z",
     "shell.execute_reply.started": "2022-07-30T17:55:02.694024Z"
    },
    "papermill": {
     "duration": 0.049065,
     "end_time": "2022-07-31T18:50:42.310934",
     "exception": false,
     "start_time": "2022-07-31T18:50:42.261869",
     "status": "completed"
    },
    "tags": []
   },
   "outputs": [],
   "source": [
    "def preprocess(text, stem=False):\n",
    "    text = re.sub(text_cleaning_re, ' ', str(text).lower()).strip()\n",
    "    tokens = []\n",
    "    for token in text.split():\n",
    "        if token not in stop_words:\n",
    "            if stem:\n",
    "                tokens.append(stemmer.stem(token))\n",
    "            else:\n",
    "                tokens.append(token)\n",
    "    return \" \".join(tokens)"
   ]
  },
  {
   "cell_type": "code",
   "execution_count": 10,
   "metadata": {
    "execution": {
     "iopub.execute_input": "2022-07-30T17:55:03.046192Z",
     "iopub.status.busy": "2022-07-30T17:55:03.045726Z",
     "iopub.status.idle": "2022-07-30T17:55:04.232578Z",
     "shell.execute_reply": "2022-07-30T17:55:04.231487Z",
     "shell.execute_reply.started": "2022-07-30T17:55:03.046101Z"
    },
    "papermill": {
     "duration": 1.163147,
     "end_time": "2022-07-31T18:50:43.513363",
     "exception": false,
     "start_time": "2022-07-31T18:50:42.350216",
     "status": "completed"
    },
    "tags": []
   },
   "outputs": [],
   "source": [
    "train[\"text1\"] = train[\"text\"].apply(lambda x: preprocess(x))\n",
    "test[\"text1\"] = test[\"text\"].apply(lambda x: preprocess(x))"
   ]
  },
  {
   "cell_type": "markdown",
   "metadata": {
    "papermill": {
     "duration": 0.037544,
     "end_time": "2022-07-31T18:50:43.588716",
     "exception": false,
     "start_time": "2022-07-31T18:50:43.551172",
     "status": "completed"
    },
    "tags": []
   },
   "source": [
    "# Length of Largest Sentence"
   ]
  },
  {
   "cell_type": "code",
   "execution_count": 11,
   "metadata": {
    "execution": {
     "iopub.execute_input": "2022-07-30T17:55:04.236704Z",
     "iopub.status.busy": "2022-07-30T17:55:04.235999Z",
     "iopub.status.idle": "2022-07-30T17:55:04.242251Z",
     "shell.execute_reply": "2022-07-30T17:55:04.240665Z",
     "shell.execute_reply.started": "2022-07-30T17:55:04.236640Z"
    },
    "papermill": {
     "duration": 0.045113,
     "end_time": "2022-07-31T18:50:43.671740",
     "exception": false,
     "start_time": "2022-07-31T18:50:43.626627",
     "status": "completed"
    },
    "tags": []
   },
   "outputs": [],
   "source": [
    "MAX_SEQUENCE_LENGTH = 100"
   ]
  },
  {
   "cell_type": "markdown",
   "metadata": {
    "papermill": {
     "duration": 0.037584,
     "end_time": "2022-07-31T18:50:43.747666",
     "exception": false,
     "start_time": "2022-07-31T18:50:43.710082",
     "status": "completed"
    },
    "tags": []
   },
   "source": [
    "# Tokenize Sentences"
   ]
  },
  {
   "cell_type": "code",
   "execution_count": 12,
   "metadata": {
    "execution": {
     "iopub.execute_input": "2022-07-30T17:55:04.244782Z",
     "iopub.status.busy": "2022-07-30T17:55:04.244012Z",
     "iopub.status.idle": "2022-07-30T17:55:09.061165Z",
     "shell.execute_reply": "2022-07-30T17:55:09.059749Z",
     "shell.execute_reply.started": "2022-07-30T17:55:04.244703Z"
    },
    "papermill": {
     "duration": 3.258117,
     "end_time": "2022-07-31T18:50:47.045209",
     "exception": false,
     "start_time": "2022-07-31T18:50:43.787092",
     "status": "completed"
    },
    "tags": []
   },
   "outputs": [
    {
     "name": "stderr",
     "output_type": "stream",
     "text": [
      "8243it [00:03, 2589.97it/s]\n"
     ]
    }
   ],
   "source": [
    "tokens = []\n",
    "for doc in tqdm(nlp.pipe(train[\"text1\"].values, n_threads = 16)):\n",
    "    tokens.append(\" \".join([n.text for n in doc]))\n",
    "train[\"text1\"] = tokens"
   ]
  },
  {
   "cell_type": "code",
   "execution_count": 13,
   "metadata": {
    "execution": {
     "iopub.execute_input": "2022-07-30T17:55:09.064953Z",
     "iopub.status.busy": "2022-07-30T17:55:09.064429Z",
     "iopub.status.idle": "2022-07-30T17:55:09.958631Z",
     "shell.execute_reply": "2022-07-30T17:55:09.957208Z",
     "shell.execute_reply.started": "2022-07-30T17:55:09.064861Z"
    },
    "papermill": {
     "duration": 0.686242,
     "end_time": "2022-07-31T18:50:47.778090",
     "exception": false,
     "start_time": "2022-07-31T18:50:47.091848",
     "status": "completed"
    },
    "tags": []
   },
   "outputs": [
    {
     "name": "stderr",
     "output_type": "stream",
     "text": [
      "1861it [00:00, 3005.68it/s]\n"
     ]
    }
   ],
   "source": [
    "tokens = []\n",
    "for doc in tqdm(nlp.pipe(test[\"text1\"].values, n_threads = 16)):\n",
    "    tokens.append(\" \".join([n.text for n in doc]))\n",
    "test[\"text1\"] = tokens"
   ]
  },
  {
   "cell_type": "markdown",
   "metadata": {
    "papermill": {
     "duration": 0.049396,
     "end_time": "2022-07-31T18:50:47.876711",
     "exception": false,
     "start_time": "2022-07-31T18:50:47.827315",
     "status": "completed"
    },
    "tags": []
   },
   "source": [
    "# Split Data for Validation"
   ]
  },
  {
   "cell_type": "code",
   "execution_count": 14,
   "metadata": {
    "execution": {
     "iopub.execute_input": "2022-07-30T18:06:40.813855Z",
     "iopub.status.busy": "2022-07-30T18:06:40.813376Z",
     "iopub.status.idle": "2022-07-30T18:06:40.828368Z",
     "shell.execute_reply": "2022-07-30T18:06:40.827175Z",
     "shell.execute_reply.started": "2022-07-30T18:06:40.813793Z"
    },
    "papermill": {
     "duration": 0.064498,
     "end_time": "2022-07-31T18:50:47.991742",
     "exception": false,
     "start_time": "2022-07-31T18:50:47.927244",
     "status": "completed"
    },
    "tags": []
   },
   "outputs": [],
   "source": [
    "train, val = train_test_split(train, test_size=0.1, random_state=2018)"
   ]
  },
  {
   "cell_type": "markdown",
   "metadata": {
    "papermill": {
     "duration": 0.048773,
     "end_time": "2022-07-31T18:50:48.091482",
     "exception": false,
     "start_time": "2022-07-31T18:50:48.042709",
     "status": "completed"
    },
    "tags": []
   },
   "source": [
    "# Initialize a Tokenizer"
   ]
  },
  {
   "cell_type": "code",
   "execution_count": 15,
   "metadata": {
    "execution": {
     "iopub.execute_input": "2022-07-30T18:06:41.297756Z",
     "iopub.status.busy": "2022-07-30T18:06:41.297356Z",
     "iopub.status.idle": "2022-07-30T18:06:41.546670Z",
     "shell.execute_reply": "2022-07-30T18:06:41.544247Z",
     "shell.execute_reply.started": "2022-07-30T18:06:41.297677Z"
    },
    "papermill": {
     "duration": 0.365335,
     "end_time": "2022-07-31T18:50:48.507045",
     "exception": false,
     "start_time": "2022-07-31T18:50:48.141710",
     "status": "completed"
    },
    "tags": []
   },
   "outputs": [
    {
     "name": "stdout",
     "output_type": "stream",
     "text": [
      "Vocabulary Size : 27579\n"
     ]
    }
   ],
   "source": [
    "from keras.preprocessing.text import Tokenizer\n",
    "\n",
    "tokenizer = Tokenizer(filters='!\"#$%&()*+,-./:;<=>?@[\\]^`{|}~')\n",
    "\n",
    "tokenizer.fit_on_texts(train.text1)\n",
    "\n",
    "word_index = tokenizer.word_index\n",
    "vocab_size = len(tokenizer.word_index) + 1\n",
    "print(\"Vocabulary Size :\", vocab_size)"
   ]
  },
  {
   "cell_type": "markdown",
   "metadata": {
    "papermill": {
     "duration": 0.04951,
     "end_time": "2022-07-31T18:50:48.606876",
     "exception": false,
     "start_time": "2022-07-31T18:50:48.557366",
     "status": "completed"
    },
    "tags": []
   },
   "source": [
    "# Pad Sentences to Length of Largest Sentence"
   ]
  },
  {
   "cell_type": "code",
   "execution_count": 16,
   "metadata": {
    "execution": {
     "iopub.execute_input": "2022-07-30T18:06:42.204243Z",
     "iopub.status.busy": "2022-07-30T18:06:42.203779Z",
     "iopub.status.idle": "2022-07-30T18:06:42.527604Z",
     "shell.execute_reply": "2022-07-30T18:06:42.526654Z",
     "shell.execute_reply.started": "2022-07-30T18:06:42.204174Z"
    },
    "papermill": {
     "duration": 0.389231,
     "end_time": "2022-07-31T18:50:49.046099",
     "exception": false,
     "start_time": "2022-07-31T18:50:48.656868",
     "status": "completed"
    },
    "tags": []
   },
   "outputs": [
    {
     "name": "stdout",
     "output_type": "stream",
     "text": [
      "Training X Shape: (7418, 100)\n",
      "Validation X Shape: (825, 100)\n",
      "Testing X Shape: (1861, 100)\n"
     ]
    }
   ],
   "source": [
    "x_train = pad_sequences(tokenizer.texts_to_sequences(train.text1),\n",
    "                        maxlen = MAX_SEQUENCE_LENGTH)\n",
    "x_val = pad_sequences(tokenizer.texts_to_sequences(val.text1),\n",
    "                        maxlen = MAX_SEQUENCE_LENGTH)\n",
    "x_test = pad_sequences(tokenizer.texts_to_sequences(test.text1),\n",
    "                       maxlen = MAX_SEQUENCE_LENGTH)\n",
    "\n",
    "print(\"Training X Shape:\",x_train.shape)\n",
    "print(\"Validation X Shape:\",x_val.shape)\n",
    "print(\"Testing X Shape:\",x_test.shape)"
   ]
  },
  {
   "cell_type": "markdown",
   "metadata": {
    "papermill": {
     "duration": 0.049771,
     "end_time": "2022-07-31T18:50:49.147244",
     "exception": false,
     "start_time": "2022-07-31T18:50:49.097473",
     "status": "completed"
    },
    "tags": []
   },
   "source": [
    "# Vectorize the Labels"
   ]
  },
  {
   "cell_type": "code",
   "execution_count": 17,
   "metadata": {
    "execution": {
     "iopub.execute_input": "2022-07-30T18:06:43.978145Z",
     "iopub.status.busy": "2022-07-30T18:06:43.977729Z",
     "iopub.status.idle": "2022-07-30T18:06:43.985347Z",
     "shell.execute_reply": "2022-07-30T18:06:43.983752Z",
     "shell.execute_reply.started": "2022-07-30T18:06:43.978064Z"
    },
    "papermill": {
     "duration": 0.058682,
     "end_time": "2022-07-31T18:50:49.255817",
     "exception": false,
     "start_time": "2022-07-31T18:50:49.197135",
     "status": "completed"
    },
    "tags": []
   },
   "outputs": [],
   "source": [
    "y_train = train['label1']\n",
    "y_val = val[\"label1\"]\n",
    "y_test = test['label1']"
   ]
  },
  {
   "cell_type": "code",
   "execution_count": 18,
   "metadata": {
    "execution": {
     "iopub.execute_input": "2022-07-30T18:06:44.467905Z",
     "iopub.status.busy": "2022-07-30T18:06:44.467442Z",
     "iopub.status.idle": "2022-07-30T18:06:44.497350Z",
     "shell.execute_reply": "2022-07-30T18:06:44.496170Z",
     "shell.execute_reply.started": "2022-07-30T18:06:44.467847Z"
    },
    "papermill": {
     "duration": 0.076852,
     "end_time": "2022-07-31T18:50:49.384196",
     "exception": false,
     "start_time": "2022-07-31T18:50:49.307344",
     "status": "completed"
    },
    "tags": []
   },
   "outputs": [],
   "source": [
    "y_train_list = []\n",
    "for i in y_train:\n",
    "    kd = np.zeros(3)\n",
    "    kd[i]=1\n",
    "    y_train_list.append(list(kd))"
   ]
  },
  {
   "cell_type": "code",
   "execution_count": 19,
   "metadata": {
    "execution": {
     "iopub.execute_input": "2022-07-30T18:06:45.112664Z",
     "iopub.status.busy": "2022-07-30T18:06:45.112230Z",
     "iopub.status.idle": "2022-07-30T18:06:45.121535Z",
     "shell.execute_reply": "2022-07-30T18:06:45.119946Z",
     "shell.execute_reply.started": "2022-07-30T18:06:45.112606Z"
    },
    "papermill": {
     "duration": 0.061383,
     "end_time": "2022-07-31T18:50:49.495274",
     "exception": false,
     "start_time": "2022-07-31T18:50:49.433891",
     "status": "completed"
    },
    "tags": []
   },
   "outputs": [],
   "source": [
    "y_val_list = []\n",
    "for i in y_val:\n",
    "    kd = np.zeros(3)\n",
    "    kd[i]=1\n",
    "    y_val_list.append(list(kd))"
   ]
  },
  {
   "cell_type": "code",
   "execution_count": 20,
   "metadata": {
    "execution": {
     "iopub.execute_input": "2022-07-30T18:06:46.577302Z",
     "iopub.status.busy": "2022-07-30T18:06:46.576818Z",
     "iopub.status.idle": "2022-07-30T18:06:46.589962Z",
     "shell.execute_reply": "2022-07-30T18:06:46.588756Z",
     "shell.execute_reply.started": "2022-07-30T18:06:46.577238Z"
    },
    "papermill": {
     "duration": 0.11256,
     "end_time": "2022-07-31T18:50:49.658404",
     "exception": false,
     "start_time": "2022-07-31T18:50:49.545844",
     "status": "completed"
    },
    "tags": []
   },
   "outputs": [],
   "source": [
    "y_test_list = []\n",
    "for i in y_test:\n",
    "    kd = np.zeros(3)\n",
    "    kd[i]=1\n",
    "    y_test_list.append(list(kd))"
   ]
  },
  {
   "cell_type": "code",
   "execution_count": 21,
   "metadata": {
    "execution": {
     "iopub.execute_input": "2022-07-30T18:06:46.990137Z",
     "iopub.status.busy": "2022-07-30T18:06:46.989699Z",
     "iopub.status.idle": "2022-07-30T18:06:47.008356Z",
     "shell.execute_reply": "2022-07-30T18:06:47.007122Z",
     "shell.execute_reply.started": "2022-07-30T18:06:46.990051Z"
    },
    "papermill": {
     "duration": 0.066183,
     "end_time": "2022-07-31T18:50:49.774855",
     "exception": false,
     "start_time": "2022-07-31T18:50:49.708672",
     "status": "completed"
    },
    "tags": []
   },
   "outputs": [],
   "source": [
    "y_train_list = np.array(y_train_list)\n",
    "y_val_list = np.array(y_val_list)\n",
    "y_test_list = np.array(y_test_list)"
   ]
  },
  {
   "cell_type": "markdown",
   "metadata": {
    "papermill": {
     "duration": 0.06288,
     "end_time": "2022-07-31T18:50:49.892907",
     "exception": false,
     "start_time": "2022-07-31T18:50:49.830027",
     "status": "completed"
    },
    "tags": []
   },
   "source": [
    "# Download GloVE Model"
   ]
  },
  {
   "cell_type": "code",
   "execution_count": 22,
   "metadata": {
    "execution": {
     "iopub.execute_input": "2022-07-30T17:55:53.301916Z",
     "iopub.status.busy": "2022-07-30T17:55:53.301506Z",
     "iopub.status.idle": "2022-07-30T17:59:01.699870Z",
     "shell.execute_reply": "2022-07-30T17:59:01.698504Z",
     "shell.execute_reply.started": "2022-07-30T17:55:53.301857Z"
    },
    "papermill": {
     "duration": 194.093442,
     "end_time": "2022-07-31T18:54:04.041114",
     "exception": false,
     "start_time": "2022-07-31T18:50:49.947672",
     "status": "completed"
    },
    "tags": []
   },
   "outputs": [
    {
     "name": "stdout",
     "output_type": "stream",
     "text": [
      "--2022-07-31 18:50:50--  http://nlp.stanford.edu/data/glove.6B.zip\r\n",
      "Resolving nlp.stanford.edu (nlp.stanford.edu)... 171.64.67.140\r\n",
      "Connecting to nlp.stanford.edu (nlp.stanford.edu)|171.64.67.140|:80... connected.\r\n",
      "HTTP request sent, awaiting response... 302 Found\r\n",
      "Location: https://nlp.stanford.edu/data/glove.6B.zip [following]\r\n",
      "--2022-07-31 18:50:51--  https://nlp.stanford.edu/data/glove.6B.zip\r\n",
      "Connecting to nlp.stanford.edu (nlp.stanford.edu)|171.64.67.140|:443... connected.\r\n",
      "HTTP request sent, awaiting response... 301 Moved Permanently\r\n",
      "Location: https://downloads.cs.stanford.edu/nlp/data/glove.6B.zip [following]\r\n",
      "--2022-07-31 18:50:51--  https://downloads.cs.stanford.edu/nlp/data/glove.6B.zip\r\n",
      "Resolving downloads.cs.stanford.edu (downloads.cs.stanford.edu)... 171.64.64.22\r\n",
      "Connecting to downloads.cs.stanford.edu (downloads.cs.stanford.edu)|171.64.64.22|:443... connected.\r\n",
      "HTTP request sent, awaiting response... 200 OK\r\n",
      "Length: 862182613 (822M) [application/zip]\r\n",
      "Saving to: ‘glove.6B.zip’\r\n",
      "\r\n",
      "glove.6B.zip        100%[===================>] 822.24M  5.01MB/s    in 2m 41s  \r\n",
      "\r\n",
      "2022-07-31 18:53:33 (5.12 MB/s) - ‘glove.6B.zip’ saved [862182613/862182613]\r\n",
      "\r\n",
      "Archive:  glove.6B.zip\r\n",
      "  inflating: glove.6B.50d.txt        \r\n",
      "  inflating: glove.6B.100d.txt       \r\n",
      "  inflating: glove.6B.200d.txt       \r\n",
      "  inflating: glove.6B.300d.txt       \r\n"
     ]
    }
   ],
   "source": [
    "!wget http://nlp.stanford.edu/data/glove.6B.zip\n",
    "!unzip glove.6B.zip"
   ]
  },
  {
   "cell_type": "markdown",
   "metadata": {
    "papermill": {
     "duration": 0.278062,
     "end_time": "2022-07-31T18:54:04.606325",
     "exception": false,
     "start_time": "2022-07-31T18:54:04.328263",
     "status": "completed"
    },
    "tags": []
   },
   "source": [
    "# Conguration Values"
   ]
  },
  {
   "cell_type": "code",
   "execution_count": 23,
   "metadata": {
    "execution": {
     "iopub.execute_input": "2022-07-30T18:06:50.233796Z",
     "iopub.status.busy": "2022-07-30T18:06:50.233366Z",
     "iopub.status.idle": "2022-07-30T18:06:50.239597Z",
     "shell.execute_reply": "2022-07-30T18:06:50.238287Z",
     "shell.execute_reply.started": "2022-07-30T18:06:50.233735Z"
    },
    "papermill": {
     "duration": 0.291187,
     "end_time": "2022-07-31T18:54:05.175078",
     "exception": false,
     "start_time": "2022-07-31T18:54:04.883891",
     "status": "completed"
    },
    "tags": []
   },
   "outputs": [],
   "source": [
    "GLOVE_EMB = '/kaggle/working/glove.6B.300d.txt'\n",
    "EMBEDDING_DIM = 300\n",
    "LR = 1e-3\n",
    "BATCH_SIZE = 1024\n",
    "EPOCHS = 50\n",
    "MODEL_PATH = '.../output/kaggle/working/best_model.hdf5'"
   ]
  },
  {
   "cell_type": "markdown",
   "metadata": {
    "papermill": {
     "duration": 0.280752,
     "end_time": "2022-07-31T18:54:05.738460",
     "exception": false,
     "start_time": "2022-07-31T18:54:05.457708",
     "status": "completed"
    },
    "tags": []
   },
   "source": [
    "# Load GloVe Model"
   ]
  },
  {
   "cell_type": "code",
   "execution_count": 24,
   "metadata": {
    "execution": {
     "iopub.execute_input": "2022-07-30T18:06:50.391023Z",
     "iopub.status.busy": "2022-07-30T18:06:50.390649Z",
     "iopub.status.idle": "2022-07-30T18:07:43.761430Z",
     "shell.execute_reply": "2022-07-30T18:07:43.760415Z",
     "shell.execute_reply.started": "2022-07-30T18:06:50.390964Z"
    },
    "papermill": {
     "duration": 33.515789,
     "end_time": "2022-07-31T18:54:39.536078",
     "exception": false,
     "start_time": "2022-07-31T18:54:06.020289",
     "status": "completed"
    },
    "tags": []
   },
   "outputs": [
    {
     "name": "stdout",
     "output_type": "stream",
     "text": [
      "Found 400000 word vectors.\n"
     ]
    }
   ],
   "source": [
    "embeddings_index = {}\n",
    "\n",
    "f = open(GLOVE_EMB)\n",
    "for line in f:\n",
    "  values = line.split()\n",
    "  word = value = values[0]\n",
    "  coefs = np.asarray(values[1:], dtype='float32')\n",
    "  embeddings_index[word] = coefs\n",
    "f.close()\n",
    "\n",
    "print('Found %s word vectors.' %len(embeddings_index))"
   ]
  },
  {
   "cell_type": "markdown",
   "metadata": {
    "papermill": {
     "duration": 0.279259,
     "end_time": "2022-07-31T18:54:40.099142",
     "exception": false,
     "start_time": "2022-07-31T18:54:39.819883",
     "status": "completed"
    },
    "tags": []
   },
   "source": [
    "# Generate Embedding Matrix from GloVe Model"
   ]
  },
  {
   "cell_type": "code",
   "execution_count": 25,
   "metadata": {
    "execution": {
     "iopub.execute_input": "2022-07-30T18:07:43.765286Z",
     "iopub.status.busy": "2022-07-30T18:07:43.764831Z",
     "iopub.status.idle": "2022-07-30T18:07:43.861536Z",
     "shell.execute_reply": "2022-07-30T18:07:43.860317Z",
     "shell.execute_reply.started": "2022-07-30T18:07:43.765223Z"
    },
    "papermill": {
     "duration": 0.465926,
     "end_time": "2022-07-31T18:54:40.849918",
     "exception": false,
     "start_time": "2022-07-31T18:54:40.383992",
     "status": "completed"
    },
    "tags": []
   },
   "outputs": [],
   "source": [
    "embedding_matrix = np.zeros((vocab_size, EMBEDDING_DIM))\n",
    "for word, i in word_index.items():\n",
    "    embedding_vector = embeddings_index.get(word)\n",
    "    if embedding_vector is not None:\n",
    "        embedding_matrix[i] = embedding_vector"
   ]
  },
  {
   "cell_type": "markdown",
   "metadata": {
    "papermill": {
     "duration": 0.281553,
     "end_time": "2022-07-31T18:54:41.431114",
     "exception": false,
     "start_time": "2022-07-31T18:54:41.149561",
     "status": "completed"
    },
    "tags": []
   },
   "source": [
    "# Embedding Layer to Vectorize Padded Sequences using Embedding Matrix"
   ]
  },
  {
   "cell_type": "code",
   "execution_count": 26,
   "metadata": {
    "execution": {
     "iopub.execute_input": "2022-07-30T18:07:43.864370Z",
     "iopub.status.busy": "2022-07-30T18:07:43.863724Z",
     "iopub.status.idle": "2022-07-30T18:07:43.871732Z",
     "shell.execute_reply": "2022-07-30T18:07:43.870589Z",
     "shell.execute_reply.started": "2022-07-30T18:07:43.864121Z"
    },
    "papermill": {
     "duration": 0.313266,
     "end_time": "2022-07-31T18:54:42.023265",
     "exception": false,
     "start_time": "2022-07-31T18:54:41.709999",
     "status": "completed"
    },
    "tags": []
   },
   "outputs": [],
   "source": [
    "embedding_layer = tf.keras.layers.Embedding(vocab_size,\n",
    "                                          EMBEDDING_DIM,\n",
    "                                          weights=[embedding_matrix],\n",
    "                                          input_length=MAX_SEQUENCE_LENGTH,\n",
    "                                          trainable=False)"
   ]
  },
  {
   "cell_type": "markdown",
   "metadata": {
    "papermill": {
     "duration": 0.278938,
     "end_time": "2022-07-31T18:54:42.580833",
     "exception": false,
     "start_time": "2022-07-31T18:54:42.301895",
     "status": "completed"
    },
    "tags": []
   },
   "source": [
    "# LSTM Model"
   ]
  },
  {
   "cell_type": "code",
   "execution_count": 27,
   "metadata": {
    "execution": {
     "iopub.execute_input": "2022-07-30T18:07:43.890702Z",
     "iopub.status.busy": "2022-07-30T18:07:43.890186Z",
     "iopub.status.idle": "2022-07-30T18:07:44.529963Z",
     "shell.execute_reply": "2022-07-30T18:07:44.528989Z",
     "shell.execute_reply.started": "2022-07-30T18:07:43.890627Z"
    },
    "papermill": {
     "duration": 1.146989,
     "end_time": "2022-07-31T18:54:44.006784",
     "exception": false,
     "start_time": "2022-07-31T18:54:42.859795",
     "status": "completed"
    },
    "tags": []
   },
   "outputs": [],
   "source": [
    "sequence_input = Input(shape=(MAX_SEQUENCE_LENGTH,), dtype='int32')\n",
    "embedding_sequences = embedding_layer(sequence_input)\n",
    "x = SpatialDropout1D(0.2)(embedding_sequences)\n",
    "x = Bidirectional(LSTM(100, dropout=0.2, recurrent_dropout=0.2))(x)\n",
    "outputs = Dense(3, activation='softmax')(x)\n",
    "model = tf.keras.Model(sequence_input, outputs)"
   ]
  },
  {
   "cell_type": "markdown",
   "metadata": {
    "papermill": {
     "duration": 0.279633,
     "end_time": "2022-07-31T18:54:44.565412",
     "exception": false,
     "start_time": "2022-07-31T18:54:44.285779",
     "status": "completed"
    },
    "tags": []
   },
   "source": [
    "\n",
    "# Early Stopping Callback\n"
   ]
  },
  {
   "cell_type": "code",
   "execution_count": 28,
   "metadata": {
    "execution": {
     "iopub.execute_input": "2022-07-30T18:07:44.535013Z",
     "iopub.status.busy": "2022-07-30T18:07:44.534642Z",
     "iopub.status.idle": "2022-07-30T18:07:44.543787Z",
     "shell.execute_reply": "2022-07-30T18:07:44.542726Z",
     "shell.execute_reply.started": "2022-07-30T18:07:44.534926Z"
    },
    "papermill": {
     "duration": 0.292234,
     "end_time": "2022-07-31T18:54:45.139076",
     "exception": false,
     "start_time": "2022-07-31T18:54:44.846842",
     "status": "completed"
    },
    "tags": []
   },
   "outputs": [],
   "source": [
    "es = tf.keras.callbacks.EarlyStopping(\n",
    "    monitor='val_loss',\n",
    "    patience=20, # Wait for next best value till 20 epochs\n",
    "    verbose=1,\n",
    "    mode='min',\n",
    "    restore_best_weights=True\n",
    ")"
   ]
  },
  {
   "cell_type": "markdown",
   "metadata": {
    "papermill": {
     "duration": 0.277476,
     "end_time": "2022-07-31T18:54:45.697386",
     "exception": false,
     "start_time": "2022-07-31T18:54:45.419910",
     "status": "completed"
    },
    "tags": []
   },
   "source": [
    "# Model Checkpointing Callback"
   ]
  },
  {
   "cell_type": "code",
   "execution_count": 29,
   "metadata": {
    "execution": {
     "iopub.execute_input": "2022-07-30T18:07:44.546540Z",
     "iopub.status.busy": "2022-07-30T18:07:44.545960Z",
     "iopub.status.idle": "2022-07-30T18:07:44.558195Z",
     "shell.execute_reply": "2022-07-30T18:07:44.557050Z",
     "shell.execute_reply.started": "2022-07-30T18:07:44.546322Z"
    },
    "papermill": {
     "duration": 0.287407,
     "end_time": "2022-07-31T18:54:46.262901",
     "exception": false,
     "start_time": "2022-07-31T18:54:45.975494",
     "status": "completed"
    },
    "tags": []
   },
   "outputs": [],
   "source": [
    "mc = tf.keras.callbacks.ModelCheckpoint(\n",
    "    \"./model{epoch:04d}.h5\",\n",
    "    monitor=\"val_loss\",\n",
    "    verbose=1,\n",
    "    save_best_only=True,\n",
    "    save_weights_only=False,\n",
    "    mode=\"min\",\n",
    "    save_freq=\"epoch\",\n",
    ")"
   ]
  },
  {
   "cell_type": "markdown",
   "metadata": {
    "papermill": {
     "duration": 0.283078,
     "end_time": "2022-07-31T18:54:46.824041",
     "exception": false,
     "start_time": "2022-07-31T18:54:46.540963",
     "status": "completed"
    },
    "tags": []
   },
   "source": [
    "# Compile Model"
   ]
  },
  {
   "cell_type": "code",
   "execution_count": 30,
   "metadata": {
    "execution": {
     "iopub.execute_input": "2022-07-30T18:07:44.560217Z",
     "iopub.status.busy": "2022-07-30T18:07:44.559800Z",
     "iopub.status.idle": "2022-07-30T18:07:44.612788Z",
     "shell.execute_reply": "2022-07-30T18:07:44.611765Z",
     "shell.execute_reply.started": "2022-07-30T18:07:44.560130Z"
    },
    "papermill": {
     "duration": 0.32628,
     "end_time": "2022-07-31T18:54:47.433094",
     "exception": false,
     "start_time": "2022-07-31T18:54:47.106814",
     "status": "completed"
    },
    "tags": []
   },
   "outputs": [],
   "source": [
    "model.compile(optimizer=Adam(learning_rate=LR), loss='categorical_crossentropy',\n",
    "              metrics=['accuracy'])"
   ]
  },
  {
   "cell_type": "markdown",
   "metadata": {
    "papermill": {
     "duration": 0.28143,
     "end_time": "2022-07-31T18:54:47.999434",
     "exception": false,
     "start_time": "2022-07-31T18:54:47.718004",
     "status": "completed"
    },
    "tags": []
   },
   "source": [
    "# Train Model"
   ]
  },
  {
   "cell_type": "code",
   "execution_count": 31,
   "metadata": {
    "execution": {
     "iopub.execute_input": "2022-07-30T18:12:29.942066Z",
     "iopub.status.busy": "2022-07-30T18:12:29.941615Z",
     "iopub.status.idle": "2022-07-30T18:12:34.872000Z",
     "shell.execute_reply": "2022-07-30T18:12:34.869631Z",
     "shell.execute_reply.started": "2022-07-30T18:12:29.941991Z"
    },
    "papermill": {
     "duration": 1189.073229,
     "end_time": "2022-07-31T19:14:37.351752",
     "exception": false,
     "start_time": "2022-07-31T18:54:48.278523",
     "status": "completed"
    },
    "tags": []
   },
   "outputs": [
    {
     "name": "stdout",
     "output_type": "stream",
     "text": [
      "Train on 7418 samples, validate on 825 samples\n",
      "Epoch 1/50\n",
      "7168/7418 [===========================>..] - ETA: 1s - loss: 1.0028 - accuracy: 0.5201\n",
      "Epoch 00001: val_loss improved from inf to 1.02126, saving model to ./model0001.h5\n",
      "7418/7418 [==============================] - 33s 4ms/sample - loss: 0.9988 - accuracy: 0.5233 - val_loss: 1.0213 - val_accuracy: 0.5467\n",
      "Epoch 2/50\n",
      "7168/7418 [===========================>..] - ETA: 0s - loss: 0.9067 - accuracy: 0.6124\n",
      "Epoch 00002: val_loss improved from 1.02126 to 0.91461, saving model to ./model0002.h5\n",
      "7418/7418 [==============================] - 24s 3ms/sample - loss: 0.9051 - accuracy: 0.6134 - val_loss: 0.9146 - val_accuracy: 0.6327\n",
      "Epoch 3/50\n",
      "7168/7418 [===========================>..] - ETA: 0s - loss: 0.8500 - accuracy: 0.6437\n",
      "Epoch 00003: val_loss improved from 0.91461 to 0.85031, saving model to ./model0003.h5\n",
      "7418/7418 [==============================] - 23s 3ms/sample - loss: 0.8478 - accuracy: 0.6445 - val_loss: 0.8503 - val_accuracy: 0.6461\n",
      "Epoch 4/50\n",
      "7168/7418 [===========================>..] - ETA: 0s - loss: 0.7881 - accuracy: 0.6768\n",
      "Epoch 00004: val_loss improved from 0.85031 to 0.78575, saving model to ./model0004.h5\n",
      "7418/7418 [==============================] - 23s 3ms/sample - loss: 0.7898 - accuracy: 0.6761 - val_loss: 0.7857 - val_accuracy: 0.6909\n",
      "Epoch 5/50\n",
      "7168/7418 [===========================>..] - ETA: 0s - loss: 0.7439 - accuracy: 0.6952\n",
      "Epoch 00005: val_loss improved from 0.78575 to 0.74369, saving model to ./model0005.h5\n",
      "7418/7418 [==============================] - 23s 3ms/sample - loss: 0.7425 - accuracy: 0.6953 - val_loss: 0.7437 - val_accuracy: 0.6885\n",
      "Epoch 6/50\n",
      "7168/7418 [===========================>..] - ETA: 0s - loss: 0.7133 - accuracy: 0.7080\n",
      "Epoch 00006: val_loss improved from 0.74369 to 0.68891, saving model to ./model0006.h5\n",
      "7418/7418 [==============================] - 24s 3ms/sample - loss: 0.7137 - accuracy: 0.7073 - val_loss: 0.6889 - val_accuracy: 0.7139\n",
      "Epoch 7/50\n",
      "7168/7418 [===========================>..] - ETA: 0s - loss: 0.6662 - accuracy: 0.7225\n",
      "Epoch 00007: val_loss improved from 0.68891 to 0.61011, saving model to ./model0007.h5\n",
      "7418/7418 [==============================] - 23s 3ms/sample - loss: 0.6679 - accuracy: 0.7220 - val_loss: 0.6101 - val_accuracy: 0.7612\n",
      "Epoch 8/50\n",
      "7168/7418 [===========================>..] - ETA: 0s - loss: 0.6240 - accuracy: 0.7464\n",
      "Epoch 00008: val_loss improved from 0.61011 to 0.57057, saving model to ./model0008.h5\n",
      "7418/7418 [==============================] - 23s 3ms/sample - loss: 0.6266 - accuracy: 0.7447 - val_loss: 0.5706 - val_accuracy: 0.7842\n",
      "Epoch 9/50\n",
      "7168/7418 [===========================>..] - ETA: 0s - loss: 0.6010 - accuracy: 0.7589\n",
      "Epoch 00009: val_loss improved from 0.57057 to 0.56888, saving model to ./model0009.h5\n",
      "7418/7418 [==============================] - 23s 3ms/sample - loss: 0.5999 - accuracy: 0.7592 - val_loss: 0.5689 - val_accuracy: 0.7806\n",
      "Epoch 10/50\n",
      "7168/7418 [===========================>..] - ETA: 0s - loss: 0.5794 - accuracy: 0.7677\n",
      "Epoch 00010: val_loss improved from 0.56888 to 0.55881, saving model to ./model0010.h5\n",
      "7418/7418 [==============================] - 23s 3ms/sample - loss: 0.5778 - accuracy: 0.7691 - val_loss: 0.5588 - val_accuracy: 0.7927\n",
      "Epoch 11/50\n",
      "7168/7418 [===========================>..] - ETA: 0s - loss: 0.5659 - accuracy: 0.7792\n",
      "Epoch 00011: val_loss improved from 0.55881 to 0.55366, saving model to ./model0011.h5\n",
      "7418/7418 [==============================] - 23s 3ms/sample - loss: 0.5640 - accuracy: 0.7804 - val_loss: 0.5537 - val_accuracy: 0.7915\n",
      "Epoch 12/50\n",
      "7168/7418 [===========================>..] - ETA: 0s - loss: 0.5427 - accuracy: 0.7891\n",
      "Epoch 00012: val_loss improved from 0.55366 to 0.53624, saving model to ./model0012.h5\n",
      "7418/7418 [==============================] - 23s 3ms/sample - loss: 0.5400 - accuracy: 0.7898 - val_loss: 0.5362 - val_accuracy: 0.7964\n",
      "Epoch 13/50\n",
      "7168/7418 [===========================>..] - ETA: 0s - loss: 0.5323 - accuracy: 0.7938\n",
      "Epoch 00013: val_loss did not improve from 0.53624\n",
      "7418/7418 [==============================] - 23s 3ms/sample - loss: 0.5305 - accuracy: 0.7947 - val_loss: 0.5367 - val_accuracy: 0.7879\n",
      "Epoch 14/50\n",
      "7168/7418 [===========================>..] - ETA: 0s - loss: 0.5261 - accuracy: 0.7942\n",
      "Epoch 00014: val_loss improved from 0.53624 to 0.52652, saving model to ./model0014.h5\n",
      "7418/7418 [==============================] - 24s 3ms/sample - loss: 0.5252 - accuracy: 0.7943 - val_loss: 0.5265 - val_accuracy: 0.7964\n",
      "Epoch 15/50\n",
      "7168/7418 [===========================>..] - ETA: 0s - loss: 0.5140 - accuracy: 0.8016\n",
      "Epoch 00015: val_loss did not improve from 0.52652\n",
      "7418/7418 [==============================] - 23s 3ms/sample - loss: 0.5155 - accuracy: 0.8006 - val_loss: 0.5426 - val_accuracy: 0.7782\n",
      "Epoch 16/50\n",
      "7168/7418 [===========================>..] - ETA: 0s - loss: 0.4971 - accuracy: 0.8048\n",
      "Epoch 00016: val_loss did not improve from 0.52652\n",
      "7418/7418 [==============================] - 23s 3ms/sample - loss: 0.5004 - accuracy: 0.8036 - val_loss: 0.5416 - val_accuracy: 0.7842\n",
      "Epoch 17/50\n",
      "7168/7418 [===========================>..] - ETA: 0s - loss: 0.4983 - accuracy: 0.8069\n",
      "Epoch 00017: val_loss did not improve from 0.52652\n",
      "7418/7418 [==============================] - 23s 3ms/sample - loss: 0.4968 - accuracy: 0.8079 - val_loss: 0.5340 - val_accuracy: 0.7806\n",
      "Epoch 18/50\n",
      "7168/7418 [===========================>..] - ETA: 0s - loss: 0.4929 - accuracy: 0.8050\n",
      "Epoch 00018: val_loss improved from 0.52652 to 0.51746, saving model to ./model0018.h5\n",
      "7418/7418 [==============================] - 24s 3ms/sample - loss: 0.4925 - accuracy: 0.8056 - val_loss: 0.5175 - val_accuracy: 0.8048\n",
      "Epoch 19/50\n",
      "7168/7418 [===========================>..] - ETA: 0s - loss: 0.4798 - accuracy: 0.8149\n",
      "Epoch 00019: val_loss did not improve from 0.51746\n",
      "7418/7418 [==============================] - 24s 3ms/sample - loss: 0.4794 - accuracy: 0.8153 - val_loss: 0.5192 - val_accuracy: 0.7964\n",
      "Epoch 20/50\n",
      "7168/7418 [===========================>..] - ETA: 0s - loss: 0.4790 - accuracy: 0.8138\n",
      "Epoch 00020: val_loss improved from 0.51746 to 0.51620, saving model to ./model0020.h5\n",
      "7418/7418 [==============================] - 24s 3ms/sample - loss: 0.4780 - accuracy: 0.8142 - val_loss: 0.5162 - val_accuracy: 0.7879\n",
      "Epoch 21/50\n",
      "7168/7418 [===========================>..] - ETA: 0s - loss: 0.4670 - accuracy: 0.8172\n",
      "Epoch 00021: val_loss improved from 0.51620 to 0.50753, saving model to ./model0021.h5\n",
      "7418/7418 [==============================] - 24s 3ms/sample - loss: 0.4660 - accuracy: 0.8183 - val_loss: 0.5075 - val_accuracy: 0.8012\n",
      "Epoch 22/50\n",
      "7168/7418 [===========================>..] - ETA: 0s - loss: 0.4633 - accuracy: 0.8213\n",
      "Epoch 00022: val_loss did not improve from 0.50753\n",
      "7418/7418 [==============================] - 24s 3ms/sample - loss: 0.4602 - accuracy: 0.8219 - val_loss: 0.5090 - val_accuracy: 0.8012\n",
      "Epoch 23/50\n",
      "7168/7418 [===========================>..] - ETA: 0s - loss: 0.4514 - accuracy: 0.8273\n",
      "Epoch 00023: val_loss improved from 0.50753 to 0.50559, saving model to ./model0023.h5\n",
      "7418/7418 [==============================] - 24s 3ms/sample - loss: 0.4506 - accuracy: 0.8284 - val_loss: 0.5056 - val_accuracy: 0.7952\n",
      "Epoch 24/50\n",
      "7168/7418 [===========================>..] - ETA: 0s - loss: 0.4556 - accuracy: 0.8202\n",
      "Epoch 00024: val_loss did not improve from 0.50559\n",
      "7418/7418 [==============================] - 27s 4ms/sample - loss: 0.4539 - accuracy: 0.8212 - val_loss: 0.5224 - val_accuracy: 0.7733\n",
      "Epoch 25/50\n",
      "7168/7418 [===========================>..] - ETA: 0s - loss: 0.4368 - accuracy: 0.8326\n",
      "Epoch 00025: val_loss did not improve from 0.50559\n",
      "7418/7418 [==============================] - 24s 3ms/sample - loss: 0.4363 - accuracy: 0.8322 - val_loss: 0.5253 - val_accuracy: 0.7903\n",
      "Epoch 26/50\n",
      "7168/7418 [===========================>..] - ETA: 0s - loss: 0.4378 - accuracy: 0.8304\n",
      "Epoch 00026: val_loss did not improve from 0.50559\n",
      "7418/7418 [==============================] - 24s 3ms/sample - loss: 0.4355 - accuracy: 0.8316 - val_loss: 0.5190 - val_accuracy: 0.7927\n",
      "Epoch 27/50\n",
      "7168/7418 [===========================>..] - ETA: 0s - loss: 0.4292 - accuracy: 0.8340\n",
      "Epoch 00027: val_loss did not improve from 0.50559\n",
      "7418/7418 [==============================] - 24s 3ms/sample - loss: 0.4294 - accuracy: 0.8339 - val_loss: 0.5064 - val_accuracy: 0.8073\n",
      "Epoch 28/50\n",
      "7168/7418 [===========================>..] - ETA: 0s - loss: 0.4200 - accuracy: 0.8412\n",
      "Epoch 00028: val_loss improved from 0.50559 to 0.50086, saving model to ./model0028.h5\n",
      "7418/7418 [==============================] - 23s 3ms/sample - loss: 0.4209 - accuracy: 0.8407 - val_loss: 0.5009 - val_accuracy: 0.8036\n",
      "Epoch 29/50\n",
      "7168/7418 [===========================>..] - ETA: 0s - loss: 0.4140 - accuracy: 0.8394\n",
      "Epoch 00029: val_loss improved from 0.50086 to 0.50042, saving model to ./model0029.h5\n",
      "7418/7418 [==============================] - 24s 3ms/sample - loss: 0.4154 - accuracy: 0.8385 - val_loss: 0.5004 - val_accuracy: 0.8036\n",
      "Epoch 30/50\n",
      "7168/7418 [===========================>..] - ETA: 0s - loss: 0.4106 - accuracy: 0.8412\n",
      "Epoch 00030: val_loss did not improve from 0.50042\n",
      "7418/7418 [==============================] - 23s 3ms/sample - loss: 0.4106 - accuracy: 0.8408 - val_loss: 0.5173 - val_accuracy: 0.7855\n",
      "Epoch 31/50\n",
      "7168/7418 [===========================>..] - ETA: 0s - loss: 0.4061 - accuracy: 0.8435\n",
      "Epoch 00031: val_loss improved from 0.50042 to 0.49693, saving model to ./model0031.h5\n",
      "7418/7418 [==============================] - 23s 3ms/sample - loss: 0.4077 - accuracy: 0.8424 - val_loss: 0.4969 - val_accuracy: 0.7988\n",
      "Epoch 32/50\n",
      "7168/7418 [===========================>..] - ETA: 0s - loss: 0.3972 - accuracy: 0.8470\n",
      "Epoch 00032: val_loss did not improve from 0.49693\n",
      "7418/7418 [==============================] - 23s 3ms/sample - loss: 0.3963 - accuracy: 0.8467 - val_loss: 0.5107 - val_accuracy: 0.7939\n",
      "Epoch 33/50\n",
      "7168/7418 [===========================>..] - ETA: 0s - loss: 0.3877 - accuracy: 0.8510\n",
      "Epoch 00033: val_loss did not improve from 0.49693\n",
      "7418/7418 [==============================] - 23s 3ms/sample - loss: 0.3879 - accuracy: 0.8506 - val_loss: 0.5071 - val_accuracy: 0.8000\n",
      "Epoch 34/50\n",
      "7168/7418 [===========================>..] - ETA: 0s - loss: 0.3764 - accuracy: 0.8563\n",
      "Epoch 00034: val_loss did not improve from 0.49693\n",
      "7418/7418 [==============================] - 23s 3ms/sample - loss: 0.3763 - accuracy: 0.8559 - val_loss: 0.5016 - val_accuracy: 0.8097\n",
      "Epoch 35/50\n",
      "7168/7418 [===========================>..] - ETA: 0s - loss: 0.3769 - accuracy: 0.8521\n",
      "Epoch 00035: val_loss did not improve from 0.49693\n",
      "7418/7418 [==============================] - 24s 3ms/sample - loss: 0.3746 - accuracy: 0.8535 - val_loss: 0.4984 - val_accuracy: 0.8073\n",
      "Epoch 36/50\n",
      "7168/7418 [===========================>..] - ETA: 0s - loss: 0.3733 - accuracy: 0.8552\n",
      "Epoch 00036: val_loss did not improve from 0.49693\n",
      "7418/7418 [==============================] - 24s 3ms/sample - loss: 0.3742 - accuracy: 0.8544 - val_loss: 0.5052 - val_accuracy: 0.8012\n",
      "Epoch 37/50\n",
      "7168/7418 [===========================>..] - ETA: 0s - loss: 0.3615 - accuracy: 0.8594\n",
      "Epoch 00037: val_loss improved from 0.49693 to 0.49137, saving model to ./model0037.h5\n",
      "7418/7418 [==============================] - 24s 3ms/sample - loss: 0.3624 - accuracy: 0.8591 - val_loss: 0.4914 - val_accuracy: 0.8109\n",
      "Epoch 38/50\n",
      "7168/7418 [===========================>..] - ETA: 0s - loss: 0.3578 - accuracy: 0.8620\n",
      "Epoch 00038: val_loss did not improve from 0.49137\n",
      "7418/7418 [==============================] - 24s 3ms/sample - loss: 0.3584 - accuracy: 0.8610 - val_loss: 0.4971 - val_accuracy: 0.8048\n",
      "Epoch 39/50\n",
      "7168/7418 [===========================>..] - ETA: 0s - loss: 0.3553 - accuracy: 0.8652\n",
      "Epoch 00039: val_loss did not improve from 0.49137\n",
      "7418/7418 [==============================] - 23s 3ms/sample - loss: 0.3560 - accuracy: 0.8648 - val_loss: 0.4979 - val_accuracy: 0.8085\n",
      "Epoch 40/50\n",
      "7168/7418 [===========================>..] - ETA: 0s - loss: 0.3425 - accuracy: 0.8686\n",
      "Epoch 00040: val_loss did not improve from 0.49137\n",
      "7418/7418 [==============================] - 23s 3ms/sample - loss: 0.3451 - accuracy: 0.8671 - val_loss: 0.5145 - val_accuracy: 0.8048\n",
      "Epoch 41/50\n",
      "7168/7418 [===========================>..] - ETA: 0s - loss: 0.3427 - accuracy: 0.8683\n",
      "Epoch 00041: val_loss did not improve from 0.49137\n",
      "7418/7418 [==============================] - 23s 3ms/sample - loss: 0.3427 - accuracy: 0.8679 - val_loss: 0.5207 - val_accuracy: 0.7976\n",
      "Epoch 42/50\n",
      "7168/7418 [===========================>..] - ETA: 0s - loss: 0.3361 - accuracy: 0.8719\n",
      "Epoch 00042: val_loss did not improve from 0.49137\n",
      "7418/7418 [==============================] - 25s 3ms/sample - loss: 0.3368 - accuracy: 0.8714 - val_loss: 0.5190 - val_accuracy: 0.8000\n",
      "Epoch 43/50\n",
      "7168/7418 [===========================>..] - ETA: 0s - loss: 0.3314 - accuracy: 0.8739\n",
      "Epoch 00043: val_loss did not improve from 0.49137\n",
      "7418/7418 [==============================] - 24s 3ms/sample - loss: 0.3313 - accuracy: 0.8740 - val_loss: 0.5206 - val_accuracy: 0.7939\n",
      "Epoch 44/50\n",
      "7168/7418 [===========================>..] - ETA: 0s - loss: 0.3360 - accuracy: 0.8691\n",
      "Epoch 00044: val_loss did not improve from 0.49137\n",
      "7418/7418 [==============================] - 23s 3ms/sample - loss: 0.3350 - accuracy: 0.8694 - val_loss: 0.5421 - val_accuracy: 0.7964\n",
      "Epoch 45/50\n",
      "7168/7418 [===========================>..] - ETA: 0s - loss: 0.3269 - accuracy: 0.8758\n",
      "Epoch 00045: val_loss did not improve from 0.49137\n",
      "7418/7418 [==============================] - 23s 3ms/sample - loss: 0.3274 - accuracy: 0.8749 - val_loss: 0.5122 - val_accuracy: 0.7964\n",
      "Epoch 46/50\n",
      "7168/7418 [===========================>..] - ETA: 0s - loss: 0.3149 - accuracy: 0.8806\n",
      "Epoch 00046: val_loss did not improve from 0.49137\n",
      "7418/7418 [==============================] - 23s 3ms/sample - loss: 0.3153 - accuracy: 0.8804 - val_loss: 0.4983 - val_accuracy: 0.8109\n",
      "Epoch 47/50\n",
      "7168/7418 [===========================>..] - ETA: 0s - loss: 0.3014 - accuracy: 0.8883\n",
      "Epoch 00047: val_loss did not improve from 0.49137\n",
      "7418/7418 [==============================] - 23s 3ms/sample - loss: 0.3034 - accuracy: 0.8864 - val_loss: 0.5081 - val_accuracy: 0.8085\n",
      "Epoch 48/50\n",
      "7168/7418 [===========================>..] - ETA: 0s - loss: 0.3054 - accuracy: 0.8813\n",
      "Epoch 00048: val_loss did not improve from 0.49137\n",
      "7418/7418 [==============================] - 23s 3ms/sample - loss: 0.3077 - accuracy: 0.8804 - val_loss: 0.5112 - val_accuracy: 0.8012\n",
      "Epoch 49/50\n",
      "7168/7418 [===========================>..] - ETA: 0s - loss: 0.2955 - accuracy: 0.8853\n",
      "Epoch 00049: val_loss did not improve from 0.49137\n",
      "7418/7418 [==============================] - 25s 3ms/sample - loss: 0.2973 - accuracy: 0.8850 - val_loss: 0.5092 - val_accuracy: 0.8097\n",
      "Epoch 50/50\n",
      "7168/7418 [===========================>..] - ETA: 0s - loss: 0.2887 - accuracy: 0.8890\n",
      "Epoch 00050: val_loss did not improve from 0.49137\n",
      "7418/7418 [==============================] - 26s 4ms/sample - loss: 0.2883 - accuracy: 0.8889 - val_loss: 0.5070 - val_accuracy: 0.8085\n"
     ]
    }
   ],
   "source": [
    "history = model.fit(x_train, y_train_list, batch_size=BATCH_SIZE, epochs=EPOCHS,\n",
    "                    validation_data=(x_val, y_val_list), callbacks=[es, mc])"
   ]
  },
  {
   "cell_type": "markdown",
   "metadata": {
    "papermill": {
     "duration": 0.415185,
     "end_time": "2022-07-31T19:14:38.183185",
     "exception": false,
     "start_time": "2022-07-31T19:14:37.768000",
     "status": "completed"
    },
    "tags": []
   },
   "source": [
    "# Plot of the Training and Validation Metrics\n"
   ]
  },
  {
   "cell_type": "code",
   "execution_count": 32,
   "metadata": {
    "execution": {
     "iopub.execute_input": "2022-07-31T18:47:45.398714Z",
     "iopub.status.busy": "2022-07-31T18:47:45.398203Z",
     "iopub.status.idle": "2022-07-31T18:47:45.772439Z",
     "shell.execute_reply": "2022-07-31T18:47:45.770904Z",
     "shell.execute_reply.started": "2022-07-31T18:47:45.398450Z"
    },
    "papermill": {
     "duration": 0.837335,
     "end_time": "2022-07-31T19:14:39.433133",
     "exception": false,
     "start_time": "2022-07-31T19:14:38.595798",
     "status": "completed"
    },
    "tags": []
   },
   "outputs": [
    {
     "data": {
      "image/png": "[encoded data removed]",
      "text/plain": [
       "<Figure size 432x288 with 1 Axes>"
      ]
     },
     "metadata": {
      "needs_background": "light"
     },
     "output_type": "display_data"
    },
    {
     "data": {
      "image/png": "[encoded data removed]",
      "text/plain": [
       "<Figure size 432x288 with 1 Axes>"
      ]
     },
     "metadata": {
      "needs_background": "light"
     },
     "output_type": "display_data"
    }
   ],
   "source": [
    "plt.plot(history.history['accuracy'])\n",
    "plt.plot(history.history['val_accuracy'])\n",
    "plt.title('model accuracy')\n",
    "plt.ylabel('accuracy')\n",
    "plt.xlabel('epoch')\n",
    "plt.legend(['train', 'validation'], loc='upper left')\n",
    "plt.show()\n",
    "# summarize history for loss\n",
    "plt.plot(history.history['loss'])\n",
    "plt.plot(history.history['val_loss'])\n",
    "plt.title('model loss')\n",
    "plt.ylabel('loss')\n",
    "plt.xlabel('epoch')\n",
    "plt.legend(['train', 'validation'], loc='upper left')\n",
    "plt.show()"
   ]
  },
  {
   "cell_type": "markdown",
   "metadata": {
    "papermill": {
     "duration": 0.422782,
     "end_time": "2022-07-31T19:14:40.283239",
     "exception": false,
     "start_time": "2022-07-31T19:14:39.860457",
     "status": "completed"
    },
    "tags": []
   },
   "source": [
    "# Test Data Evaluation"
   ]
  },
  {
   "cell_type": "code",
   "execution_count": 33,
   "metadata": {
    "execution": {
     "iopub.execute_input": "2022-07-30T18:10:23.798720Z",
     "iopub.status.busy": "2022-07-30T18:10:23.798272Z",
     "iopub.status.idle": "2022-07-30T18:10:27.709893Z",
     "shell.execute_reply": "2022-07-30T18:10:27.708790Z",
     "shell.execute_reply.started": "2022-07-30T18:10:23.798656Z"
    },
    "papermill": {
     "duration": 2.886835,
     "end_time": "2022-07-31T19:14:43.582843",
     "exception": false,
     "start_time": "2022-07-31T19:14:40.696008",
     "status": "completed"
    },
    "tags": []
   },
   "outputs": [
    {
     "name": "stdout",
     "output_type": "stream",
     "text": [
      "Test Loss: 0.589533142365159\n",
      "Test Accuracy: 0.7839871\n"
     ]
    }
   ],
   "source": [
    "test_acc = model.evaluate(x_test, y_test_list, verbose=0)\n",
    "print(\"Test Loss:\", test_acc[0])\n",
    "print(\"Test Accuracy:\", test_acc[1])"
   ]
  },
  {
   "cell_type": "code",
   "execution_count": 34,
   "metadata": {
    "execution": {
     "iopub.execute_input": "2022-07-30T18:10:36.514248Z",
     "iopub.status.busy": "2022-07-30T18:10:36.513850Z",
     "iopub.status.idle": "2022-07-30T18:10:40.326987Z",
     "shell.execute_reply": "2022-07-30T18:10:40.325767Z",
     "shell.execute_reply.started": "2022-07-30T18:10:36.514189Z"
    },
    "papermill": {
     "duration": 3.248285,
     "end_time": "2022-07-31T19:14:47.247868",
     "exception": false,
     "start_time": "2022-07-31T19:14:43.999583",
     "status": "completed"
    },
    "tags": []
   },
   "outputs": [],
   "source": [
    "y_pred = model.predict(x_test, verbose=0)\n",
    "yhat = np.argmax(y_pred,axis=1)\n",
    "y_true = np.argmax(y_test_list,axis = 1)"
   ]
  },
  {
   "cell_type": "code",
   "execution_count": null,
   "metadata": {
    "execution": {
     "iopub.execute_input": "2022-07-30T18:10:40.332345Z",
     "iopub.status.busy": "2022-07-30T18:10:40.331976Z",
     "iopub.status.idle": "2022-07-30T18:10:40.338296Z",
     "shell.execute_reply": "2022-07-30T18:10:40.337109Z",
     "shell.execute_reply.started": "2022-07-30T18:10:40.332287Z"
    },
    "papermill": {
     "duration": 0.488454,
     "end_time": "2022-07-31T19:14:48.149946",
     "exception": false,
     "start_time": "2022-07-31T19:14:47.661492",
     "status": "completed"
    },
    "tags": []
   },
   "outputs": [],
   "source": []
  },
  {
   "cell_type": "code",
   "execution_count": 35,
   "metadata": {
    "execution": {
     "iopub.execute_input": "2022-07-30T18:10:40.341223Z",
     "iopub.status.busy": "2022-07-30T18:10:40.340450Z",
     "iopub.status.idle": "2022-07-30T18:10:40.361496Z",
     "shell.execute_reply": "2022-07-30T18:10:40.359742Z",
     "shell.execute_reply.started": "2022-07-30T18:10:40.341161Z"
    },
    "papermill": {
     "duration": 0.427238,
     "end_time": "2022-07-31T19:14:48.988317",
     "exception": false,
     "start_time": "2022-07-31T19:14:48.561079",
     "status": "completed"
    },
    "tags": []
   },
   "outputs": [
    {
     "data": {
      "text/plain": [
       "0.783987103707684"
      ]
     },
     "execution_count": 35,
     "metadata": {},
     "output_type": "execute_result"
    }
   ],
   "source": [
    "accuracy_score(y_true,yhat)"
   ]
  },
  {
   "cell_type": "code",
   "execution_count": 36,
   "metadata": {
    "execution": {
     "iopub.execute_input": "2022-07-30T18:10:45.595369Z",
     "iopub.status.busy": "2022-07-30T18:10:45.594875Z",
     "iopub.status.idle": "2022-07-30T18:10:45.606347Z",
     "shell.execute_reply": "2022-07-30T18:10:45.605075Z",
     "shell.execute_reply.started": "2022-07-30T18:10:45.595303Z"
    },
    "papermill": {
     "duration": 0.425466,
     "end_time": "2022-07-31T19:14:49.829079",
     "exception": false,
     "start_time": "2022-07-31T19:14:49.403613",
     "status": "completed"
    },
    "tags": []
   },
   "outputs": [
    {
     "data": {
      "text/plain": [
       "0.7574859860430241"
      ]
     },
     "execution_count": 36,
     "metadata": {},
     "output_type": "execute_result"
    }
   ],
   "source": [
    "precision_score(y_true,yhat, average='macro')"
   ]
  },
  {
   "cell_type": "code",
   "execution_count": 37,
   "metadata": {
    "execution": {
     "iopub.execute_input": "2022-07-30T18:10:46.116232Z",
     "iopub.status.busy": "2022-07-30T18:10:46.115797Z",
     "iopub.status.idle": "2022-07-30T18:10:46.129406Z",
     "shell.execute_reply": "2022-07-30T18:10:46.127767Z",
     "shell.execute_reply.started": "2022-07-30T18:10:46.116157Z"
    },
    "papermill": {
     "duration": 0.425463,
     "end_time": "2022-07-31T19:14:50.672067",
     "exception": false,
     "start_time": "2022-07-31T19:14:50.246604",
     "status": "completed"
    },
    "tags": []
   },
   "outputs": [
    {
     "data": {
      "text/plain": [
       "0.7754233076928436"
      ]
     },
     "execution_count": 37,
     "metadata": {},
     "output_type": "execute_result"
    }
   ],
   "source": [
    "recall_score(y_true,yhat, average='macro')"
   ]
  },
  {
   "cell_type": "code",
   "execution_count": 38,
   "metadata": {
    "execution": {
     "iopub.execute_input": "2022-07-30T18:10:46.376731Z",
     "iopub.status.busy": "2022-07-30T18:10:46.376284Z",
     "iopub.status.idle": "2022-07-30T18:10:46.389157Z",
     "shell.execute_reply": "2022-07-30T18:10:46.387775Z",
     "shell.execute_reply.started": "2022-07-30T18:10:46.376666Z"
    },
    "papermill": {
     "duration": 0.426181,
     "end_time": "2022-07-31T19:14:51.541274",
     "exception": false,
     "start_time": "2022-07-31T19:14:51.115093",
     "status": "completed"
    },
    "tags": []
   },
   "outputs": [
    {
     "data": {
      "text/plain": [
       "0.7653487433412055"
      ]
     },
     "execution_count": 38,
     "metadata": {},
     "output_type": "execute_result"
    }
   ],
   "source": [
    "f1_score(y_true,yhat, average='macro')"
   ]
  },
  {
   "cell_type": "code",
   "execution_count": null,
   "metadata": {
    "papermill": {
     "duration": 0.41681,
     "end_time": "2022-07-31T19:14:52.371823",
     "exception": false,
     "start_time": "2022-07-31T19:14:51.955013",
     "status": "completed"
    },
    "tags": []
   },
   "outputs": [],
   "source": []
  }
 ],
 "metadata": {
  "kernelspec": {
   "display_name": "Python 3",
   "language": "python",
   "name": "python3"
  },
  "language_info": {
   "codemirror_mode": {
    "name": "ipython",
    "version": 3
   },
   "file_extension": ".py",
   "mimetype": "text/x-python",
   "name": "python",
   "nbconvert_exporter": "python",
   "pygments_lexer": "ipython3",
   "version": "3.7.6"
  },
  "papermill": {
   "duration": 1466.055471,
   "end_time": "2022-07-31T19:14:54.817306",
   "environment_variables": {},
   "exception": null,
   "input_path": "__notebook__.ipynb",
   "output_path": "__notebook__.ipynb",
   "parameters": {},
   "start_time": "2022-07-31T18:50:28.761835",
   "version": "1.2.1"
  }
 },
 "nbformat": 4,
 "nbformat_minor": 4
}
