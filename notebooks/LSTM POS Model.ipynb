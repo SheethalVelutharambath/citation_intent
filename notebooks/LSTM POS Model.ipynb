{
 "cells": [
  {
   "cell_type": "markdown",
   "metadata": {
    "papermill": {
     "duration": 0.046622,
     "end_time": "2022-07-31T18:24:44.184505",
     "exception": false,
     "start_time": "2022-07-31T18:24:44.137883",
     "status": "completed"
    },
    "tags": []
   },
   "source": [
    "# Import Libraries"
   ]
  },
  {
   "cell_type": "code",
   "execution_count": 1,
   "metadata": {
    "papermill": {
     "duration": 7.068601,
     "end_time": "2022-07-31T18:24:51.296585",
     "exception": false,
     "start_time": "2022-07-31T18:24:44.227984",
     "status": "completed"
    },
    "tags": []
   },
   "outputs": [
    {
     "name": "stdout",
     "output_type": "stream",
     "text": [
      "[nltk_data] Downloading package stopwords to /usr/share/nltk_data...\n",
      "[nltk_data]   Unzipping corpora/stopwords.zip.\n"
     ]
    },
    {
     "name": "stderr",
     "output_type": "stream",
     "text": [
      "Using TensorFlow backend.\n"
     ]
    }
   ],
   "source": [
    "import tensorflow as tf\n",
    "import matplotlib.pyplot as plt\n",
    "import pandas as pd\n",
    "import numpy as np\n",
    "from tqdm import tqdm\n",
    "import nltk\n",
    "nltk.download('stopwords')\n",
    "from nltk.corpus import stopwords\n",
    "from nltk.stem import SnowballStemmer\n",
    "\n",
    "from sklearn.model_selection import train_test_split\n",
    "from sklearn.preprocessing import LabelEncoder\n",
    "\n",
    "import re\n",
    "import spacy\n",
    "from keras.preprocessing.text import Tokenizer\n",
    "from keras.preprocessing.sequence import pad_sequences\n",
    "from tensorflow.keras.layers import Conv1D, Bidirectional, LSTM, Dense, Input, Dropout\n",
    "from tensorflow.keras.layers import SpatialDropout1D\n",
    "from tensorflow.keras.callbacks import ModelCheckpoint\n",
    "from tensorflow.keras.optimizers import Adam\n",
    "from sklearn.metrics import accuracy_score\n",
    "from sklearn.metrics import precision_score\n",
    "from sklearn.metrics import recall_score\n",
    "from sklearn.metrics import f1_score"
   ]
  },
  {
   "cell_type": "markdown",
   "metadata": {
    "papermill": {
     "duration": 0.043746,
     "end_time": "2022-07-31T18:24:51.385792",
     "exception": false,
     "start_time": "2022-07-31T18:24:51.342046",
     "status": "completed"
    },
    "tags": []
   },
   "source": [
    "# Download Spacy English Model"
   ]
  },
  {
   "cell_type": "code",
   "execution_count": 2,
   "metadata": {
    "execution": {
     "iopub.execute_input": "2022-07-31T17:59:35.318618Z",
     "iopub.status.busy": "2022-07-31T17:59:35.318306Z",
     "iopub.status.idle": "2022-07-31T17:59:37.549406Z",
     "shell.execute_reply": "2022-07-31T17:59:37.548475Z",
     "shell.execute_reply.started": "2022-07-31T17:59:35.318570Z"
    },
    "papermill": {
     "duration": 1.032028,
     "end_time": "2022-07-31T18:24:52.462586",
     "exception": false,
     "start_time": "2022-07-31T18:24:51.430558",
     "status": "completed"
    },
    "tags": []
   },
   "outputs": [],
   "source": [
    "nlp = spacy.load(\"en_core_web_sm\", disable = [\"parser\", \"ner\", \"textcat\", \"tagger\"])"
   ]
  },
  {
   "cell_type": "markdown",
   "metadata": {
    "papermill": {
     "duration": 0.044176,
     "end_time": "2022-07-31T18:24:52.551796",
     "exception": false,
     "start_time": "2022-07-31T18:24:52.507620",
     "status": "completed"
    },
    "tags": []
   },
   "source": [
    "# Read Data"
   ]
  },
  {
   "cell_type": "code",
   "execution_count": 3,
   "metadata": {
    "execution": {
     "iopub.execute_input": "2022-07-31T17:59:37.552576Z",
     "iopub.status.busy": "2022-07-31T17:59:37.551948Z",
     "iopub.status.idle": "2022-07-31T17:59:37.675546Z",
     "shell.execute_reply": "2022-07-31T17:59:37.674695Z",
     "shell.execute_reply.started": "2022-07-31T17:59:37.552523Z"
    },
    "papermill": {
     "duration": 0.181817,
     "end_time": "2022-07-31T18:24:52.777934",
     "exception": false,
     "start_time": "2022-07-31T18:24:52.596117",
     "status": "completed"
    },
    "tags": []
   },
   "outputs": [],
   "source": [
    "train = pd.read_csv(\"../input/cite-dataset/tsv/train.tsv\", sep= '\\t',names=[\"id\", \"explicit\", \"text\", \"label\"])\n",
    "dev = pd.read_csv(\"../input/cite-dataset/tsv/dev.tsv\", sep= '\\t', names=[\"id\", \"explicit\", \"text\", \"label\"])\n",
    "test = pd.read_csv(\"../input/cite-dataset/tsv/test.tsv\", sep= '\\t', names=[\"id\", \"explicit\", \"text\", \"label\"])"
   ]
  },
  {
   "cell_type": "markdown",
   "metadata": {
    "papermill": {
     "duration": 0.04429,
     "end_time": "2022-07-31T18:24:52.867433",
     "exception": false,
     "start_time": "2022-07-31T18:24:52.823143",
     "status": "completed"
    },
    "tags": []
   },
   "source": [
    "# Drop Columns Not Used"
   ]
  },
  {
   "cell_type": "code",
   "execution_count": 4,
   "metadata": {
    "execution": {
     "iopub.execute_input": "2022-07-31T17:59:37.677340Z",
     "iopub.status.busy": "2022-07-31T17:59:37.676993Z",
     "iopub.status.idle": "2022-07-31T17:59:37.690295Z",
     "shell.execute_reply": "2022-07-31T17:59:37.689398Z",
     "shell.execute_reply.started": "2022-07-31T17:59:37.677290Z"
    },
    "papermill": {
     "duration": 0.059882,
     "end_time": "2022-07-31T18:24:52.971899",
     "exception": false,
     "start_time": "2022-07-31T18:24:52.912017",
     "status": "completed"
    },
    "tags": []
   },
   "outputs": [],
   "source": [
    "train.drop(['id', 'explicit'], axis = 1, inplace = True)\n",
    "test.drop(['id', 'explicit'], axis = 1, inplace = True)"
   ]
  },
  {
   "cell_type": "markdown",
   "metadata": {
    "papermill": {
     "duration": 0.044795,
     "end_time": "2022-07-31T18:24:53.062284",
     "exception": false,
     "start_time": "2022-07-31T18:24:53.017489",
     "status": "completed"
    },
    "tags": []
   },
   "source": [
    "# Convert String Label to Numeric Label"
   ]
  },
  {
   "cell_type": "code",
   "execution_count": 5,
   "metadata": {
    "execution": {
     "iopub.execute_input": "2022-07-31T17:59:37.830884Z",
     "iopub.status.busy": "2022-07-31T17:59:37.694348Z",
     "iopub.status.idle": "2022-07-31T17:59:37.837564Z",
     "shell.execute_reply": "2022-07-31T17:59:37.836085Z",
     "shell.execute_reply.started": "2022-07-31T17:59:37.830804Z"
    },
    "papermill": {
     "duration": 0.052859,
     "end_time": "2022-07-31T18:24:53.160261",
     "exception": false,
     "start_time": "2022-07-31T18:24:53.107402",
     "status": "completed"
    },
    "tags": []
   },
   "outputs": [],
   "source": [
    "label_to_num = {\"background\":0, \"method\":1, \"result\":2}\n",
    "def label_decoder(label):\n",
    "    return label_to_num[label]"
   ]
  },
  {
   "cell_type": "code",
   "execution_count": 6,
   "metadata": {
    "execution": {
     "iopub.execute_input": "2022-07-31T17:59:37.847524Z",
     "iopub.status.busy": "2022-07-31T17:59:37.845137Z",
     "iopub.status.idle": "2022-07-31T17:59:37.890471Z",
     "shell.execute_reply": "2022-07-31T17:59:37.889366Z",
     "shell.execute_reply.started": "2022-07-31T17:59:37.847465Z"
    },
    "papermill": {
     "duration": 0.071014,
     "end_time": "2022-07-31T18:24:53.276314",
     "exception": false,
     "start_time": "2022-07-31T18:24:53.205300",
     "status": "completed"
    },
    "tags": []
   },
   "outputs": [
    {
     "data": {
      "text/html": [
       "<div>\n",
       "<style scoped>\n",
       "    .dataframe tbody tr th:only-of-type {\n",
       "        vertical-align: middle;\n",
       "    }\n",
       "\n",
       "    .dataframe tbody tr th {\n",
       "        vertical-align: top;\n",
       "    }\n",
       "\n",
       "    .dataframe thead th {\n",
       "        text-align: right;\n",
       "    }\n",
       "</style>\n",
       "<table border=\"1\" class=\"dataframe\">\n",
       "  <thead>\n",
       "    <tr style=\"text-align: right;\">\n",
       "      <th></th>\n",
       "      <th>text</th>\n",
       "      <th>label</th>\n",
       "      <th>label1</th>\n",
       "    </tr>\n",
       "  </thead>\n",
       "  <tbody>\n",
       "    <tr>\n",
       "      <th>0</th>\n",
       "      <td>However, how frataxin interacts with the Fe-S ...</td>\n",
       "      <td>background</td>\n",
       "      <td>0</td>\n",
       "    </tr>\n",
       "    <tr>\n",
       "      <th>1</th>\n",
       "      <td>In the study by Hickey et al. (2012), spikes w...</td>\n",
       "      <td>background</td>\n",
       "      <td>0</td>\n",
       "    </tr>\n",
       "    <tr>\n",
       "      <th>2</th>\n",
       "      <td>The drug also reduces catecholamine secretion,...</td>\n",
       "      <td>background</td>\n",
       "      <td>0</td>\n",
       "    </tr>\n",
       "    <tr>\n",
       "      <th>3</th>\n",
       "      <td>By clustering with lowly aggressive close kin ...</td>\n",
       "      <td>background</td>\n",
       "      <td>0</td>\n",
       "    </tr>\n",
       "    <tr>\n",
       "      <th>4</th>\n",
       "      <td>Ophthalmic symptoms are rare manifestations of...</td>\n",
       "      <td>background</td>\n",
       "      <td>0</td>\n",
       "    </tr>\n",
       "  </tbody>\n",
       "</table>\n",
       "</div>"
      ],
      "text/plain": [
       "                                                text       label  label1\n",
       "0  However, how frataxin interacts with the Fe-S ...  background       0\n",
       "1  In the study by Hickey et al. (2012), spikes w...  background       0\n",
       "2  The drug also reduces catecholamine secretion,...  background       0\n",
       "3  By clustering with lowly aggressive close kin ...  background       0\n",
       "4  Ophthalmic symptoms are rare manifestations of...  background       0"
      ]
     },
     "execution_count": 6,
     "metadata": {},
     "output_type": "execute_result"
    }
   ],
   "source": [
    "train[\"label1\"] = train[\"label\"].apply(lambda x: label_decoder(x))\n",
    "train.head()"
   ]
  },
  {
   "cell_type": "code",
   "execution_count": 7,
   "metadata": {
    "execution": {
     "iopub.execute_input": "2022-07-31T17:59:37.895549Z",
     "iopub.status.busy": "2022-07-31T17:59:37.895158Z",
     "iopub.status.idle": "2022-07-31T17:59:37.916550Z",
     "shell.execute_reply": "2022-07-31T17:59:37.915732Z",
     "shell.execute_reply.started": "2022-07-31T17:59:37.895491Z"
    },
    "papermill": {
     "duration": 0.062088,
     "end_time": "2022-07-31T18:24:53.384315",
     "exception": false,
     "start_time": "2022-07-31T18:24:53.322227",
     "status": "completed"
    },
    "tags": []
   },
   "outputs": [
    {
     "data": {
      "text/html": [
       "<div>\n",
       "<style scoped>\n",
       "    .dataframe tbody tr th:only-of-type {\n",
       "        vertical-align: middle;\n",
       "    }\n",
       "\n",
       "    .dataframe tbody tr th {\n",
       "        vertical-align: top;\n",
       "    }\n",
       "\n",
       "    .dataframe thead th {\n",
       "        text-align: right;\n",
       "    }\n",
       "</style>\n",
       "<table border=\"1\" class=\"dataframe\">\n",
       "  <thead>\n",
       "    <tr style=\"text-align: right;\">\n",
       "      <th></th>\n",
       "      <th>text</th>\n",
       "      <th>label</th>\n",
       "      <th>label1</th>\n",
       "    </tr>\n",
       "  </thead>\n",
       "  <tbody>\n",
       "    <tr>\n",
       "      <th>0</th>\n",
       "      <td>Chapel, as well as X10 [2], UPC [3] , CoArray ...</td>\n",
       "      <td>background</td>\n",
       "      <td>0</td>\n",
       "    </tr>\n",
       "    <tr>\n",
       "      <th>1</th>\n",
       "      <td>In addition, the result of the present study s...</td>\n",
       "      <td>result</td>\n",
       "      <td>2</td>\n",
       "    </tr>\n",
       "    <tr>\n",
       "      <th>2</th>\n",
       "      <td>Several instruments that more specifically add...</td>\n",
       "      <td>background</td>\n",
       "      <td>0</td>\n",
       "    </tr>\n",
       "    <tr>\n",
       "      <th>3</th>\n",
       "      <td>Organotypic hippocampal slice cultures\\nInterf...</td>\n",
       "      <td>method</td>\n",
       "      <td>1</td>\n",
       "    </tr>\n",
       "    <tr>\n",
       "      <th>4</th>\n",
       "      <td>Activated PBMC are the basis of the standard P...</td>\n",
       "      <td>background</td>\n",
       "      <td>0</td>\n",
       "    </tr>\n",
       "  </tbody>\n",
       "</table>\n",
       "</div>"
      ],
      "text/plain": [
       "                                                text       label  label1\n",
       "0  Chapel, as well as X10 [2], UPC [3] , CoArray ...  background       0\n",
       "1  In addition, the result of the present study s...      result       2\n",
       "2  Several instruments that more specifically add...  background       0\n",
       "3  Organotypic hippocampal slice cultures\\nInterf...      method       1\n",
       "4  Activated PBMC are the basis of the standard P...  background       0"
      ]
     },
     "execution_count": 7,
     "metadata": {},
     "output_type": "execute_result"
    }
   ],
   "source": [
    "test[\"label1\"] = test[\"label\"].apply(lambda x: label_decoder(x))\n",
    "test.head()"
   ]
  },
  {
   "cell_type": "markdown",
   "metadata": {
    "papermill": {
     "duration": 0.045735,
     "end_time": "2022-07-31T18:24:53.476136",
     "exception": false,
     "start_time": "2022-07-31T18:24:53.430401",
     "status": "completed"
    },
    "tags": []
   },
   "source": [
    "# Preprocess Data"
   ]
  },
  {
   "cell_type": "code",
   "execution_count": 8,
   "metadata": {
    "execution": {
     "iopub.execute_input": "2022-07-31T17:59:37.922655Z",
     "iopub.status.busy": "2022-07-31T17:59:37.922049Z",
     "iopub.status.idle": "2022-07-31T17:59:37.937299Z",
     "shell.execute_reply": "2022-07-31T17:59:37.935378Z",
     "shell.execute_reply.started": "2022-07-31T17:59:37.922600Z"
    },
    "papermill": {
     "duration": 0.05595,
     "end_time": "2022-07-31T18:24:53.577677",
     "exception": false,
     "start_time": "2022-07-31T18:24:53.521727",
     "status": "completed"
    },
    "tags": []
   },
   "outputs": [],
   "source": [
    "stop_words = stopwords.words('english')\n",
    "stemmer = SnowballStemmer('english') # Snowball Stemmer is used to get stemmed form of word\n",
    "\n",
    "text_cleaning_re = \"@\\S+|https?:\\S+|http?:\\S|[^A-Za-z0-9]+\""
   ]
  },
  {
   "cell_type": "code",
   "execution_count": 9,
   "metadata": {
    "execution": {
     "iopub.execute_input": "2022-07-31T17:59:37.940680Z",
     "iopub.status.busy": "2022-07-31T17:59:37.939681Z",
     "iopub.status.idle": "2022-07-31T17:59:37.960108Z",
     "shell.execute_reply": "2022-07-31T17:59:37.956846Z",
     "shell.execute_reply.started": "2022-07-31T17:59:37.940045Z"
    },
    "papermill": {
     "duration": 0.054304,
     "end_time": "2022-07-31T18:24:53.677515",
     "exception": false,
     "start_time": "2022-07-31T18:24:53.623211",
     "status": "completed"
    },
    "tags": []
   },
   "outputs": [],
   "source": [
    "def preprocess(text, stem=False):\n",
    "    text = re.sub(text_cleaning_re, ' ', str(text).lower()).strip()\n",
    "    tokens = []\n",
    "    for token in text.split():\n",
    "        if token not in stop_words:\n",
    "            if stem:\n",
    "                tokens.append(stemmer.stem(token))\n",
    "            else:\n",
    "                tokens.append(token)\n",
    "    return \" \".join(tokens)"
   ]
  },
  {
   "cell_type": "code",
   "execution_count": 10,
   "metadata": {
    "execution": {
     "iopub.execute_input": "2022-07-31T17:59:37.962238Z",
     "iopub.status.busy": "2022-07-31T17:59:37.961572Z",
     "iopub.status.idle": "2022-07-31T17:59:39.262611Z",
     "shell.execute_reply": "2022-07-31T17:59:39.261831Z",
     "shell.execute_reply.started": "2022-07-31T17:59:37.961986Z"
    },
    "papermill": {
     "duration": 1.181629,
     "end_time": "2022-07-31T18:24:54.904509",
     "exception": false,
     "start_time": "2022-07-31T18:24:53.722880",
     "status": "completed"
    },
    "tags": []
   },
   "outputs": [],
   "source": [
    "train[\"text1\"] = train[\"text\"].apply(lambda x: preprocess(x))\n",
    "test[\"text1\"] = test[\"text\"].apply(lambda x: preprocess(x))"
   ]
  },
  {
   "cell_type": "markdown",
   "metadata": {
    "papermill": {
     "duration": 0.04576,
     "end_time": "2022-07-31T18:24:54.997022",
     "exception": false,
     "start_time": "2022-07-31T18:24:54.951262",
     "status": "completed"
    },
    "tags": []
   },
   "source": [
    "# Tokenize Sentences"
   ]
  },
  {
   "cell_type": "code",
   "execution_count": 11,
   "metadata": {
    "execution": {
     "iopub.execute_input": "2022-07-31T17:59:39.264507Z",
     "iopub.status.busy": "2022-07-31T17:59:39.264152Z",
     "iopub.status.idle": "2022-07-31T17:59:42.830329Z",
     "shell.execute_reply": "2022-07-31T17:59:42.829350Z",
     "shell.execute_reply.started": "2022-07-31T17:59:39.264458Z"
    },
    "papermill": {
     "duration": 4.061175,
     "end_time": "2022-07-31T18:24:59.103907",
     "exception": false,
     "start_time": "2022-07-31T18:24:55.042732",
     "status": "completed"
    },
    "tags": []
   },
   "outputs": [
    {
     "name": "stderr",
     "output_type": "stream",
     "text": [
      "8243it [00:03, 2074.81it/s]\n"
     ]
    }
   ],
   "source": [
    "tokens = []\n",
    "for doc in tqdm(nlp.pipe(train[\"text1\"].values, n_threads = 16)):\n",
    "    tokens.append(\" \".join([n.text for n in doc]))\n",
    "train[\"text1\"] = tokens"
   ]
  },
  {
   "cell_type": "code",
   "execution_count": 12,
   "metadata": {
    "execution": {
     "iopub.execute_input": "2022-07-31T17:59:42.832012Z",
     "iopub.status.busy": "2022-07-31T17:59:42.831633Z",
     "iopub.status.idle": "2022-07-31T17:59:43.574131Z",
     "shell.execute_reply": "2022-07-31T17:59:43.572817Z",
     "shell.execute_reply.started": "2022-07-31T17:59:42.831960Z"
    },
    "papermill": {
     "duration": 0.80983,
     "end_time": "2022-07-31T18:24:59.972826",
     "exception": false,
     "start_time": "2022-07-31T18:24:59.162996",
     "status": "completed"
    },
    "tags": []
   },
   "outputs": [
    {
     "name": "stderr",
     "output_type": "stream",
     "text": [
      "1861it [00:00, 2548.86it/s]\n"
     ]
    }
   ],
   "source": [
    "tokens = []\n",
    "for doc in tqdm(nlp.pipe(test[\"text1\"].values, n_threads = 16)):\n",
    "    tokens.append(\" \".join([n.text for n in doc]))\n",
    "test[\"text1\"] = tokens"
   ]
  },
  {
   "cell_type": "markdown",
   "metadata": {
    "papermill": {
     "duration": 0.061086,
     "end_time": "2022-07-31T18:25:00.095355",
     "exception": false,
     "start_time": "2022-07-31T18:25:00.034269",
     "status": "completed"
    },
    "tags": []
   },
   "source": [
    "# Generate POS Tags for Words in the Sentence"
   ]
  },
  {
   "cell_type": "code",
   "execution_count": 13,
   "metadata": {
    "execution": {
     "iopub.execute_input": "2022-07-31T17:59:43.577587Z",
     "iopub.status.busy": "2022-07-31T17:59:43.577251Z",
     "iopub.status.idle": "2022-07-31T17:59:58.015794Z",
     "shell.execute_reply": "2022-07-31T17:59:58.014868Z",
     "shell.execute_reply.started": "2022-07-31T17:59:43.577532Z"
    },
    "papermill": {
     "duration": 14.019695,
     "end_time": "2022-07-31T18:25:14.177381",
     "exception": false,
     "start_time": "2022-07-31T18:25:00.157686",
     "status": "completed"
    },
    "tags": []
   },
   "outputs": [
    {
     "name": "stderr",
     "output_type": "stream",
     "text": [
      "8243it [00:13, 632.01it/s]\n"
     ]
    }
   ],
   "source": [
    "nlp = spacy.load('en', disable = [\"parser\", \"ner\", \"textcat\"])\n",
    "tokens = []\n",
    "for doc in tqdm(nlp.pipe(train[\"text1\"].values, n_threads = 16)):\n",
    "    tokens.append(\" \".join([n.text + \"_\"  + n.pos_ for n in doc]))\n",
    "train[\"text1\"] = tokens"
   ]
  },
  {
   "cell_type": "code",
   "execution_count": 14,
   "metadata": {
    "execution": {
     "iopub.execute_input": "2022-07-31T17:59:58.017589Z",
     "iopub.status.busy": "2022-07-31T17:59:58.017242Z",
     "iopub.status.idle": "2022-07-31T18:00:02.610870Z",
     "shell.execute_reply": "2022-07-31T18:00:02.610015Z",
     "shell.execute_reply.started": "2022-07-31T17:59:58.017539Z"
    },
    "papermill": {
     "duration": 4.423444,
     "end_time": "2022-07-31T18:25:18.666208",
     "exception": false,
     "start_time": "2022-07-31T18:25:14.242764",
     "status": "completed"
    },
    "tags": []
   },
   "outputs": [
    {
     "name": "stderr",
     "output_type": "stream",
     "text": [
      "1861it [00:03, 517.66it/s]\n"
     ]
    }
   ],
   "source": [
    "nlp = spacy.load('en', disable = [\"parser\", \"ner\", \"textcat\"])\n",
    "tokens = []\n",
    "for doc in tqdm(nlp.pipe(test[\"text1\"].values, n_threads = 16)):\n",
    "    tokens.append(\" \".join([n.text + \"_\"  + n.pos_ for n in doc]))\n",
    "test[\"text1\"] = tokens"
   ]
  },
  {
   "cell_type": "markdown",
   "metadata": {
    "papermill": {
     "duration": 0.065985,
     "end_time": "2022-07-31T18:25:18.800476",
     "exception": false,
     "start_time": "2022-07-31T18:25:18.734491",
     "status": "completed"
    },
    "tags": []
   },
   "source": [
    "# Convert POS Tags to Lower Case"
   ]
  },
  {
   "cell_type": "markdown",
   "metadata": {
    "papermill": {
     "duration": 0.066805,
     "end_time": "2022-07-31T18:25:18.935272",
     "exception": false,
     "start_time": "2022-07-31T18:25:18.868467",
     "status": "completed"
    },
    "tags": []
   },
   "source": [
    "Conversion is needed otherwise tokenizer does not work on the sentences."
   ]
  },
  {
   "cell_type": "code",
   "execution_count": 15,
   "metadata": {
    "execution": {
     "iopub.execute_input": "2022-07-31T18:00:02.613404Z",
     "iopub.status.busy": "2022-07-31T18:00:02.612717Z",
     "iopub.status.idle": "2022-07-31T18:00:02.629725Z",
     "shell.execute_reply": "2022-07-31T18:00:02.628858Z",
     "shell.execute_reply.started": "2022-07-31T18:00:02.613348Z"
    },
    "papermill": {
     "duration": 0.086777,
     "end_time": "2022-07-31T18:25:19.089434",
     "exception": false,
     "start_time": "2022-07-31T18:25:19.002657",
     "status": "completed"
    },
    "tags": []
   },
   "outputs": [],
   "source": [
    "train[\"text1\"] = train[\"text1\"].str.lower()\n",
    "test[\"text1\"] = test[\"text1\"].str.lower()"
   ]
  },
  {
   "cell_type": "markdown",
   "metadata": {
    "papermill": {
     "duration": 0.065836,
     "end_time": "2022-07-31T18:25:19.222557",
     "exception": false,
     "start_time": "2022-07-31T18:25:19.156721",
     "status": "completed"
    },
    "tags": []
   },
   "source": [
    "# Split Data for Validation"
   ]
  },
  {
   "cell_type": "code",
   "execution_count": 16,
   "metadata": {
    "execution": {
     "iopub.execute_input": "2022-07-31T18:00:02.631693Z",
     "iopub.status.busy": "2022-07-31T18:00:02.631310Z",
     "iopub.status.idle": "2022-07-31T18:00:02.644949Z",
     "shell.execute_reply": "2022-07-31T18:00:02.644118Z",
     "shell.execute_reply.started": "2022-07-31T18:00:02.631631Z"
    },
    "papermill": {
     "duration": 0.080894,
     "end_time": "2022-07-31T18:25:19.371158",
     "exception": false,
     "start_time": "2022-07-31T18:25:19.290264",
     "status": "completed"
    },
    "tags": []
   },
   "outputs": [],
   "source": [
    "train, val = train_test_split(train, test_size=0.2, random_state=2018)"
   ]
  },
  {
   "cell_type": "markdown",
   "metadata": {
    "papermill": {
     "duration": 0.065738,
     "end_time": "2022-07-31T18:25:19.504346",
     "exception": false,
     "start_time": "2022-07-31T18:25:19.438608",
     "status": "completed"
    },
    "tags": []
   },
   "source": [
    "# Tokenize Sentences"
   ]
  },
  {
   "cell_type": "code",
   "execution_count": 17,
   "metadata": {
    "execution": {
     "iopub.execute_input": "2022-07-31T18:00:02.647094Z",
     "iopub.status.busy": "2022-07-31T18:00:02.646513Z",
     "iopub.status.idle": "2022-07-31T18:00:03.002275Z",
     "shell.execute_reply": "2022-07-31T18:00:03.001349Z",
     "shell.execute_reply.started": "2022-07-31T18:00:02.646899Z"
    },
    "papermill": {
     "duration": 0.341783,
     "end_time": "2022-07-31T18:25:19.913337",
     "exception": false,
     "start_time": "2022-07-31T18:25:19.571554",
     "status": "completed"
    },
    "tags": []
   },
   "outputs": [
    {
     "name": "stdout",
     "output_type": "stream",
     "text": [
      "Vocabulary Size : 32252\n"
     ]
    }
   ],
   "source": [
    "tokenizer = Tokenizer(filters='!\"#$%&()*+,-./:;<=>?@[\\]^`{|}~')\n",
    "\n",
    "tokenizer.fit_on_texts(train.text1)\n",
    "\n",
    "word_index = tokenizer.word_index\n",
    "vocab_size = len(tokenizer.word_index) + 1\n",
    "print(\"Vocabulary Size :\", vocab_size)"
   ]
  },
  {
   "cell_type": "markdown",
   "metadata": {
    "papermill": {
     "duration": 0.067438,
     "end_time": "2022-07-31T18:25:20.049876",
     "exception": false,
     "start_time": "2022-07-31T18:25:19.982438",
     "status": "completed"
    },
    "tags": []
   },
   "source": [
    "# Length of Largest Sentence"
   ]
  },
  {
   "cell_type": "code",
   "execution_count": 18,
   "metadata": {
    "execution": {
     "iopub.execute_input": "2022-07-31T18:00:03.004180Z",
     "iopub.status.busy": "2022-07-31T18:00:03.003624Z",
     "iopub.status.idle": "2022-07-31T18:00:03.008281Z",
     "shell.execute_reply": "2022-07-31T18:00:03.007440Z",
     "shell.execute_reply.started": "2022-07-31T18:00:03.004126Z"
    },
    "papermill": {
     "duration": 0.074411,
     "end_time": "2022-07-31T18:25:20.192420",
     "exception": false,
     "start_time": "2022-07-31T18:25:20.118009",
     "status": "completed"
    },
    "tags": []
   },
   "outputs": [],
   "source": [
    "MAX_SEQUENCE_LENGTH = 100"
   ]
  },
  {
   "cell_type": "markdown",
   "metadata": {
    "papermill": {
     "duration": 0.06676,
     "end_time": "2022-07-31T18:25:20.364453",
     "exception": false,
     "start_time": "2022-07-31T18:25:20.297693",
     "status": "completed"
    },
    "tags": []
   },
   "source": [
    "# Pad Sentences to Length of Largest Sentence"
   ]
  },
  {
   "cell_type": "code",
   "execution_count": 19,
   "metadata": {
    "execution": {
     "iopub.execute_input": "2022-07-31T18:00:03.010080Z",
     "iopub.status.busy": "2022-07-31T18:00:03.009547Z",
     "iopub.status.idle": "2022-07-31T18:00:03.391310Z",
     "shell.execute_reply": "2022-07-31T18:00:03.390489Z",
     "shell.execute_reply.started": "2022-07-31T18:00:03.010030Z"
    },
    "papermill": {
     "duration": 0.453561,
     "end_time": "2022-07-31T18:25:20.885271",
     "exception": false,
     "start_time": "2022-07-31T18:25:20.431710",
     "status": "completed"
    },
    "tags": []
   },
   "outputs": [
    {
     "name": "stdout",
     "output_type": "stream",
     "text": [
      "Training X Shape: (6594, 100)\n",
      "Validation X Shape: (1649, 100)\n",
      "Testing X Shape: (1861, 100)\n"
     ]
    }
   ],
   "source": [
    "x_train = pad_sequences(tokenizer.texts_to_sequences(train.text1),\n",
    "                        maxlen = MAX_SEQUENCE_LENGTH)\n",
    "x_val = pad_sequences(tokenizer.texts_to_sequences(val.text1),\n",
    "                        maxlen = MAX_SEQUENCE_LENGTH)\n",
    "x_test = pad_sequences(tokenizer.texts_to_sequences(test.text1),\n",
    "                       maxlen = MAX_SEQUENCE_LENGTH)\n",
    "\n",
    "print(\"Training X Shape:\",x_train.shape)\n",
    "print(\"Validation X Shape:\",x_val.shape)\n",
    "print(\"Testing X Shape:\",x_test.shape)"
   ]
  },
  {
   "cell_type": "markdown",
   "metadata": {
    "papermill": {
     "duration": 0.066655,
     "end_time": "2022-07-31T18:25:21.020098",
     "exception": false,
     "start_time": "2022-07-31T18:25:20.953443",
     "status": "completed"
    },
    "tags": []
   },
   "source": [
    "# Vectorize the Labels"
   ]
  },
  {
   "cell_type": "code",
   "execution_count": 20,
   "metadata": {
    "execution": {
     "iopub.execute_input": "2022-07-31T18:00:03.393004Z",
     "iopub.status.busy": "2022-07-31T18:00:03.392575Z",
     "iopub.status.idle": "2022-07-31T18:00:03.397997Z",
     "shell.execute_reply": "2022-07-31T18:00:03.397127Z",
     "shell.execute_reply.started": "2022-07-31T18:00:03.392943Z"
    },
    "papermill": {
     "duration": 0.075693,
     "end_time": "2022-07-31T18:25:21.164302",
     "exception": false,
     "start_time": "2022-07-31T18:25:21.088609",
     "status": "completed"
    },
    "tags": []
   },
   "outputs": [],
   "source": [
    "y_train = train['label1']\n",
    "y_val = val[\"label1\"]\n",
    "y_test = test['label1']"
   ]
  },
  {
   "cell_type": "code",
   "execution_count": 21,
   "metadata": {
    "execution": {
     "iopub.execute_input": "2022-07-31T18:00:03.399780Z",
     "iopub.status.busy": "2022-07-31T18:00:03.399219Z",
     "iopub.status.idle": "2022-07-31T18:00:03.431192Z",
     "shell.execute_reply": "2022-07-31T18:00:03.430396Z",
     "shell.execute_reply.started": "2022-07-31T18:00:03.399717Z"
    },
    "papermill": {
     "duration": 0.097811,
     "end_time": "2022-07-31T18:25:21.328732",
     "exception": false,
     "start_time": "2022-07-31T18:25:21.230921",
     "status": "completed"
    },
    "tags": []
   },
   "outputs": [],
   "source": [
    "y_train_list = []\n",
    "for i in y_train:\n",
    "    kd = np.zeros(3)\n",
    "    kd[i]=1\n",
    "    y_train_list.append(list(kd))"
   ]
  },
  {
   "cell_type": "code",
   "execution_count": 22,
   "metadata": {
    "execution": {
     "iopub.execute_input": "2022-07-31T18:00:03.434359Z",
     "iopub.status.busy": "2022-07-31T18:00:03.433816Z",
     "iopub.status.idle": "2022-07-31T18:00:03.446690Z",
     "shell.execute_reply": "2022-07-31T18:00:03.445757Z",
     "shell.execute_reply.started": "2022-07-31T18:00:03.434283Z"
    },
    "papermill": {
     "duration": 0.080497,
     "end_time": "2022-07-31T18:25:21.476445",
     "exception": false,
     "start_time": "2022-07-31T18:25:21.395948",
     "status": "completed"
    },
    "tags": []
   },
   "outputs": [],
   "source": [
    "y_val_list = []\n",
    "for i in y_val:\n",
    "    kd = np.zeros(3)\n",
    "    kd[i]=1\n",
    "    y_val_list.append(list(kd))"
   ]
  },
  {
   "cell_type": "code",
   "execution_count": 23,
   "metadata": {
    "execution": {
     "iopub.execute_input": "2022-07-31T18:00:03.448795Z",
     "iopub.status.busy": "2022-07-31T18:00:03.448186Z",
     "iopub.status.idle": "2022-07-31T18:00:03.464487Z",
     "shell.execute_reply": "2022-07-31T18:00:03.463535Z",
     "shell.execute_reply.started": "2022-07-31T18:00:03.448725Z"
    },
    "papermill": {
     "duration": 0.080718,
     "end_time": "2022-07-31T18:25:21.625063",
     "exception": false,
     "start_time": "2022-07-31T18:25:21.544345",
     "status": "completed"
    },
    "tags": []
   },
   "outputs": [],
   "source": [
    "y_test_list = []\n",
    "for i in y_test:\n",
    "    kd = np.zeros(3)\n",
    "    kd[i]=1\n",
    "    y_test_list.append(list(kd))"
   ]
  },
  {
   "cell_type": "code",
   "execution_count": 24,
   "metadata": {
    "execution": {
     "iopub.execute_input": "2022-07-31T18:00:03.467867Z",
     "iopub.status.busy": "2022-07-31T18:00:03.466936Z",
     "iopub.status.idle": "2022-07-31T18:00:03.487630Z",
     "shell.execute_reply": "2022-07-31T18:00:03.486752Z",
     "shell.execute_reply.started": "2022-07-31T18:00:03.467808Z"
    },
    "papermill": {
     "duration": 0.086569,
     "end_time": "2022-07-31T18:25:21.778237",
     "exception": false,
     "start_time": "2022-07-31T18:25:21.691668",
     "status": "completed"
    },
    "tags": []
   },
   "outputs": [],
   "source": [
    "y_train_list = np.array(y_train_list)\n",
    "y_val_list = np.array(y_val_list)\n",
    "y_test_list = np.array(y_test_list)"
   ]
  },
  {
   "cell_type": "markdown",
   "metadata": {
    "papermill": {
     "duration": 0.067022,
     "end_time": "2022-07-31T18:25:21.914786",
     "exception": false,
     "start_time": "2022-07-31T18:25:21.847764",
     "status": "completed"
    },
    "tags": []
   },
   "source": [
    "# Download GloVE Model"
   ]
  },
  {
   "cell_type": "code",
   "execution_count": 25,
   "metadata": {
    "execution": {
     "iopub.execute_input": "2022-07-31T18:00:03.489688Z",
     "iopub.status.busy": "2022-07-31T18:00:03.489124Z",
     "iopub.status.idle": "2022-07-31T18:03:07.496738Z",
     "shell.execute_reply": "2022-07-31T18:03:07.495871Z",
     "shell.execute_reply.started": "2022-07-31T18:00:03.489640Z"
    },
    "papermill": {
     "duration": 183.478307,
     "end_time": "2022-07-31T18:28:25.460760",
     "exception": false,
     "start_time": "2022-07-31T18:25:21.982453",
     "status": "completed"
    },
    "tags": []
   },
   "outputs": [
    {
     "name": "stdout",
     "output_type": "stream",
     "text": [
      "--2022-07-31 18:25:22--  http://nlp.stanford.edu/data/glove.6B.zip\r\n",
      "Resolving nlp.stanford.edu (nlp.stanford.edu)... 171.64.67.140\r\n",
      "Connecting to nlp.stanford.edu (nlp.stanford.edu)|171.64.67.140|:80... connected.\r\n",
      "HTTP request sent, awaiting response... 302 Found\r\n",
      "Location: https://nlp.stanford.edu/data/glove.6B.zip [following]\r\n",
      "--2022-07-31 18:25:22--  https://nlp.stanford.edu/data/glove.6B.zip\r\n",
      "Connecting to nlp.stanford.edu (nlp.stanford.edu)|171.64.67.140|:443... connected.\r\n",
      "HTTP request sent, awaiting response... 301 Moved Permanently\r\n",
      "Location: https://downloads.cs.stanford.edu/nlp/data/glove.6B.zip [following]\r\n",
      "--2022-07-31 18:25:22--  https://downloads.cs.stanford.edu/nlp/data/glove.6B.zip\r\n",
      "Resolving downloads.cs.stanford.edu (downloads.cs.stanford.edu)... 171.64.64.22\r\n",
      "Connecting to downloads.cs.stanford.edu (downloads.cs.stanford.edu)|171.64.64.22|:443... connected.\r\n",
      "HTTP request sent, awaiting response... 200 OK\r\n",
      "Length: 862182613 (822M) [application/zip]\r\n",
      "Saving to: ‘glove.6B.zip’\r\n",
      "\r\n",
      "glove.6B.zip        100%[===================>] 822.24M  5.02MB/s    in 2m 39s  \r\n",
      "\r\n",
      "2022-07-31 18:28:02 (5.16 MB/s) - ‘glove.6B.zip’ saved [862182613/862182613]\r\n",
      "\r\n",
      "Archive:  glove.6B.zip\r\n",
      "  inflating: glove.6B.50d.txt        \r\n",
      "  inflating: glove.6B.100d.txt       \r\n",
      "  inflating: glove.6B.200d.txt       \r\n",
      "  inflating: glove.6B.300d.txt       \r\n"
     ]
    }
   ],
   "source": [
    "!wget http://nlp.stanford.edu/data/glove.6B.zip\n",
    "!unzip glove.6B.zip"
   ]
  },
  {
   "cell_type": "markdown",
   "metadata": {
    "papermill": {
     "duration": 3.116593,
     "end_time": "2022-07-31T18:28:28.925574",
     "exception": false,
     "start_time": "2022-07-31T18:28:25.808981",
     "status": "completed"
    },
    "tags": []
   },
   "source": [
    "# Conguration Values"
   ]
  },
  {
   "cell_type": "code",
   "execution_count": 26,
   "metadata": {
    "execution": {
     "iopub.execute_input": "2022-07-31T18:03:07.499479Z",
     "iopub.status.busy": "2022-07-31T18:03:07.499066Z",
     "iopub.status.idle": "2022-07-31T18:03:07.504815Z",
     "shell.execute_reply": "2022-07-31T18:03:07.503687Z",
     "shell.execute_reply.started": "2022-07-31T18:03:07.499423Z"
    },
    "papermill": {
     "duration": 0.34327,
     "end_time": "2022-07-31T18:28:29.605112",
     "exception": false,
     "start_time": "2022-07-31T18:28:29.261842",
     "status": "completed"
    },
    "tags": []
   },
   "outputs": [],
   "source": [
    "GLOVE_EMB = '/kaggle/working/glove.6B.300d.txt'\n",
    "EMBEDDING_DIM = 300\n",
    "LR = 1e-3\n",
    "BATCH_SIZE = 1024\n",
    "EPOCHS = 50\n",
    "MODEL_PATH = '.../output/kaggle/working/best_model.hdf5'"
   ]
  },
  {
   "cell_type": "markdown",
   "metadata": {
    "papermill": {
     "duration": 0.466644,
     "end_time": "2022-07-31T18:28:30.472447",
     "exception": false,
     "start_time": "2022-07-31T18:28:30.005803",
     "status": "completed"
    },
    "tags": []
   },
   "source": [
    "# Load GloVe Model"
   ]
  },
  {
   "cell_type": "code",
   "execution_count": 27,
   "metadata": {
    "execution": {
     "iopub.execute_input": "2022-07-31T18:03:07.507157Z",
     "iopub.status.busy": "2022-07-31T18:03:07.506470Z",
     "iopub.status.idle": "2022-07-31T18:03:55.258907Z",
     "shell.execute_reply": "2022-07-31T18:03:55.257946Z",
     "shell.execute_reply.started": "2022-07-31T18:03:07.507107Z"
    },
    "papermill": {
     "duration": 48.179387,
     "end_time": "2022-07-31T18:29:18.988585",
     "exception": false,
     "start_time": "2022-07-31T18:28:30.809198",
     "status": "completed"
    },
    "tags": []
   },
   "outputs": [
    {
     "name": "stdout",
     "output_type": "stream",
     "text": [
      "Found 400000 word vectors.\n"
     ]
    }
   ],
   "source": [
    "embeddings_index = {}\n",
    "\n",
    "f = open(GLOVE_EMB)\n",
    "for line in f:\n",
    "    values = line.split()\n",
    "    word = value = values[0]\n",
    "    coefs = np.asarray(values[1:], dtype='float32')\n",
    "    embeddings_index[word] = coefs\n",
    "f.close()\n",
    "\n",
    "print('Found %s word vectors.' %len(embeddings_index))"
   ]
  },
  {
   "cell_type": "markdown",
   "metadata": {
    "papermill": {
     "duration": 0.334871,
     "end_time": "2022-07-31T18:29:19.657342",
     "exception": false,
     "start_time": "2022-07-31T18:29:19.322471",
     "status": "completed"
    },
    "tags": []
   },
   "source": [
    "# Generate Embedding Matrix from GloVe Model"
   ]
  },
  {
   "cell_type": "code",
   "execution_count": 28,
   "metadata": {
    "execution": {
     "iopub.execute_input": "2022-07-31T18:03:55.261006Z",
     "iopub.status.busy": "2022-07-31T18:03:55.260396Z",
     "iopub.status.idle": "2022-07-31T18:03:57.078657Z",
     "shell.execute_reply": "2022-07-31T18:03:57.077688Z",
     "shell.execute_reply.started": "2022-07-31T18:03:55.260951Z"
    },
    "papermill": {
     "duration": 2.126254,
     "end_time": "2022-07-31T18:29:22.119274",
     "exception": false,
     "start_time": "2022-07-31T18:29:19.993020",
     "status": "completed"
    },
    "tags": []
   },
   "outputs": [
    {
     "name": "stderr",
     "output_type": "stream",
     "text": [
      "/opt/conda/lib/python3.7/site-packages/IPython/core/interactiveshell.py:3254: FutureWarning: arrays to stack must be passed as a \"sequence\" type such as list or tuple. Support for non-sequence iterables such as generators is deprecated as of NumPy 1.16 and will raise an error in the future.\n",
      "  if (await self.run_code(code, result,  async_=asy)):\n"
     ]
    }
   ],
   "source": [
    "all_embs = np.stack(embeddings_index.values())\n",
    "emb_mean,emb_std = all_embs.mean(), all_embs.std()\n",
    "embed_size = all_embs.shape[1]\n",
    "\n",
    "word_index = tokenizer.word_index\n",
    "nb_words = vocab_size\n",
    "\n",
    "vocab_dict = {}\n",
    "embedding_matrix = np.random.normal(emb_mean, emb_std, (vocab_size, embed_size))\n",
    "for word, i in word_index.items():\n",
    "    if i >= nb_words: continue\n",
    "    word_part = word.split(\"_\")[0]\n",
    "    embedding_vector = embeddings_index.get(word_part)\n",
    "    if embedding_vector is not None: \n",
    "        if word_part in vocab_dict:\n",
    "            vocab_dict[word_part].append((word, i))\n",
    "        else:\n",
    "            vocab_dict[word_part] = [(word, i)]\n",
    "        embedding_matrix[i] = embedding_vector"
   ]
  },
  {
   "cell_type": "markdown",
   "metadata": {
    "papermill": {
     "duration": 0.33341,
     "end_time": "2022-07-31T18:29:22.786783",
     "exception": false,
     "start_time": "2022-07-31T18:29:22.453373",
     "status": "completed"
    },
    "tags": []
   },
   "source": [
    "# Embedding Layer to Vectorize Padded Sequences using Embedding Matrix"
   ]
  },
  {
   "cell_type": "code",
   "execution_count": 29,
   "metadata": {
    "execution": {
     "iopub.execute_input": "2022-07-31T18:03:57.080483Z",
     "iopub.status.busy": "2022-07-31T18:03:57.080107Z",
     "iopub.status.idle": "2022-07-31T18:03:57.091035Z",
     "shell.execute_reply": "2022-07-31T18:03:57.090099Z",
     "shell.execute_reply.started": "2022-07-31T18:03:57.080424Z"
    },
    "papermill": {
     "duration": 0.372152,
     "end_time": "2022-07-31T18:29:23.492527",
     "exception": false,
     "start_time": "2022-07-31T18:29:23.120375",
     "status": "completed"
    },
    "tags": []
   },
   "outputs": [],
   "source": [
    "embedding_layer = tf.keras.layers.Embedding(vocab_size,\n",
    "                                          EMBEDDING_DIM,\n",
    "                                          weights=[embedding_matrix],\n",
    "                                          input_length=MAX_SEQUENCE_LENGTH,\n",
    "                                          trainable=False)"
   ]
  },
  {
   "cell_type": "markdown",
   "metadata": {
    "papermill": {
     "duration": 0.3371,
     "end_time": "2022-07-31T18:29:24.165651",
     "exception": false,
     "start_time": "2022-07-31T18:29:23.828551",
     "status": "completed"
    },
    "tags": []
   },
   "source": [
    "# LSTM Model"
   ]
  },
  {
   "cell_type": "code",
   "execution_count": 30,
   "metadata": {
    "execution": {
     "iopub.execute_input": "2022-07-31T18:03:57.103582Z",
     "iopub.status.busy": "2022-07-31T18:03:57.102875Z",
     "iopub.status.idle": "2022-07-31T18:03:59.876096Z",
     "shell.execute_reply": "2022-07-31T18:03:59.875174Z",
     "shell.execute_reply.started": "2022-07-31T18:03:57.103345Z"
    },
    "papermill": {
     "duration": 3.100261,
     "end_time": "2022-07-31T18:29:27.602255",
     "exception": false,
     "start_time": "2022-07-31T18:29:24.501994",
     "status": "completed"
    },
    "tags": []
   },
   "outputs": [],
   "source": [
    "sequence_input = Input(shape=(MAX_SEQUENCE_LENGTH,), dtype='int32')\n",
    "embedding_sequences = embedding_layer(sequence_input)\n",
    "x = SpatialDropout1D(0.2)(embedding_sequences)\n",
    "x = Bidirectional(LSTM(100, dropout=0.2, recurrent_dropout=0.2))(x)\n",
    "outputs = Dense(3, activation='softmax')(x)\n",
    "model = tf.keras.Model(sequence_input, outputs)"
   ]
  },
  {
   "cell_type": "markdown",
   "metadata": {
    "papermill": {
     "duration": 0.33379,
     "end_time": "2022-07-31T18:29:28.279085",
     "exception": false,
     "start_time": "2022-07-31T18:29:27.945295",
     "status": "completed"
    },
    "tags": []
   },
   "source": [
    "# Early Stopping Callback"
   ]
  },
  {
   "cell_type": "code",
   "execution_count": 31,
   "metadata": {
    "execution": {
     "iopub.execute_input": "2022-07-31T18:22:07.414725Z",
     "iopub.status.busy": "2022-07-31T18:22:07.414363Z",
     "iopub.status.idle": "2022-07-31T18:22:07.420214Z",
     "shell.execute_reply": "2022-07-31T18:22:07.418895Z",
     "shell.execute_reply.started": "2022-07-31T18:22:07.414660Z"
    },
    "papermill": {
     "duration": 0.341257,
     "end_time": "2022-07-31T18:29:28.954040",
     "exception": false,
     "start_time": "2022-07-31T18:29:28.612783",
     "status": "completed"
    },
    "tags": []
   },
   "outputs": [],
   "source": [
    "es = tf.keras.callbacks.EarlyStopping(\n",
    "    monitor='val_loss',\n",
    "    patience=20, # Wait for next best value till 20 epochs\n",
    "    verbose=1,\n",
    "    mode='min',\n",
    "    restore_best_weights=True\n",
    ")"
   ]
  },
  {
   "cell_type": "markdown",
   "metadata": {
    "papermill": {
     "duration": 0.33579,
     "end_time": "2022-07-31T18:29:29.627163",
     "exception": false,
     "start_time": "2022-07-31T18:29:29.291373",
     "status": "completed"
    },
    "tags": []
   },
   "source": [
    "# Model Checkpointing Callback"
   ]
  },
  {
   "cell_type": "code",
   "execution_count": 32,
   "metadata": {
    "execution": {
     "iopub.execute_input": "2022-07-31T18:03:59.890404Z",
     "iopub.status.busy": "2022-07-31T18:03:59.889839Z",
     "iopub.status.idle": "2022-07-31T18:03:59.899380Z",
     "shell.execute_reply": "2022-07-31T18:03:59.898272Z",
     "shell.execute_reply.started": "2022-07-31T18:03:59.890351Z"
    },
    "papermill": {
     "duration": 0.34586,
     "end_time": "2022-07-31T18:29:30.308431",
     "exception": false,
     "start_time": "2022-07-31T18:29:29.962571",
     "status": "completed"
    },
    "tags": []
   },
   "outputs": [],
   "source": [
    "mc = tf.keras.callbacks.ModelCheckpoint(\n",
    "    \"./model{epoch:04d}.h5\",\n",
    "    monitor=\"val_loss\",\n",
    "    verbose=1,\n",
    "    save_best_only=True,\n",
    "    save_weights_only=False,\n",
    "    mode=\"min\",\n",
    "    save_freq=\"epoch\",\n",
    ")"
   ]
  },
  {
   "cell_type": "markdown",
   "metadata": {
    "papermill": {
     "duration": 0.335664,
     "end_time": "2022-07-31T18:29:30.980882",
     "exception": false,
     "start_time": "2022-07-31T18:29:30.645218",
     "status": "completed"
    },
    "tags": []
   },
   "source": [
    "# Compile Model"
   ]
  },
  {
   "cell_type": "code",
   "execution_count": 33,
   "metadata": {
    "execution": {
     "iopub.execute_input": "2022-07-31T18:03:59.901275Z",
     "iopub.status.busy": "2022-07-31T18:03:59.900875Z",
     "iopub.status.idle": "2022-07-31T18:03:59.944001Z",
     "shell.execute_reply": "2022-07-31T18:03:59.943227Z",
     "shell.execute_reply.started": "2022-07-31T18:03:59.901196Z"
    },
    "papermill": {
     "duration": 0.379433,
     "end_time": "2022-07-31T18:29:31.695959",
     "exception": false,
     "start_time": "2022-07-31T18:29:31.316526",
     "status": "completed"
    },
    "tags": []
   },
   "outputs": [],
   "source": [
    "model.compile(optimizer=Adam(learning_rate=LR), loss='categorical_crossentropy',\n",
    "              metrics=['accuracy'])"
   ]
  },
  {
   "cell_type": "markdown",
   "metadata": {
    "papermill": {
     "duration": 0.334055,
     "end_time": "2022-07-31T18:29:32.367361",
     "exception": false,
     "start_time": "2022-07-31T18:29:32.033306",
     "status": "completed"
    },
    "tags": []
   },
   "source": [
    "# Train Model"
   ]
  },
  {
   "cell_type": "code",
   "execution_count": 34,
   "metadata": {
    "execution": {
     "iopub.execute_input": "2022-07-31T18:03:59.945876Z",
     "iopub.status.busy": "2022-07-31T18:03:59.945373Z",
     "iopub.status.idle": "2022-07-31T18:06:02.343867Z",
     "shell.execute_reply": "2022-07-31T18:06:02.342617Z",
     "shell.execute_reply.started": "2022-07-31T18:03:59.945705Z"
    },
    "papermill": {
     "duration": 131.522835,
     "end_time": "2022-07-31T18:31:44.224800",
     "exception": false,
     "start_time": "2022-07-31T18:29:32.701965",
     "status": "completed"
    },
    "tags": []
   },
   "outputs": [
    {
     "name": "stdout",
     "output_type": "stream",
     "text": [
      "Train on 6594 samples, validate on 1649 samples\n",
      "Epoch 1/50\n",
      "6144/6594 [==========================>...] - ETA: 0s - loss: 1.0011 - accuracy: 0.5464\n",
      "Epoch 00001: val_loss improved from inf to 0.94488, saving model to ./model0001.h5\n",
      "6594/6594 [==============================] - 9s 1ms/sample - loss: 0.9989 - accuracy: 0.5491 - val_loss: 0.9449 - val_accuracy: 0.5719\n",
      "Epoch 2/50\n",
      "6144/6594 [==========================>...] - ETA: 0s - loss: 0.9045 - accuracy: 0.6016\n",
      "Epoch 00002: val_loss improved from 0.94488 to 0.89586, saving model to ./model0002.h5\n",
      "6594/6594 [==============================] - 3s 383us/sample - loss: 0.9042 - accuracy: 0.6024 - val_loss: 0.8959 - val_accuracy: 0.5901\n",
      "Epoch 3/50\n",
      "6144/6594 [==========================>...] - ETA: 0s - loss: 0.8575 - accuracy: 0.6302\n",
      "Epoch 00003: val_loss improved from 0.89586 to 0.82539, saving model to ./model0003.h5\n",
      "6594/6594 [==============================] - 3s 392us/sample - loss: 0.8533 - accuracy: 0.6310 - val_loss: 0.8254 - val_accuracy: 0.6428\n",
      "Epoch 4/50\n",
      "6144/6594 [==========================>...] - ETA: 0s - loss: 0.7983 - accuracy: 0.6624\n",
      "Epoch 00004: val_loss improved from 0.82539 to 0.80230, saving model to ./model0004.h5\n",
      "6594/6594 [==============================] - 3s 422us/sample - loss: 0.7957 - accuracy: 0.6645 - val_loss: 0.8023 - val_accuracy: 0.6671\n",
      "Epoch 5/50\n",
      "6144/6594 [==========================>...] - ETA: 0s - loss: 0.7492 - accuracy: 0.6860\n",
      "Epoch 00005: val_loss improved from 0.80230 to 0.74350, saving model to ./model0005.h5\n",
      "6594/6594 [==============================] - 3s 382us/sample - loss: 0.7509 - accuracy: 0.6861 - val_loss: 0.7435 - val_accuracy: 0.6828\n",
      "Epoch 6/50\n",
      "6144/6594 [==========================>...] - ETA: 0s - loss: 0.7117 - accuracy: 0.7033\n",
      "Epoch 00006: val_loss improved from 0.74350 to 0.70441, saving model to ./model0006.h5\n",
      "6594/6594 [==============================] - 3s 381us/sample - loss: 0.7130 - accuracy: 0.7025 - val_loss: 0.7044 - val_accuracy: 0.6950\n",
      "Epoch 7/50\n",
      "6144/6594 [==========================>...] - ETA: 0s - loss: 0.6779 - accuracy: 0.7183\n",
      "Epoch 00007: val_loss improved from 0.70441 to 0.59948, saving model to ./model0007.h5\n",
      "6594/6594 [==============================] - 3s 392us/sample - loss: 0.6752 - accuracy: 0.7200 - val_loss: 0.5995 - val_accuracy: 0.7514\n",
      "Epoch 8/50\n",
      "6144/6594 [==========================>...] - ETA: 0s - loss: 0.6331 - accuracy: 0.7448\n",
      "Epoch 00008: val_loss improved from 0.59948 to 0.55026, saving model to ./model0008.h5\n",
      "6594/6594 [==============================] - 3s 420us/sample - loss: 0.6312 - accuracy: 0.7442 - val_loss: 0.5503 - val_accuracy: 0.7835\n",
      "Epoch 9/50\n",
      "6144/6594 [==========================>...] - ETA: 0s - loss: 0.5999 - accuracy: 0.7560\n",
      "Epoch 00009: val_loss improved from 0.55026 to 0.53023, saving model to ./model0009.h5\n",
      "6594/6594 [==============================] - 3s 396us/sample - loss: 0.6008 - accuracy: 0.7560 - val_loss: 0.5302 - val_accuracy: 0.7914\n",
      "Epoch 10/50\n",
      "6144/6594 [==========================>...] - ETA: 0s - loss: 0.5706 - accuracy: 0.7729\n",
      "Epoch 00010: val_loss did not improve from 0.53023\n",
      "6594/6594 [==============================] - 2s 358us/sample - loss: 0.5729 - accuracy: 0.7727 - val_loss: 0.5328 - val_accuracy: 0.7914\n",
      "Epoch 11/50\n",
      "6144/6594 [==========================>...] - ETA: 0s - loss: 0.5633 - accuracy: 0.7746\n",
      "Epoch 00011: val_loss did not improve from 0.53023\n",
      "6594/6594 [==============================] - 2s 355us/sample - loss: 0.5670 - accuracy: 0.7721 - val_loss: 0.5461 - val_accuracy: 0.7829\n",
      "Epoch 12/50\n",
      "6144/6594 [==========================>...] - ETA: 0s - loss: 0.5572 - accuracy: 0.7821\n",
      "Epoch 00012: val_loss did not improve from 0.53023\n",
      "6594/6594 [==============================] - 3s 387us/sample - loss: 0.5572 - accuracy: 0.7801 - val_loss: 0.5374 - val_accuracy: 0.7829\n",
      "Epoch 13/50\n",
      "6144/6594 [==========================>...] - ETA: 0s - loss: 0.5422 - accuracy: 0.7884\n",
      "Epoch 00013: val_loss did not improve from 0.53023\n",
      "6594/6594 [==============================] - 2s 349us/sample - loss: 0.5415 - accuracy: 0.7877 - val_loss: 0.5441 - val_accuracy: 0.7859\n",
      "Epoch 14/50\n",
      "6144/6594 [==========================>...] - ETA: 0s - loss: 0.5355 - accuracy: 0.7879\n",
      "Epoch 00014: val_loss improved from 0.53023 to 0.52308, saving model to ./model0014.h5\n",
      "6594/6594 [==============================] - 2s 376us/sample - loss: 0.5377 - accuracy: 0.7865 - val_loss: 0.5231 - val_accuracy: 0.7999\n",
      "Epoch 15/50\n",
      "6144/6594 [==========================>...] - ETA: 0s - loss: 0.5218 - accuracy: 0.7943\n",
      "Epoch 00015: val_loss improved from 0.52308 to 0.50997, saving model to ./model0015.h5\n",
      "6594/6594 [==============================] - 3s 393us/sample - loss: 0.5231 - accuracy: 0.7944 - val_loss: 0.5100 - val_accuracy: 0.7956\n",
      "Epoch 16/50\n",
      "6144/6594 [==========================>...] - ETA: 0s - loss: 0.5154 - accuracy: 0.7970\n",
      "Epoch 00016: val_loss did not improve from 0.50997\n",
      "6594/6594 [==============================] - 2s 359us/sample - loss: 0.5195 - accuracy: 0.7951 - val_loss: 0.5255 - val_accuracy: 0.7968\n",
      "Epoch 17/50\n",
      "6144/6594 [==========================>...] - ETA: 0s - loss: 0.5024 - accuracy: 0.8052\n",
      "Epoch 00017: val_loss did not improve from 0.50997\n",
      "6594/6594 [==============================] - 3s 419us/sample - loss: 0.5049 - accuracy: 0.8033 - val_loss: 0.5268 - val_accuracy: 0.7914\n",
      "Epoch 18/50\n",
      "6144/6594 [==========================>...] - ETA: 0s - loss: 0.5021 - accuracy: 0.7995\n",
      "Epoch 00018: val_loss improved from 0.50997 to 0.50888, saving model to ./model0018.h5\n",
      "6594/6594 [==============================] - 3s 469us/sample - loss: 0.5024 - accuracy: 0.8004 - val_loss: 0.5089 - val_accuracy: 0.7981\n",
      "Epoch 19/50\n",
      "6144/6594 [==========================>...] - ETA: 0s - loss: 0.4944 - accuracy: 0.8058\n",
      "Epoch 00019: val_loss improved from 0.50888 to 0.49554, saving model to ./model0019.h5\n",
      "6594/6594 [==============================] - 3s 386us/sample - loss: 0.4969 - accuracy: 0.8059 - val_loss: 0.4955 - val_accuracy: 0.8035\n",
      "Epoch 20/50\n",
      "6144/6594 [==========================>...] - ETA: 0s - loss: 0.4824 - accuracy: 0.8109\n",
      "Epoch 00020: val_loss did not improve from 0.49554\n",
      "6594/6594 [==============================] - 2s 356us/sample - loss: 0.4811 - accuracy: 0.8110 - val_loss: 0.5144 - val_accuracy: 0.7956\n",
      "Epoch 21/50\n",
      "6144/6594 [==========================>...] - ETA: 0s - loss: 0.4877 - accuracy: 0.8003\n",
      "Epoch 00021: val_loss did not improve from 0.49554\n",
      "6594/6594 [==============================] - 3s 429us/sample - loss: 0.4839 - accuracy: 0.8018 - val_loss: 0.5049 - val_accuracy: 0.8017\n",
      "Epoch 22/50\n",
      "6144/6594 [==========================>...] - ETA: 0s - loss: 0.4815 - accuracy: 0.8076\n",
      "Epoch 00022: val_loss improved from 0.49554 to 0.49018, saving model to ./model0022.h5\n",
      "6594/6594 [==============================] - 3s 389us/sample - loss: 0.4818 - accuracy: 0.8085 - val_loss: 0.4902 - val_accuracy: 0.8084\n",
      "Epoch 23/50\n",
      "6144/6594 [==========================>...] - ETA: 0s - loss: 0.4598 - accuracy: 0.8205\n",
      "Epoch 00023: val_loss improved from 0.49018 to 0.48789, saving model to ./model0023.h5\n",
      "6594/6594 [==============================] - 3s 399us/sample - loss: 0.4600 - accuracy: 0.8201 - val_loss: 0.4879 - val_accuracy: 0.8072\n",
      "Epoch 24/50\n",
      "6144/6594 [==========================>...] - ETA: 0s - loss: 0.4663 - accuracy: 0.8138\n",
      "Epoch 00024: val_loss did not improve from 0.48789\n",
      "6594/6594 [==============================] - 2s 358us/sample - loss: 0.4640 - accuracy: 0.8148 - val_loss: 0.5066 - val_accuracy: 0.8035\n",
      "Epoch 25/50\n",
      "6144/6594 [==========================>...] - ETA: 0s - loss: 0.4496 - accuracy: 0.8250\n",
      "Epoch 00025: val_loss did not improve from 0.48789\n",
      "6594/6594 [==============================] - 3s 391us/sample - loss: 0.4490 - accuracy: 0.8262 - val_loss: 0.5062 - val_accuracy: 0.8029\n",
      "Epoch 26/50\n",
      "6144/6594 [==========================>...] - ETA: 0s - loss: 0.4406 - accuracy: 0.8283\n",
      "Epoch 00026: val_loss did not improve from 0.48789\n",
      "6594/6594 [==============================] - 2s 354us/sample - loss: 0.4389 - accuracy: 0.8297 - val_loss: 0.4925 - val_accuracy: 0.8181\n",
      "Epoch 27/50\n",
      "6144/6594 [==========================>...] - ETA: 0s - loss: 0.4359 - accuracy: 0.8260\n",
      "Epoch 00027: val_loss did not improve from 0.48789\n",
      "6594/6594 [==============================] - 2s 369us/sample - loss: 0.4337 - accuracy: 0.8264 - val_loss: 0.4934 - val_accuracy: 0.8108\n",
      "Epoch 28/50\n",
      "6144/6594 [==========================>...] - ETA: 0s - loss: 0.4220 - accuracy: 0.8354\n",
      "Epoch 00028: val_loss did not improve from 0.48789\n",
      "6594/6594 [==============================] - 2s 351us/sample - loss: 0.4240 - accuracy: 0.8345 - val_loss: 0.4895 - val_accuracy: 0.8138\n",
      "Epoch 29/50\n",
      "6144/6594 [==========================>...] - ETA: 0s - loss: 0.4215 - accuracy: 0.8340\n",
      "Epoch 00029: val_loss did not improve from 0.48789\n",
      "6594/6594 [==============================] - 2s 351us/sample - loss: 0.4194 - accuracy: 0.8361 - val_loss: 0.4975 - val_accuracy: 0.8090\n",
      "Epoch 30/50\n",
      "6144/6594 [==========================>...] - ETA: 0s - loss: 0.4237 - accuracy: 0.8353\n",
      "Epoch 00030: val_loss did not improve from 0.48789\n",
      "6594/6594 [==============================] - 3s 392us/sample - loss: 0.4228 - accuracy: 0.8368 - val_loss: 0.4889 - val_accuracy: 0.8108\n",
      "Epoch 31/50\n",
      "6144/6594 [==========================>...] - ETA: 0s - loss: 0.4122 - accuracy: 0.8379\n",
      "Epoch 00031: val_loss improved from 0.48789 to 0.47740, saving model to ./model0031.h5\n",
      "6594/6594 [==============================] - 3s 479us/sample - loss: 0.4116 - accuracy: 0.8386 - val_loss: 0.4774 - val_accuracy: 0.8169\n",
      "Epoch 32/50\n",
      "6144/6594 [==========================>...] - ETA: 0s - loss: 0.3994 - accuracy: 0.8452\n",
      "Epoch 00032: val_loss did not improve from 0.47740\n",
      "6594/6594 [==============================] - 2s 355us/sample - loss: 0.4015 - accuracy: 0.8433 - val_loss: 0.4878 - val_accuracy: 0.8187\n",
      "Epoch 33/50\n",
      "6144/6594 [==========================>...] - ETA: 0s - loss: 0.4023 - accuracy: 0.8455\n",
      "Epoch 00033: val_loss did not improve from 0.47740\n",
      "6594/6594 [==============================] - 2s 349us/sample - loss: 0.4006 - accuracy: 0.8462 - val_loss: 0.4969 - val_accuracy: 0.8041\n",
      "Epoch 34/50\n",
      "6144/6594 [==========================>...] - ETA: 0s - loss: 0.3920 - accuracy: 0.8480\n",
      "Epoch 00034: val_loss did not improve from 0.47740\n",
      "6594/6594 [==============================] - 3s 385us/sample - loss: 0.3913 - accuracy: 0.8479 - val_loss: 0.5035 - val_accuracy: 0.8053\n",
      "Epoch 35/50\n",
      "6144/6594 [==========================>...] - ETA: 0s - loss: 0.3864 - accuracy: 0.8447\n",
      "Epoch 00035: val_loss did not improve from 0.47740\n",
      "6594/6594 [==============================] - 2s 349us/sample - loss: 0.3890 - accuracy: 0.8436 - val_loss: 0.4898 - val_accuracy: 0.8126\n",
      "Epoch 36/50\n",
      "6144/6594 [==========================>...] - ETA: 0s - loss: 0.3731 - accuracy: 0.8560\n",
      "Epoch 00036: val_loss did not improve from 0.47740\n",
      "6594/6594 [==============================] - 2s 353us/sample - loss: 0.3745 - accuracy: 0.8547 - val_loss: 0.4915 - val_accuracy: 0.8138\n",
      "Epoch 37/50\n",
      "6144/6594 [==========================>...] - ETA: 0s - loss: 0.3876 - accuracy: 0.8496\n",
      "Epoch 00037: val_loss did not improve from 0.47740\n",
      "6594/6594 [==============================] - 2s 356us/sample - loss: 0.3862 - accuracy: 0.8494 - val_loss: 0.4835 - val_accuracy: 0.8175\n",
      "Epoch 38/50\n",
      "6144/6594 [==========================>...] - ETA: 0s - loss: 0.3737 - accuracy: 0.8555\n",
      "Epoch 00038: val_loss did not improve from 0.47740\n",
      "6594/6594 [==============================] - 2s 362us/sample - loss: 0.3726 - accuracy: 0.8567 - val_loss: 0.5043 - val_accuracy: 0.8065\n",
      "Epoch 39/50\n",
      "6144/6594 [==========================>...] - ETA: 0s - loss: 0.3595 - accuracy: 0.8623\n",
      "Epoch 00039: val_loss did not improve from 0.47740\n",
      "6594/6594 [==============================] - 2s 378us/sample - loss: 0.3614 - accuracy: 0.8611 - val_loss: 0.5052 - val_accuracy: 0.8150\n",
      "Epoch 40/50\n",
      "6144/6594 [==========================>...] - ETA: 0s - loss: 0.3537 - accuracy: 0.8639\n",
      "Epoch 00040: val_loss did not improve from 0.47740\n",
      "6594/6594 [==============================] - 2s 356us/sample - loss: 0.3512 - accuracy: 0.8652 - val_loss: 0.4888 - val_accuracy: 0.8150\n",
      "Epoch 41/50\n",
      "6144/6594 [==========================>...] - ETA: 0s - loss: 0.3472 - accuracy: 0.8656\n",
      "Epoch 00041: val_loss did not improve from 0.47740\n",
      "6594/6594 [==============================] - 2s 350us/sample - loss: 0.3489 - accuracy: 0.8632 - val_loss: 0.4912 - val_accuracy: 0.8205\n",
      "Epoch 42/50\n",
      "6144/6594 [==========================>...] - ETA: 0s - loss: 0.3316 - accuracy: 0.8727\n",
      "Epoch 00042: val_loss did not improve from 0.47740\n",
      "6594/6594 [==============================] - 2s 351us/sample - loss: 0.3307 - accuracy: 0.8732 - val_loss: 0.4841 - val_accuracy: 0.8235\n",
      "Epoch 43/50\n",
      "6144/6594 [==========================>...] - ETA: 0s - loss: 0.3303 - accuracy: 0.8701\n",
      "Epoch 00043: val_loss did not improve from 0.47740\n",
      "6594/6594 [==============================] - 3s 384us/sample - loss: 0.3321 - accuracy: 0.8702 - val_loss: 0.4904 - val_accuracy: 0.8247\n",
      "Epoch 44/50\n",
      "6144/6594 [==========================>...] - ETA: 0s - loss: 0.3236 - accuracy: 0.8765\n",
      "Epoch 00044: val_loss did not improve from 0.47740\n",
      "6594/6594 [==============================] - 2s 358us/sample - loss: 0.3220 - accuracy: 0.8770 - val_loss: 0.4934 - val_accuracy: 0.8223\n",
      "Epoch 45/50\n",
      "6144/6594 [==========================>...] - ETA: 0s - loss: 0.3262 - accuracy: 0.8763\n",
      "Epoch 00045: val_loss did not improve from 0.47740\n",
      "6594/6594 [==============================] - 2s 349us/sample - loss: 0.3240 - accuracy: 0.8763 - val_loss: 0.5184 - val_accuracy: 0.8138\n",
      "Epoch 46/50\n",
      "6144/6594 [==========================>...] - ETA: 0s - loss: 0.3253 - accuracy: 0.8763\n",
      "Epoch 00046: val_loss did not improve from 0.47740\n",
      "6594/6594 [==============================] - 2s 351us/sample - loss: 0.3243 - accuracy: 0.8756 - val_loss: 0.4991 - val_accuracy: 0.8235\n",
      "Epoch 47/50\n",
      "6144/6594 [==========================>...] - ETA: 0s - loss: 0.3142 - accuracy: 0.8809\n",
      "Epoch 00047: val_loss did not improve from 0.47740\n",
      "6594/6594 [==============================] - 2s 345us/sample - loss: 0.3142 - accuracy: 0.8810 - val_loss: 0.5177 - val_accuracy: 0.8199\n",
      "Epoch 48/50\n",
      "6144/6594 [==========================>...] - ETA: 0s - loss: 0.3135 - accuracy: 0.8766\n",
      "Epoch 00048: val_loss did not improve from 0.47740\n",
      "6594/6594 [==============================] - 3s 392us/sample - loss: 0.3119 - accuracy: 0.8784 - val_loss: 0.5144 - val_accuracy: 0.8181\n",
      "Epoch 49/50\n",
      "6144/6594 [==========================>...] - ETA: 0s - loss: 0.2989 - accuracy: 0.8835\n",
      "Epoch 00049: val_loss did not improve from 0.47740\n",
      "6594/6594 [==============================] - 2s 357us/sample - loss: 0.2989 - accuracy: 0.8831 - val_loss: 0.5030 - val_accuracy: 0.8247\n",
      "Epoch 50/50\n",
      "6144/6594 [==========================>...] - ETA: 0s - loss: 0.2936 - accuracy: 0.8857\n",
      "Epoch 00050: val_loss did not improve from 0.47740\n",
      "6594/6594 [==============================] - 3s 406us/sample - loss: 0.2937 - accuracy: 0.8861 - val_loss: 0.4977 - val_accuracy: 0.8278\n"
     ]
    }
   ],
   "source": [
    "history = model.fit(x_train, y_train_list, batch_size=BATCH_SIZE, epochs=EPOCHS,\n",
    "                    validation_data=(x_val, y_val_list), callbacks=[es, mc])"
   ]
  },
  {
   "cell_type": "markdown",
   "metadata": {
    "papermill": {
     "duration": 0.475462,
     "end_time": "2022-07-31T18:31:45.183398",
     "exception": false,
     "start_time": "2022-07-31T18:31:44.707936",
     "status": "completed"
    },
    "tags": []
   },
   "source": [
    "# Plot of the Training and Validation Metrics"
   ]
  },
  {
   "cell_type": "code",
   "execution_count": 35,
   "metadata": {
    "execution": {
     "iopub.execute_input": "2022-07-31T18:09:30.109579Z",
     "iopub.status.busy": "2022-07-31T18:09:30.109203Z",
     "iopub.status.idle": "2022-07-31T18:09:30.432418Z",
     "shell.execute_reply": "2022-07-31T18:09:30.431502Z",
     "shell.execute_reply.started": "2022-07-31T18:09:30.109523Z"
    },
    "papermill": {
     "duration": 0.843591,
     "end_time": "2022-07-31T18:31:46.501770",
     "exception": false,
     "start_time": "2022-07-31T18:31:45.658179",
     "status": "completed"
    },
    "tags": []
   },
   "outputs": [
    {
     "data": {
      "image/png": "[encoded data removed]",
      "text/plain": [
       "<Figure size 432x288 with 1 Axes>"
      ]
     },
     "metadata": {
      "needs_background": "light"
     },
     "output_type": "display_data"
    },
    {
     "data": {
      "image/png": "[encoded data removed]",
      "text/plain": [
       "<Figure size 432x288 with 1 Axes>"
      ]
     },
     "metadata": {
      "needs_background": "light"
     },
     "output_type": "display_data"
    }
   ],
   "source": [
    "plt.plot(history.history['accuracy'])\n",
    "plt.plot(history.history['val_accuracy'])\n",
    "plt.title('model accuracy')\n",
    "plt.ylabel('accuracy')\n",
    "plt.xlabel('epoch')\n",
    "plt.legend(['train', 'validation'], loc='upper left')\n",
    "plt.show()\n",
    "# summarize history for loss\n",
    "plt.plot(history.history['loss'])\n",
    "plt.plot(history.history['val_loss'])\n",
    "plt.title('model loss')\n",
    "plt.ylabel('loss')\n",
    "plt.xlabel('epoch')\n",
    "plt.legend(['train', 'validation'], loc='upper left')\n",
    "plt.show()"
   ]
  },
  {
   "cell_type": "markdown",
   "metadata": {
    "papermill": {
     "duration": 0.473728,
     "end_time": "2022-07-31T18:31:47.452210",
     "exception": false,
     "start_time": "2022-07-31T18:31:46.978482",
     "status": "completed"
    },
    "tags": []
   },
   "source": [
    "# Test Data Evaluation"
   ]
  },
  {
   "cell_type": "code",
   "execution_count": 36,
   "metadata": {
    "execution": {
     "iopub.execute_input": "2022-07-31T18:09:43.074940Z",
     "iopub.status.busy": "2022-07-31T18:09:43.074319Z",
     "iopub.status.idle": "2022-07-31T18:09:45.826581Z",
     "shell.execute_reply": "2022-07-31T18:09:45.825692Z",
     "shell.execute_reply.started": "2022-07-31T18:09:43.074720Z"
    },
    "papermill": {
     "duration": 3.21401,
     "end_time": "2022-07-31T18:31:51.231079",
     "exception": false,
     "start_time": "2022-07-31T18:31:48.017069",
     "status": "completed"
    },
    "tags": []
   },
   "outputs": [
    {
     "name": "stdout",
     "output_type": "stream",
     "text": [
      "1861/1861 [==============================] - 3s 1ms/sample - loss: 0.6224 - accuracy: 0.7834\n",
      "Test Loss: 0.622403577258355\n",
      "Test Accuracy: 0.78344977\n"
     ]
    }
   ],
   "source": [
    "test_acc = model.evaluate(x_test, y_test_list, verbose=1)\n",
    "print(\"Test Loss:\", test_acc[0])\n",
    "print(\"Test Accuracy:\", test_acc[1])"
   ]
  },
  {
   "cell_type": "code",
   "execution_count": 37,
   "metadata": {
    "execution": {
     "iopub.execute_input": "2022-07-31T18:09:45.829708Z",
     "iopub.status.busy": "2022-07-31T18:09:45.829186Z",
     "iopub.status.idle": "2022-07-31T18:09:48.732676Z",
     "shell.execute_reply": "2022-07-31T18:09:48.731815Z",
     "shell.execute_reply.started": "2022-07-31T18:09:45.829643Z"
    },
    "papermill": {
     "duration": 3.345342,
     "end_time": "2022-07-31T18:31:55.060464",
     "exception": false,
     "start_time": "2022-07-31T18:31:51.715122",
     "status": "completed"
    },
    "tags": []
   },
   "outputs": [],
   "source": [
    "y_pred = model.predict(x_test, verbose=0)\n",
    "yhat = np.argmax(y_pred,axis=1)\n",
    "y_true = np.argmax(y_test_list,axis = 1)"
   ]
  },
  {
   "cell_type": "code",
   "execution_count": 38,
   "metadata": {
    "execution": {
     "iopub.execute_input": "2022-07-31T18:09:48.743820Z",
     "iopub.status.busy": "2022-07-31T18:09:48.743155Z",
     "iopub.status.idle": "2022-07-31T18:09:48.752440Z",
     "shell.execute_reply": "2022-07-31T18:09:48.750882Z",
     "shell.execute_reply.started": "2022-07-31T18:09:48.743755Z"
    },
    "papermill": {
     "duration": 0.490579,
     "end_time": "2022-07-31T18:31:56.064556",
     "exception": false,
     "start_time": "2022-07-31T18:31:55.573977",
     "status": "completed"
    },
    "tags": []
   },
   "outputs": [
    {
     "data": {
      "text/plain": [
       "0.7834497581945191"
      ]
     },
     "execution_count": 38,
     "metadata": {},
     "output_type": "execute_result"
    }
   ],
   "source": [
    "accuracy_score(y_true,yhat)"
   ]
  },
  {
   "cell_type": "code",
   "execution_count": 39,
   "metadata": {
    "execution": {
     "iopub.execute_input": "2022-07-31T18:09:48.755036Z",
     "iopub.status.busy": "2022-07-31T18:09:48.754636Z",
     "iopub.status.idle": "2022-07-31T18:09:48.763775Z",
     "shell.execute_reply": "2022-07-31T18:09:48.762870Z",
     "shell.execute_reply.started": "2022-07-31T18:09:48.754983Z"
    },
    "papermill": {
     "duration": 0.494489,
     "end_time": "2022-07-31T18:31:57.037371",
     "exception": false,
     "start_time": "2022-07-31T18:31:56.542882",
     "status": "completed"
    },
    "tags": []
   },
   "outputs": [
    {
     "data": {
      "text/plain": [
       "0.7535799330769279"
      ]
     },
     "execution_count": 39,
     "metadata": {},
     "output_type": "execute_result"
    }
   ],
   "source": [
    "precision_score(y_true,yhat, average='macro')"
   ]
  },
  {
   "cell_type": "code",
   "execution_count": 40,
   "metadata": {
    "execution": {
     "iopub.execute_input": "2022-07-31T18:09:48.766175Z",
     "iopub.status.busy": "2022-07-31T18:09:48.765487Z",
     "iopub.status.idle": "2022-07-31T18:09:48.774833Z",
     "shell.execute_reply": "2022-07-31T18:09:48.773984Z",
     "shell.execute_reply.started": "2022-07-31T18:09:48.766046Z"
    },
    "papermill": {
     "duration": 0.523112,
     "end_time": "2022-07-31T18:31:58.039361",
     "exception": false,
     "start_time": "2022-07-31T18:31:57.516249",
     "status": "completed"
    },
    "tags": []
   },
   "outputs": [
    {
     "data": {
      "text/plain": [
       "0.7802855517636224"
      ]
     },
     "execution_count": 40,
     "metadata": {},
     "output_type": "execute_result"
    }
   ],
   "source": [
    "recall_score(y_true,yhat, average='macro')"
   ]
  },
  {
   "cell_type": "code",
   "execution_count": 41,
   "metadata": {
    "execution": {
     "iopub.execute_input": "2022-07-31T18:09:48.778252Z",
     "iopub.status.busy": "2022-07-31T18:09:48.776539Z",
     "iopub.status.idle": "2022-07-31T18:09:48.786604Z",
     "shell.execute_reply": "2022-07-31T18:09:48.785035Z",
     "shell.execute_reply.started": "2022-07-31T18:09:48.778188Z"
    },
    "papermill": {
     "duration": 0.604764,
     "end_time": "2022-07-31T18:31:59.125440",
     "exception": false,
     "start_time": "2022-07-31T18:31:58.520676",
     "status": "completed"
    },
    "tags": []
   },
   "outputs": [
    {
     "data": {
      "text/plain": [
       "0.7646448013420489"
      ]
     },
     "execution_count": 41,
     "metadata": {},
     "output_type": "execute_result"
    }
   ],
   "source": [
    "f1_score(y_true,yhat, average='macro')"
   ]
  }
 ],
 "metadata": {
  "kernelspec": {
   "display_name": "Python 3",
   "language": "python",
   "name": "python3"
  },
  "language_info": {
   "codemirror_mode": {
    "name": "ipython",
    "version": 3
   },
   "file_extension": ".py",
   "mimetype": "text/x-python",
   "name": "python",
   "nbconvert_exporter": "python",
   "pygments_lexer": "ipython3",
   "version": "3.7.6"
  },
  "papermill": {
   "duration": 440.889815,
   "end_time": "2022-07-31T18:32:01.410714",
   "environment_variables": {},
   "exception": null,
   "input_path": "__notebook__.ipynb",
   "output_path": "__notebook__.ipynb",
   "parameters": {},
   "start_time": "2022-07-31T18:24:40.520899",
   "version": "1.2.1"
  }
 },
 "nbformat": 4,
 "nbformat_minor": 4
}
